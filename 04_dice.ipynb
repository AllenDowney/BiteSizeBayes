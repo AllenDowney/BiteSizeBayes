{
 "cells": [
  {
   "cell_type": "markdown",
   "metadata": {},
   "source": [
    "# Bite Size Bayes\n",
    "\n",
    "Copyright 2020 Allen B. Downey\n",
    "\n",
    "License: [Attribution-NonCommercial-ShareAlike 4.0 International (CC BY-NC-SA 4.0)](https://creativecommons.org/licenses/by-nc-sa/4.0/)"
   ]
  },
  {
   "cell_type": "markdown",
   "metadata": {},
   "source": [
    "## Review\n",
    "\n",
    "[In the previous notebook](https://colab.research.google.com/github/AllenDowney/BiteSizeBayes/blob/master/03_cookie.ipynb) we started with Bayes's Theorem, written like this:\n",
    "\n",
    "$P(A|B) = P(A) ~ P(B|A) ~/~ P(B)$\n",
    "\n",
    "And applied it to the case where we use data, $D$, to update the probability of a hypothesis, $H$.  In this context, we write Bayes's Theorem like this:\n",
    "\n",
    "$P(H|D) = P(H) ~ P(D|H) ~/~ P(D)$\n",
    "\n",
    "And give each term a name:\n",
    "\n",
    "* $P(H)$ is the \"prior probability\" of the hypothesis, which represents how confident you are that $H$ is true prior to seeing the data,\n",
    "\n",
    "* $P(D|H)$ is the \"likelihood\" of the data, which is the probability of seeing $D$ if the hypothesis is true,\n",
    "\n",
    "* $P(D)$ is the \"total probability of the data\", that is, the chance of seeing $D$ regardless of whether $H$ is true or not.\n",
    "\n",
    "* $P(H|D)$ is the \"posterior probability\" of the hypothesis, which indicates how confident you should be that $H$ is true after taking the data into account.\n",
    "\n",
    "We used Bayes's Theorem to solve a cookie-related problem, and I presented the Bayes table, a way to solve Bayesian problems more generally.  I didn't really explain how it works, though.  That's the goal of this notebook.\n",
    "\n",
    "I'll start by extending the table method to a problem with more than two hypotheses."
   ]
  },
  {
   "cell_type": "markdown",
   "metadata": {},
   "source": [
    "## More hypotheses\n",
    "\n",
    "One nice thing about the table method is that it works with more than two hypotheses.  As an example, let's do another version of the cookie problem.\n",
    "\n",
    "Suppose you have five bowls:\n",
    "\n",
    "* Bowl 0 contains no vanilla cookies.\n",
    "\n",
    "* Bowl 1 contains 25% vanilla cookies.\n",
    "\n",
    "* Bowl 2 contains 50% vanilla cookies.\n",
    "\n",
    "* Bowl 3 contains 75% vanilla cookies.\n",
    "\n",
    "* Bowl 4 contains 100% vanilla cookies.\n",
    "\n",
    "Now suppose we choose a bowl at random and then choose a cookie, and we get a vanilla cookie.  What is the posterior probability that we chose each bowl?\n",
    "\n",
    "Here's a table that represents the five hypotheses and their prior probabilities:"
   ]
  },
  {
   "cell_type": "code",
   "execution_count": 1,
   "metadata": {},
   "outputs": [],
   "source": [
    "import pandas as pd\n",
    "\n",
    "table = pd.DataFrame()\n",
    "table['prior'] = 1/5, 1/5, 1/5, 1/5, 1/5\n",
    "table"
   ]
  },
  {
   "cell_type": "markdown",
   "metadata": {},
   "source": [
    "The likelihood of drawing a vanilla cookie from each bowl is the given proportion of vanilla cookies:"
   ]
  },
  {
   "cell_type": "code",
   "execution_count": 2,
   "metadata": {},
   "outputs": [],
   "source": [
    "table['likelihood'] = 0, 0.25, 0.5, 0.75, 1\n",
    "table"
   ]
  },
  {
   "cell_type": "markdown",
   "metadata": {},
   "source": [
    "Once we have priors and likelihoods, the remaining steps are always the same.  We compute the unnormalized posteriors:"
   ]
  },
  {
   "cell_type": "code",
   "execution_count": 3,
   "metadata": {},
   "outputs": [],
   "source": [
    "table['unnorm'] = table['prior'] * table['likelihood']\n",
    "table"
   ]
  },
  {
   "cell_type": "markdown",
   "metadata": {},
   "source": [
    "And the total probability of the data."
   ]
  },
  {
   "cell_type": "code",
   "execution_count": 4,
   "metadata": {},
   "outputs": [],
   "source": [
    "prob_data = table['unnorm'].sum()\n",
    "prob_data"
   ]
  },
  {
   "cell_type": "markdown",
   "metadata": {},
   "source": [
    "Then divide through to get the normalized posteriors."
   ]
  },
  {
   "cell_type": "code",
   "execution_count": 5,
   "metadata": {},
   "outputs": [],
   "source": [
    "table['posterior'] = table['unnorm'] / prob_data\n",
    "table"
   ]
  },
  {
   "cell_type": "markdown",
   "metadata": {},
   "source": [
    "Two things you might notice about these results:\n",
    "\n",
    "1. One of the hypotheses has a posterior probability of 0, which means it has been ruled out entirely.  And that makes sense: Bowl 0 contains no vanilla cookies, so if we get a vanilla cookie, we know it's not from Bowl 0.\n",
    "\n",
    "2. The posterior probabilities form a straight line.  We can see this more clearly by plotting the results."
   ]
  },
  {
   "cell_type": "code",
   "execution_count": 6,
   "metadata": {},
   "outputs": [],
   "source": [
    "import matplotlib.pyplot as plt"
   ]
  },
  {
   "cell_type": "code",
   "execution_count": 7,
   "metadata": {},
   "outputs": [],
   "source": [
    "table['posterior'].plot(kind='bar')\n",
    "plt.xlabel('Bowl #')\n",
    "plt.ylabel('Posterior probability');"
   ]
  },
  {
   "cell_type": "markdown",
   "metadata": {},
   "source": [
    "**Exercise:**  Use the table method to solve the following problem and plot the results as a bar chart.\n",
    "\n",
    ">The blue M&M was introduced in 1995.  Before then, the color mix in a bag of plain M&Ms was (30% Brown, 20% Yellow, 20% Red, 10% Green, 10% Orange, 10% Tan).  \n",
    ">\n",
    ">Afterward it was (24% Blue , 20% Green, 16% Orange, 14% Yellow, 13% Red, 13% Brown).\n",
    ">\n",
    ">A friend of mine has two bags of M&Ms, and he tells me that one is from 1994 and one from 1996.  He won't tell me which is which, but he gives me one M&M from each bag.  One is yellow and one is green.  What is the probability that the yellow M&M came from the 1994 bag?\n",
    "\n",
    "Hint: If the yellow came from 1994, the green must have come from 1996.  By Theorem 2 (conjunction), the likelihood of this combination is (0.2)(0.2)."
   ]
  },
  {
   "cell_type": "code",
   "execution_count": 8,
   "metadata": {},
   "outputs": [],
   "source": [
    "# Solution goes here"
   ]
  },
  {
   "cell_type": "code",
   "execution_count": 9,
   "metadata": {},
   "outputs": [],
   "source": [
    "# Solution goes here"
   ]
  },
  {
   "cell_type": "markdown",
   "metadata": {},
   "source": [
    "## Why does this work?\n",
    "\n",
    "Now I will explain how the table method works, making two arguments:\n",
    "\n",
    "1. First, I'll show that it makes sense to normalize the posteriors so they add up to 1.\n",
    "\n",
    "2. Then I'll show that this step is consistent with Bayes's Theorem, because the total of the unnormalized posteriors is the total probability of the data, $P(D)$.\n",
    "\n",
    "Here's the first argument.  Let's start with Bayes's Theorem:\n",
    "\n",
    "$P(H|D) = P(H) ~ P(D|H)~/~P(D)$\n",
    "\n",
    "Notice that the denominator, $P(D)$, does not depend on $H$, so it is the same for all hypotheses.  If we factor it out, we get:\n",
    "\n",
    "$P(H|D) \\sim P(H) ~ P(D|H)$\n",
    "\n",
    "which says that the posterior probabilities *are proportional to* the unnormalized posteriors.  In other words, if we leave out $P(D)$, we get the proportions right, but not the total."
   ]
  },
  {
   "cell_type": "markdown",
   "metadata": {},
   "source": [
    "Then how do we figure out the total?  Well, in this example we know that the cookie came from exactly one of the bowls.  So the hypotheses are:\n",
    "\n",
    "* Mutually exclusive, that is, only one of them can be true, and\n",
    "\n",
    "* Collectively exhaustive, that is, at least one of them must be true.\n",
    "\n",
    "Exactly one of the hypotheses must be true, so the posterior probabilities have to add up to 1.  Most of the time, the unnormalized posteriors don't add up to 1, but when we divide through by the total, we ensure that the *normalized* posteriors do.\n",
    "\n",
    "That's the first argument.  I hope it makes some sense, but if you don't find it entirely satisfying, keep going."
   ]
  },
  {
   "cell_type": "markdown",
   "metadata": {},
   "source": [
    "## Rolling the dice\n",
    "\n",
    "Before I can make the second argument, we need one more law of probability, which I will explain with a new example:\n",
    "\n",
    "> Suppose you have a 4-sided die and a 6-sided die.  You choose one at random and roll it.  What is the probability of getting a 1?\n",
    "\n",
    "To answer that, I'll define two hypotheses and a datum:\n",
    "\n",
    "* $H_4$: You chose the 4-sided die.\n",
    "\n",
    "* $H_6$: You chose the 6-sided die.\n",
    "\n",
    "* $D$: You rolled a 1."
   ]
  },
  {
   "cell_type": "markdown",
   "metadata": {},
   "source": [
    "On a 4-sided die, the probability of rolling 1 is $1/4$; on a 6-sided die it is $1/6$.  So we can write the conditional probabilities:\n",
    "\n",
    "$P(D|H_4) = 1/4$\n",
    "\n",
    "$P(D|H_6) = 1/6$\n",
    "\n",
    "And if the probability of choosing either die is equal, we know the prior probabilities:\n",
    "\n",
    "$P(H_4) = 1/2$\n",
    "\n",
    "$P(H_6) = 1/2$"
   ]
  },
  {
   "cell_type": "markdown",
   "metadata": {},
   "source": [
    "But what is the total probability of the data, $P(D)$?\n",
    "\n",
    "At this point your intuition might tell you that it is the weighted sum of the conditional probabilities:\n",
    "\n",
    "$P(D) = P(H_4)P(D|H_4) + P(H_6)P(D|H_6)$\n",
    "\n",
    "Which is\n",
    "\n",
    "$P(D) = (1/2)(1/4) + (1/2)(1/6)$\n",
    "\n",
    "Which is"
   ]
  },
  {
   "cell_type": "code",
   "execution_count": 1,
   "metadata": {},
   "outputs": [],
   "source": [
    "(1/2)*(1/4) + (1/2)*(1/6)"
   ]
  },
  {
   "cell_type": "markdown",
   "metadata": {},
   "source": [
    "And that's correct.  But if your intuition did not tell you that, or if you would like to see something closer to a proof, keep going."
   ]
  },
  {
   "cell_type": "markdown",
   "metadata": {},
   "source": [
    "## Disjunction\n",
    "\n",
    "In this example, we can describe the outcome in terms of logical operators like this:\n",
    "\n",
    "> The outcome is 1 if you choose the 4-sided die **and** roll 1 **or** you roll the 6-sided die **and** roll 1.\n",
    "\n",
    "Using math notation, $D$ is true if:\n",
    "\n",
    "$(H_4 ~and~ D) ~or~ (H_6 ~and~ D)$\n",
    "\n",
    "We've already seen the $and$ operator, also known as \"conjunction\", but we have not yet seen the $or$ operator, which is also known as \"disjunction\"?\n",
    "\n",
    "For that, we a new rule, which I'll call **Theorem 4**:\n",
    "\n",
    "$P(A ~or~ B) = P(A) + P(B) - P(A ~and~ B)$"
   ]
  },
  {
   "cell_type": "markdown",
   "metadata": {},
   "source": [
    "To see why that's true, let's take a look at the Venn diagram:\n",
    "\n",
    "<img width=\"200\" src=\"https://github.com/AllenDowney/BiteSizeBayes/raw/master/theorem4_venn_diagram.png\">\n",
    "\n",
    "What we want is the total of the blue, red, and purple regions.  If we add $P(A)$ and $P(B)$, we get the blue and red regions right, but we double-count the purple region.  So we have to subtract off one purple region, which is $P(A ~and~ B)$."
   ]
  },
  {
   "cell_type": "markdown",
   "metadata": {},
   "source": [
    "**Exercise:** Let's do a quick example using disjunction.  \n",
    "\n",
    "A standard deck of playing cards contains 52 cards; \n",
    "\n",
    "* 26 of them are red, \n",
    "\n",
    "* 12 of them are face cards, and \n",
    "\n",
    "* 6 of them are red face cards.\n",
    "\n",
    "The following diagram shows what I mean: the red rectangle contains the red cards; the blue rectangle contains the face cards, and the overlap includes the red face cards.\n",
    "\n",
    "<img width=\"500\"\n",
    "     src=\"https://github.com/AllenDowney/BiteSizeBayes/raw/master/card_venn_diagram.png\">\n",
    "\n",
    "\n",
    "If we choose a card at random, here are the probabilities of choosing a red card, a face card, and a red face card:"
   ]
  },
  {
   "cell_type": "code",
   "execution_count": 11,
   "metadata": {},
   "outputs": [],
   "source": [
    "p_red = 26/52\n",
    "p_face = 12/52\n",
    "p_red_face = 6/52\n",
    "\n",
    "p_red, p_face, p_red_face"
   ]
  },
  {
   "cell_type": "markdown",
   "metadata": {},
   "source": [
    "Use Theorem 4 to compute the probability of choosing a card that is either red, or a face card, or both:"
   ]
  },
  {
   "cell_type": "code",
   "execution_count": 12,
   "metadata": {},
   "outputs": [],
   "source": [
    "# Solution goes here"
   ]
  },
  {
   "cell_type": "markdown",
   "metadata": {},
   "source": [
    "## Total probability\n",
    "\n",
    "In the dice example, $H_4$ and $H_6$ are mutually exclusive, which means only one of them can be true, so the purple region is 0.  Therefore:\n",
    "\n",
    "$P(D) = P(H_4 ~and~ D) + P(H_6 ~and~ D) - 0$\n",
    "\n",
    "Now we can use **Theorem 2** to replace the conjunctions with conditonal probabilities:\n",
    "\n",
    "$P(D) = P(H_4)~P(D|H_4) + P(H_6)~P(D|H_6)$\n",
    "\n",
    "By a similar argument, we can show that this is true for any number of hypotheses.  For example, if we add an 8-sided die to the mix, we can write:\n",
    "\n",
    "$P(D) = P(H_4)~P(D|H_4) + P(H_6)~P(D|H_6) + P(H_8)~P(D|H_8)$"
   ]
  },
  {
   "cell_type": "markdown",
   "metadata": {},
   "source": [
    "And more generally, with any number of hypotheses $H_i$:\n",
    "\n",
    "$P(D) = \\sum_i P(H_i)~P(D|H_i)$\n",
    "\n",
    "Which shows that the total probability of the data is the sum of the unnormalized posteriors.\n",
    "\n",
    "And that's why the table method works."
   ]
  },
  {
   "cell_type": "markdown",
   "metadata": {},
   "source": [
    "Now let's get back to the original question:\n",
    "\n",
    "> Suppose you have a 4-sided die and a 6-sided die.  You choose one at random and roll it.  What is the probability of getting a 1?\n",
    "\n",
    "We can use a Bayes table to compute the answer.  Here are the priors:"
   ]
  },
  {
   "cell_type": "code",
   "execution_count": 13,
   "metadata": {},
   "outputs": [],
   "source": [
    "table = pd.DataFrame(index=['H4', 'H6'])\n",
    "table['prior'] = 1/2, 1/2\n",
    "table"
   ]
  },
  {
   "cell_type": "markdown",
   "metadata": {},
   "source": [
    "And the likelihoods:"
   ]
  },
  {
   "cell_type": "code",
   "execution_count": 14,
   "metadata": {},
   "outputs": [],
   "source": [
    "table['likelihood'] = 1/4, 1/6\n",
    "table"
   ]
  },
  {
   "cell_type": "markdown",
   "metadata": {},
   "source": [
    "Now we compute the unnormalized posteriors in the usual way:"
   ]
  },
  {
   "cell_type": "code",
   "execution_count": 15,
   "metadata": {},
   "outputs": [],
   "source": [
    "table['unnorm'] = table['prior'] * table['likelihood']\n",
    "table"
   ]
  },
  {
   "cell_type": "markdown",
   "metadata": {},
   "source": [
    "And the total probability of the data:"
   ]
  },
  {
   "cell_type": "code",
   "execution_count": 16,
   "metadata": {},
   "outputs": [],
   "source": [
    "prob_data = table['unnorm'].sum()\n",
    "prob_data"
   ]
  },
  {
   "cell_type": "markdown",
   "metadata": {},
   "source": [
    "That's what we got when we solved the problem by hand, so that's good."
   ]
  },
  {
   "cell_type": "markdown",
   "metadata": {},
   "source": [
    "**Exercise:** Suppose you have a 4-sided, 6-sided, and 8-sided die.  You choose one at random and roll it, what is the probability of getting a 1?\n",
    "\n",
    "Do you expect it to be higher or lower than in the previous example?"
   ]
  },
  {
   "cell_type": "code",
   "execution_count": 17,
   "metadata": {},
   "outputs": [],
   "source": [
    "# Solution goes here"
   ]
  },
  {
   "cell_type": "code",
   "execution_count": 18,
   "metadata": {},
   "outputs": [],
   "source": [
    "# Solution goes here"
   ]
  },
  {
   "cell_type": "markdown",
   "metadata": {},
   "source": [
    "## Prediction and inference\n",
    "\n",
    "In the previous section, we use a Bayes table to solve this problem:\n",
    "\n",
    "> Suppose you have a 4-sided die and a 6-sided die.  You choose one at random and roll it.  What is the probability of getting a 1?\n",
    "\n",
    "I'll call this a \"prediction problem\" because we are given a scenario and asked for the probability of a predicted outcome.\n",
    "\n",
    "Now let's solve a closely-related problem:\n",
    "\n",
    "> Suppose you have a 4-sided die and a 6-sided die.  You choose one at random, roll it, and get a 1.  What is the probability that the die you rolled is 4-sided?\n",
    "\n",
    "I'll call this an \"inference problem\" because we are given the outcome and asked to figure out, or \"infer\", which die was rolled.\n",
    "\n",
    "Here's a solution:"
   ]
  },
  {
   "cell_type": "code",
   "execution_count": 19,
   "metadata": {},
   "outputs": [],
   "source": [
    "table = pd.DataFrame(index=['H4', 'H6'])\n",
    "table['prior'] = 1/2, 1/2\n",
    "table['likelihood'] = 1/4, 1/6\n",
    "table['unnorm'] = table['prior'] * table['likelihood']\n",
    "prob_data = table['unnorm'].sum()\n",
    "table['posterior'] = table['unnorm'] / prob_data\n",
    "table"
   ]
  },
  {
   "cell_type": "markdown",
   "metadata": {},
   "source": [
    "Given that the outcome is a 1, there is a 60% chance the die you rolled was 4-sided.\n",
    "\n",
    "As this example shows, prediction and inference closely-related problems, and we can use the same methods for both."
   ]
  },
  {
   "cell_type": "markdown",
   "metadata": {},
   "source": [
    "**Exercise:** Let's add some more dice:\n",
    "\n",
    "1. Suppose you have a 4-sided, 6-sided, 8-sided, and 12-sided die.  You choose one at random and roll it.  What is the probabily of getting a 1?\n",
    "\n",
    "2. Now suppose the outcome is a 1. What is the probability that the die you rolled is 4-sided?  And what are the posterior probabilities for the other dice?"
   ]
  },
  {
   "cell_type": "code",
   "execution_count": 20,
   "metadata": {},
   "outputs": [],
   "source": [
    "# Solution goes here"
   ]
  },
  {
   "cell_type": "code",
   "execution_count": 21,
   "metadata": {},
   "outputs": [],
   "source": [
    "# Solution goes here"
   ]
  },
  {
   "cell_type": "markdown",
   "metadata": {},
   "source": [
    "## Summary\n",
    "\n",
    "In this notebook, I introduced a new law of probability, so now we have four:\n",
    "\n",
    "**Theorem 1** gives us a way to compute a conditional probability using a conjunction:\n",
    "\n",
    "$P(A|B) = \\frac{P(A~\\mathrm{and}~B)}{P(B)}$ \n",
    "\n",
    "**Theorem 2** gives us a way to compute a conjunction using a conditional probability:\n",
    "\n",
    "$P(A~\\mathrm{and}~B) = P(B) P(A|B)$\n",
    "\n",
    "**Theorem 3** gives us a way to get from $P(A|B)$ to $P(B|A)$, or the other way around:\n",
    "\n",
    "$P(A|B) = \\frac{P(A) P(B|A)}{P(B)}$\n",
    "\n",
    "**Theorem 4** gives us a way to compute a disjunction using a conjunction.\n",
    "\n",
    "$P(A ~or~ B) = P(A) + P(B) - P(A ~and~ B)$\n",
    "\n",
    "Then we used Theorems 2 and 4 to show that the sum of the unnormalized posteriors is the total probability of the data, which we wrote like this:\n",
    "\n",
    "$P(D) = \\sum_i P(H_i)~P(D|H_i)$\n",
    "\n",
    "This conclusion is useful for two reasons:\n",
    "\n",
    "1. It provides a way to compute the probability of future data using prior probabilities and likelihoods, and\n",
    "\n",
    "2. It explains why the Bayes table method works.\n",
    "\n",
    "[In the next notebook](https://colab.research.google.com/github/AllenDowney/BiteSizeBayes/blob/master/05_test.ipynb) we will explore a famously useful application of Bayes's Theorem, medical testing."
   ]
  },
  {
   "cell_type": "code",
   "execution_count": null,
   "metadata": {},
   "outputs": [],
   "source": []
  }
 ],
 "metadata": {
  "kernelspec": {
   "display_name": "Python 3",
   "language": "python",
   "name": "python3"
  },
  "language_info": {
   "codemirror_mode": {
    "name": "ipython",
    "version": 3
   },
   "file_extension": ".py",
   "mimetype": "text/x-python",
   "name": "python",
   "nbconvert_exporter": "python",
   "pygments_lexer": "ipython3",
   "version": "3.7.6"
  }
 },
 "nbformat": 4,
 "nbformat_minor": 2
}
