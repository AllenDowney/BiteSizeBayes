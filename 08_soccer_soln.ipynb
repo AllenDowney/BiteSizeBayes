{
 "cells": [
  {
   "cell_type": "markdown",
   "metadata": {},
   "source": [
    "# Bite Size Bayes\n",
    "\n",
    "Copyright 2020 Allen B. Downey\n",
    "\n",
    "License: [Attribution-NonCommercial-ShareAlike 4.0 International (CC BY-NC-SA 4.0)](https://creativecommons.org/licenses/by-nc-sa/4.0/)"
   ]
  },
  {
   "cell_type": "code",
   "execution_count": 1,
   "metadata": {},
   "outputs": [],
   "source": [
    "import numpy as np\n",
    "import pandas as pd\n",
    "\n",
    "import matplotlib.pyplot as plt"
   ]
  },
  {
   "cell_type": "markdown",
   "metadata": {},
   "source": [
    "## The World Cup problem\n",
    "\n",
    "In the 2018 FIFA World Cup final, France defeated Croatia 4 goals to 2.  Based on this outcome:\n",
    "\n",
    "1. How confident should we be that France is the better team?\n",
    "\n",
    "2. If the same teams played again, what is the chance Croatia would win?\n",
    "\n",
    "To answer these questions, we have to make some modeling decisions.\n",
    "\n",
    "* First, I'll assume that for any team against any other team there is some unknown goal-scoring rate, measured in goals per game, which I'll denote λ.\n",
    "\n",
    "* Second, I'll assume that a goal is equally likely during any minute of a game.  So, in a 90 minute game, the probability of scoring during any minute is $\\lambda/90$.\n",
    "\n",
    "* Third, I'll assume that a team never scores twice during the same minute.\n",
    "\n",
    "Of course, none of these assumptions is absolutely true in the real world, but I think they are reasonable simplifications.\n",
    "\n",
    "As George Box said, \"All models are false; some are useful.\""
   ]
  },
  {
   "cell_type": "markdown",
   "metadata": {},
   "source": [
    "## Goal-scoring\n",
    "\n",
    "Given these assumptions, we can simulate the goal-scoring process by tossing 90 imaginary coins, one for each minute of the game, with the same probability of yielding a goal.  Here's a function that does it:"
   ]
  },
  {
   "cell_type": "code",
   "execution_count": 2,
   "metadata": {},
   "outputs": [],
   "source": [
    "def flip(n, p):\n",
    "    \"\"\"Flips n coins and returns the number of heads.\n",
    "    \n",
    "    n: number of coins\n",
    "    p: probability of heads\n",
    "    \"\"\"\n",
    "    return np.sum(np.random.random(n) < p)"
   ]
  },
  {
   "cell_type": "markdown",
   "metadata": {},
   "source": [
    "As an example, suppose we know the goal scoring rate is 1.4; we can compute `p` like this:"
   ]
  },
  {
   "cell_type": "code",
   "execution_count": 3,
   "metadata": {},
   "outputs": [],
   "source": [
    "λ = 1.4\n",
    "n = 90\n",
    "p = λ / n"
   ]
  },
  {
   "cell_type": "markdown",
   "metadata": {},
   "source": [
    "And call `flip` like this:"
   ]
  },
  {
   "cell_type": "code",
   "execution_count": 4,
   "metadata": {},
   "outputs": [
    {
     "data": {
      "text/plain": [
       "2"
      ]
     },
     "execution_count": 4,
     "metadata": {},
     "output_type": "execute_result"
    }
   ],
   "source": [
    "flip(n, p)"
   ]
  },
  {
   "cell_type": "markdown",
   "metadata": {},
   "source": [
    "Each time you call flip, you get a different number of goals.  Here's a list of 10 simulated scores:"
   ]
  },
  {
   "cell_type": "code",
   "execution_count": 5,
   "metadata": {},
   "outputs": [
    {
     "data": {
      "text/plain": [
       "[3, 2, 2, 3, 1, 1, 2, 3, 0, 1]"
      ]
     },
     "execution_count": 5,
     "metadata": {},
     "output_type": "execute_result"
    }
   ],
   "source": [
    "[flip(n, p) for i in range(10)]"
   ]
  },
  {
   "cell_type": "markdown",
   "metadata": {},
   "source": [
    "If we simulate many games, we expect the mean to be near 1.4."
   ]
  },
  {
   "cell_type": "code",
   "execution_count": 6,
   "metadata": {},
   "outputs": [
    {
     "data": {
      "text/plain": [
       "1.3919"
      ]
     },
     "execution_count": 6,
     "metadata": {},
     "output_type": "execute_result"
    }
   ],
   "source": [
    "sample = [flip(n, p) for i in range(10000)]\n",
    "\n",
    "np.mean(sample)"
   ]
  },
  {
   "cell_type": "markdown",
   "metadata": {},
   "source": [
    "This sample contains scores from many simulated games.  The following function computes the number of times each score occurs and stores the result in a Series."
   ]
  },
  {
   "cell_type": "code",
   "execution_count": 7,
   "metadata": {},
   "outputs": [],
   "source": [
    "def pmf_from_seq(seq):\n",
    "    \"\"\"Make a PMF from a sequence of values.\n",
    "    \n",
    "    seq: sequence\n",
    "    \n",
    "    returns: Series representing a PMF\n",
    "    \"\"\"\n",
    "    pmf = pd.Series(seq).value_counts(sort=False).sort_index()\n",
    "    pmf /= pmf.sum()\n",
    "    return pmf"
   ]
  },
  {
   "cell_type": "markdown",
   "metadata": {},
   "source": [
    "We can use `pmf_from_seq` to compute the PMF of goals."
   ]
  },
  {
   "cell_type": "code",
   "execution_count": 8,
   "metadata": {},
   "outputs": [
    {
     "data": {
      "text/plain": [
       "0    0.2453\n",
       "1    0.3470\n",
       "2    0.2446\n",
       "3    0.1143\n",
       "4    0.0356\n",
       "5    0.0097\n",
       "6    0.0028\n",
       "7    0.0005\n",
       "8    0.0002\n",
       "dtype: float64"
      ]
     },
     "execution_count": 8,
     "metadata": {},
     "output_type": "execute_result"
    }
   ],
   "source": [
    "pmf_goals = pmf_from_seq(sample)\n",
    "pmf_goals"
   ]
  },
  {
   "cell_type": "markdown",
   "metadata": {},
   "source": [
    "The PMF represents the distribution of goals scored, that is, each possible outcome and its probability.\n",
    "\n",
    "In this example, the PMF indicates that the probability of scoring 0 goals is about 27%, and the probability of scoring 1 goal is about 35%.\n",
    "\n",
    "Here's what the whole distribution looks like:"
   ]
  },
  {
   "cell_type": "code",
   "execution_count": 9,
   "metadata": {},
   "outputs": [
    {
     "data": {
      "image/png": "[encoded data removed]",
      "text/plain": [
       "<Figure size 432x288 with 1 Axes>"
      ]
     },
     "metadata": {
      "needs_background": "light"
     },
     "output_type": "display_data"
    }
   ],
   "source": [
    "pmf_goals.plot.bar(color='C1', alpha=0.5)\n",
    "\n",
    "plt.xlabel('Number of goals')\n",
    "plt.ylabel('Probability')\n",
    "plt.title('Distribution of goals scored');"
   ]
  },
  {
   "cell_type": "markdown",
   "metadata": {},
   "source": [
    "In summary, if we know the goal-scoring rate, λ, we can use `flip` to simulate games and estimate the distribution of goals scored."
   ]
  },
  {
   "cell_type": "markdown",
   "metadata": {},
   "source": [
    "## The Poisson distribution\n",
    "\n",
    "The distribution in the previous section is well approximated by the [Poisson distribution](https://en.wikipedia.org/wiki/Poisson_distribution).  If we know that the goal-scoring rate is λ, the probability of scoring $k$ goals is\n",
    "\n",
    "$f(k; \\lambda) = \\lambda^k exp(-\\lambda) ~/~ k!$\n",
    "\n",
    "SciPy provides a function that computes this expression; we can use it like this:"
   ]
  },
  {
   "cell_type": "code",
   "execution_count": 10,
   "metadata": {},
   "outputs": [
    {
     "data": {
      "text/plain": [
       "array([2.46596964e-01, 3.45235750e-01, 2.41665025e-01, 1.12777012e-01,\n",
       "       3.94719540e-02, 1.10521471e-02, 2.57883433e-03, 5.15766866e-04,\n",
       "       9.02592015e-05])"
      ]
     },
     "execution_count": 10,
     "metadata": {},
     "output_type": "execute_result"
    }
   ],
   "source": [
    "from scipy.stats import poisson\n",
    "\n",
    "xs = pmf_goals.index\n",
    "ys = poisson.pmf(xs, λ)\n",
    "ys"
   ]
  },
  {
   "cell_type": "markdown",
   "metadata": {},
   "source": [
    "The following figure compares these values with the results we got by simulation."
   ]
  },
  {
   "cell_type": "code",
   "execution_count": 11,
   "metadata": {},
   "outputs": [
    {
     "data": {
      "image/png": "[encoded data removed]",
      "text/plain": [
       "<Figure size 432x288 with 1 Axes>"
      ]
     },
     "metadata": {
      "needs_background": "light"
     },
     "output_type": "display_data"
    }
   ],
   "source": [
    "pmf_goals.plot.bar(color='C1', alpha=0.5, label='sample')\n",
    "plt.plot(xs, ys, '_', color='C0', markersize=15, label='binomial')\n",
    "\n",
    "plt.xlabel('Number of goals')\n",
    "plt.ylabel('Probability')\n",
    "plt.title('Distribution of goals scored')\n",
    "plt.legend();"
   ]
  },
  {
   "cell_type": "markdown",
   "metadata": {},
   "source": [
    "The results from the Poisson distribution are consistent with the results from simulation.\n",
    "\n",
    "In summary, given λ, we can compute the distribution of goals scored, either by simulation or using a Poisson distribution.\n",
    "\n",
    "Now let's turn it around: given the number of goals scored in a game, how can we estimate λ?\n",
    "\n",
    "First, we need a prior distribution for λ, which represents the range of possible values and their probabilities before we see the score.\n",
    "\n",
    "Then we use the data to update the distribution.  \n",
    "\n",
    "The result is a posterior distribution that represents our estimate of λ after seeing the score."
   ]
  },
  {
   "cell_type": "markdown",
   "metadata": {},
   "source": [
    "## The prior\n",
    "\n",
    "If you have ever seen a soccer game, you have some information about λ.  In most games, teams score a few goals each.  In rare cases, a team might score more than 5 goals, but they almost never score more than 10.\n",
    "\n",
    "I used [data from previous World Cups](https://www.statista.com/statistics/269031/goals-scored-per-game-at-the-fifa-world-cup-since-1930/) to estimate each team scores about 1.4 goals per game, on average.  So I'll set the mean of λ to be 1.4.\n",
    "\n",
    "For a good team against a bad one, we expect λ to be higher; for a bad team against a good one, we expect it to be lower.\n",
    "\n",
    "To model the distribution of goal-scoring rates, I will use a [gamma distribution](https://en.wikipedia.org/wiki/Gamma_distribution), which I chose because:\n",
    "\n",
    "1. The goal scoring rate is a continuous quantity that cannot be less than 0, and the gamma distribution is appropriate for this kind of quantity.\n",
    "\n",
    "2. The gamma distribution has only one parameter, α, which is the mean.  So it's easy to construct a gamma distribution with the mean we want.\n",
    "\n",
    "3. As we'll see, the shape of the Gamma distribution is a reasonable choice, given what we know about soccer.\n",
    "\n",
    "We can use `scipy.stats.gamma` to compute the values of the gamma distribution, like this:"
   ]
  },
  {
   "cell_type": "code",
   "execution_count": 12,
   "metadata": {},
   "outputs": [],
   "source": [
    "from scipy.stats import gamma\n",
    "\n",
    "α = 1.4\n",
    "qs = np.linspace(0, 10, 101)\n",
    "ps = gamma.pdf(qs, α)"
   ]
  },
  {
   "cell_type": "markdown",
   "metadata": {},
   "source": [
    "The parameter, α, is the mean of the distribution.\n",
    "\n",
    "`qs` is an array of possible values for λ, from 0 to 10.\n",
    "\n",
    "`ps` is an array of probabilities, one for each value of λ.\n",
    "\n",
    "Now we can use `qs` and `ps` to make a `Pmf` that represents the prior distribution."
   ]
  },
  {
   "cell_type": "code",
   "execution_count": 13,
   "metadata": {},
   "outputs": [],
   "source": [
    "prior = pd.Series(ps, index=qs)\n",
    "prior /= prior.sum()"
   ]
  },
  {
   "cell_type": "markdown",
   "metadata": {},
   "source": [
    "I normalized the distribution so the probabilities add up to 1.\n",
    "\n",
    "We can use this function, from the previous notebook, to compute the prior mean."
   ]
  },
  {
   "cell_type": "code",
   "execution_count": 14,
   "metadata": {},
   "outputs": [],
   "source": [
    "def pmf_mean(pmf):\n",
    "    \"\"\"Compute the mean of a PMF.\n",
    "    \n",
    "    pmf: Series representing a PMF\n",
    "    \n",
    "    return: float\n",
    "    \"\"\"\n",
    "    return np.sum(pmf.index * pmf)"
   ]
  },
  {
   "cell_type": "code",
   "execution_count": 15,
   "metadata": {},
   "outputs": [
    {
     "data": {
      "text/plain": [
       "1.4140818156118378"
      ]
     },
     "execution_count": 15,
     "metadata": {},
     "output_type": "execute_result"
    }
   ],
   "source": [
    "pmf_mean(prior)"
   ]
  },
  {
   "cell_type": "markdown",
   "metadata": {},
   "source": [
    "The prior mean is a little higher than 1.4; that's because we are approximating a continuous distribution with an array of discrete values.\n",
    "\n",
    "But since the choice of prior is partly arbitrary, we don't have to be too precise.\n",
    "\n",
    "Here's what it looks like."
   ]
  },
  {
   "cell_type": "code",
   "execution_count": 16,
   "metadata": {},
   "outputs": [
    {
     "data": {
      "image/png": "[encoded data removed]",
      "text/plain": [
       "<Figure size 432x288 with 1 Axes>"
      ]
     },
     "metadata": {
      "needs_background": "light"
     },
     "output_type": "display_data"
    }
   ],
   "source": [
    "prior.plot(label='prior', color='gray')\n",
    "\n",
    "plt.xlabel('Goal scoring rate')\n",
    "plt.ylabel('Probability')\n",
    "plt.title('Prior distribution')\n",
    "plt.legend();"
   ]
  },
  {
   "cell_type": "markdown",
   "metadata": {},
   "source": [
    "This distribution represents our prior knowledge about goal scoring: λ is usually less than 2, occasionally as high as 6, and seldom higher than that.  And the mean is about 1.4.\n",
    "\n",
    "As usual, reasonable people could disagree about the details of the prior.  Later, we can try a different prior and see how much effect it has on the results.\n",
    "\n",
    "But first, it's time to do an update."
   ]
  },
  {
   "cell_type": "markdown",
   "metadata": {},
   "source": [
    "## The update\n",
    "\n",
    "Suppose you are given the goal-scoring rate, λ, and asked to compute the probability of scoring a number of goals, $k$.  That is precisely the question we answered by computing the Poisson distribution:\n",
    "\n",
    "$ f(k; λ) = \\lambda^k \\exp(-\\lambda) ~/~ k! $\n",
    "\n",
    "For example, if λ is 1.4, the probability of scoring 4 goals in a game is:"
   ]
  },
  {
   "cell_type": "code",
   "execution_count": 17,
   "metadata": {},
   "outputs": [
    {
     "data": {
      "text/plain": [
       "0.039471954028253146"
      ]
     },
     "execution_count": 17,
     "metadata": {},
     "output_type": "execute_result"
    }
   ],
   "source": [
    "k = 4\n",
    "poisson.pmf(4, λ)"
   ]
  },
  {
   "cell_type": "markdown",
   "metadata": {},
   "source": [
    "Now suppose we are have an array of possible values for λ, like this:"
   ]
  },
  {
   "cell_type": "code",
   "execution_count": 18,
   "metadata": {},
   "outputs": [],
   "source": [
    "λs = prior.index"
   ]
  },
  {
   "cell_type": "markdown",
   "metadata": {},
   "source": [
    "We can compute the likelihood of the data for each hypothetical value of λ, like this:"
   ]
  },
  {
   "cell_type": "code",
   "execution_count": 19,
   "metadata": {},
   "outputs": [],
   "source": [
    "k = 4\n",
    "likelihood = poisson.pmf(k, λs)"
   ]
  },
  {
   "cell_type": "markdown",
   "metadata": {},
   "source": [
    "And that's all we need to do the update.  \n",
    "\n",
    "Here's the function we used in the previous notebook; it takes a prior distribution and an array of likelihoods, does a Bayesian update, and returns the total probability of the data."
   ]
  },
  {
   "cell_type": "code",
   "execution_count": 20,
   "metadata": {},
   "outputs": [],
   "source": [
    "def bayes_update(pmf, likelihood):\n",
    "    \"\"\"Do a Bayesian update.\n",
    "    \n",
    "    pmf: Series that represents the prior\n",
    "    likelihood: sequence of likelihoods\n",
    "    \n",
    "    returns: float probability of the data\n",
    "    \"\"\"\n",
    "    pmf *= likelihood\n",
    "    prob_data = pmf.sum()\n",
    "    pmf /= prob_data\n",
    "    return prob_data"
   ]
  },
  {
   "cell_type": "markdown",
   "metadata": {},
   "source": [
    "In the example, France scored 4 goals, so I'll make a copy of the prior and update it with the likelihoods we just computed."
   ]
  },
  {
   "cell_type": "code",
   "execution_count": 21,
   "metadata": {},
   "outputs": [
    {
     "data": {
      "text/plain": [
       "0.05015532557804499"
      ]
     },
     "execution_count": 21,
     "metadata": {},
     "output_type": "execute_result"
    }
   ],
   "source": [
    "france = prior.copy()\n",
    "bayes_update(france, likelihood)"
   ]
  },
  {
   "cell_type": "markdown",
   "metadata": {},
   "source": [
    "Under the prior distribution, the probability of scoring 4 goals was about 5%.\n",
    "\n",
    "Here's what the posterior distribution looks like:"
   ]
  },
  {
   "cell_type": "code",
   "execution_count": 22,
   "metadata": {},
   "outputs": [
    {
     "data": {
      "image/png": "[encoded data removed]",
      "text/plain": [
       "<Figure size 432x288 with 1 Axes>"
      ]
     },
     "metadata": {
      "needs_background": "light"
     },
     "output_type": "display_data"
    }
   ],
   "source": [
    "prior.plot(label='prior', color='gray')\n",
    "france.plot(label='France', color='C0')\n",
    "\n",
    "plt.xlabel('Goal scoring rate')\n",
    "plt.ylabel('Probability')\n",
    "plt.title('Posterior distribution for France')\n",
    "plt.legend();"
   ]
  },
  {
   "cell_type": "markdown",
   "metadata": {},
   "source": [
    "The data, `k=4`, makes us think higher values of λ are more likely and lower values are less likely.  So the posterior distribution is shifted to the right.\n",
    "\n",
    "Remember that the prior mean was about 1.4; here's the posterior mean:"
   ]
  },
  {
   "cell_type": "code",
   "execution_count": 23,
   "metadata": {},
   "outputs": [
    {
     "data": {
      "text/plain": [
       "(1.4140818156118378, 2.699772393342308)"
      ]
     },
     "execution_count": 23,
     "metadata": {},
     "output_type": "execute_result"
    }
   ],
   "source": [
    "pmf_mean(prior), pmf_mean(france)"
   ]
  },
  {
   "cell_type": "markdown",
   "metadata": {},
   "source": [
    "The posterior mean is near 2.7, which is between the prior (1.4) and the data (4).\n",
    "\n",
    "Having seen 4 goals, we think France's goal-scoring rate is higher than 1.4, but we have not seen enough data to go all the way to 4."
   ]
  },
  {
   "cell_type": "markdown",
   "metadata": {},
   "source": [
    "**Exercise:** Here's a prior distribution for Croatia:"
   ]
  },
  {
   "cell_type": "code",
   "execution_count": 24,
   "metadata": {},
   "outputs": [],
   "source": [
    "croatia = prior.copy()"
   ]
  },
  {
   "cell_type": "markdown",
   "metadata": {},
   "source": [
    "Update `croatia` with the observed number of goals, `k=2`.  Plot the results and compute the posterior mean."
   ]
  },
  {
   "cell_type": "code",
   "execution_count": 25,
   "metadata": {},
   "outputs": [
    {
     "data": {
      "text/plain": [
       "0.1609321178598705"
      ]
     },
     "execution_count": 25,
     "metadata": {},
     "output_type": "execute_result"
    }
   ],
   "source": [
    "# Solution\n",
    "\n",
    "k = 2\n",
    "λs = prior.index\n",
    "likelihood = poisson.pmf(k, λs)\n",
    "bayes_update(croatia, likelihood)"
   ]
  },
  {
   "cell_type": "code",
   "execution_count": 26,
   "metadata": {},
   "outputs": [
    {
     "data": {
      "image/png": "[encoded data removed]",
      "text/plain": [
       "<Figure size 432x288 with 1 Axes>"
      ]
     },
     "metadata": {
      "needs_background": "light"
     },
     "output_type": "display_data"
    }
   ],
   "source": [
    "# Solution\n",
    "\n",
    "prior.plot(label='prior', color='gray')\n",
    "france.plot(label='France', color='C0')\n",
    "croatia.plot(label='Croatia', color='C3')\n",
    "\n",
    "plt.xlabel('Goal scoring rate')\n",
    "plt.ylabel('Probability')\n",
    "plt.title('Posterior distributions for France and Croatia')\n",
    "plt.legend();"
   ]
  },
  {
   "cell_type": "code",
   "execution_count": 27,
   "metadata": {},
   "outputs": [
    {
     "data": {
      "text/plain": [
       "1.6999765866755225"
      ]
     },
     "execution_count": 27,
     "metadata": {},
     "output_type": "execute_result"
    }
   ],
   "source": [
    "pmf_mean(croatia)"
   ]
  },
  {
   "cell_type": "markdown",
   "metadata": {},
   "source": [
    "## Summary\n",
    "\n",
    "In this notebook, I introduced the World Cup problem, which involves estimating the goal-scoring rate of a soccer team, based on the outcome of a single game.\n",
    "\n",
    "To solve this problem, I introduced the gamma distribution, which we used to generate a prior, and the Poisson distribution, which we used to compute a likelihood.\n",
    "\n",
    "We used the prior and the likelihood to due a Bayesian update, which computes posterior distributions that estimate the goal-scoring rate for each team.\n",
    "\n",
    "[In the next notebook](https://colab.research.google.com/github/AllenDowney/BiteSizeBayes/blob/master/09_predict.ipynb) we will use those distributions to answer the questions we started with:\n",
    "\n",
    "1. What is the probability that the winning team is actually the better team?\n",
    "\n",
    "2. What is their probability of winning a rematch?\n"
   ]
  },
  {
   "cell_type": "code",
   "execution_count": null,
   "metadata": {},
   "outputs": [],
   "source": []
  }
 ],
 "metadata": {
  "kernelspec": {
   "display_name": "Python 3",
   "language": "python",
   "name": "python3"
  },
  "language_info": {
   "codemirror_mode": {
    "name": "ipython",
    "version": 3
   },
   "file_extension": ".py",
   "mimetype": "text/x-python",
   "name": "python",
   "nbconvert_exporter": "python",
   "pygments_lexer": "ipython3",
   "version": "3.6.9"
  }
 },
 "nbformat": 4,
 "nbformat_minor": 1
}
