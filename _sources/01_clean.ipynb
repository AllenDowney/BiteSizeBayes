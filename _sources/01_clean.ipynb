{
 "cells": [
  {
   "cell_type": "markdown",
   "metadata": {},
   "source": [
    "# Cleaning and Validation"
   ]
  },
  {
   "cell_type": "markdown",
   "metadata": {
    "tags": [
     "remove-cell"
    ]
   },
   "source": [
    "Political Alignment Case Study\n",
    "\n",
    "Copyright 2020 Allen B. Downey\n",
    "\n",
    "License: [Attribution-NonCommercial-ShareAlike 4.0 International (CC BY-NC-SA 4.0)](https://creativecommons.org/licenses/by-nc-sa/4.0/)"
   ]
  },
  {
   "cell_type": "markdown",
   "metadata": {},
   "source": [
    "## Introduction\n",
    "\n",
    "This is the first in a series of notebooks that make up a [case study in exploratory data analysis](https://allendowney.github.io/PoliticalAlignmentCaseStudy/).\n",
    "This case study is part of the [*Elements of Data Science*](https://allendowney.github.io/ElementsOfDataScience/) curriculum.\n",
    "\n",
    "In this notebook, we \n",
    "\n",
    "1. Read data from the General Social Survey (GSS),\n",
    "\n",
    "2. Clean the data, particularly dealing with special codes that indicate missing data,\n",
    "\n",
    "3. Validate the data by comparing the values in the dataset with values documented in the codebook.\n",
    "\n",
    "4. Generate \"resampled\" datasets that correct for deliberate oversampling in the dataset, and\n",
    "\n",
    "5. Store the resampled data in a binary format (HDF5) that makes it easier to work with in the notebooks that follow this one."
   ]
  },
  {
   "cell_type": "markdown",
   "metadata": {},
   "source": [
    "The following cell loads the packages we need.  If you have everything installed, there should be no error messages."
   ]
  },
  {
   "cell_type": "code",
   "execution_count": 1,
   "metadata": {},
   "outputs": [],
   "source": [
    "import pandas as pd\n",
    "import numpy as np\n",
    "import matplotlib.pyplot as plt\n",
    "import seaborn as sns"
   ]
  },
  {
   "cell_type": "markdown",
   "metadata": {},
   "source": [
    "## Reading the data\n",
    "\n",
    "The data we'll use is from the General Social Survey (GSS).  Using the [GSS Data Explorer](https://gssdataexplorer.norc.org/projects/52787), I selected a subset of the variables in the GSS and made it available along with this notebook.\n",
    "The following cell downloads this extract."
   ]
  },
  {
   "cell_type": "code",
   "execution_count": 2,
   "metadata": {},
   "outputs": [],
   "source": [
    "from os.path import basename, exists\n",
    "\n",
    "def download(url):\n",
    "    filename = basename(url)\n",
    "    if not exists(filename):\n",
    "        from urllib.request import urlretrieve\n",
    "        local, _ = urlretrieve(url, filename)\n",
    "        print('Downloaded ' + local)\n",
    "\n",
    "download('https://github.com/AllenDowney/PoliticalAlignmentCaseStudy/' +\n",
    "         'raw/master/gss_eda.tar.gz')"
   ]
  },
  {
   "cell_type": "markdown",
   "metadata": {},
   "source": [
    "The data is in a gzipped tar file that contains two files:\n",
    "\n",
    "* `GSS.dat` contains the actual data, and\n",
    "\n",
    "* `GSS.dct` is the \"dictionary file\" that describes the contents of the data file.\n",
    "\n",
    "The dictionary file is in Stata format, so we'll use the `statadict` library to read it.  The following cell installs it if necessary."
   ]
  },
  {
   "cell_type": "code",
   "execution_count": 3,
   "metadata": {},
   "outputs": [],
   "source": [
    "try:\n",
    "    import statadict\n",
    "except ImportError:\n",
    "    !pip install statadict"
   ]
  },
  {
   "cell_type": "markdown",
   "metadata": {},
   "source": [
    "We can use the Python module `tarfile` to read extract the dictionary file, and `statadict` to read and parse it."
   ]
  },
  {
   "cell_type": "code",
   "execution_count": 4,
   "metadata": {},
   "outputs": [
    {
     "data": {
      "text/plain": [
       "<statadict.base.StataDict at 0x7f8431ae4b50>"
      ]
     },
     "execution_count": 4,
     "metadata": {},
     "output_type": "execute_result"
    }
   ],
   "source": [
    "import tarfile\n",
    "from statadict import parse_stata_dict\n",
    "\n",
    "filename = 'gss_eda.tar.gz'\n",
    "dict_file='GSS.dct'\n",
    "data_file='GSS.dat'\n",
    "\n",
    "with tarfile.open(filename) as tf:\n",
    "    tf.extract(dict_file)\n",
    "    stata_dict = parse_stata_dict(dict_file)\n",
    "        \n",
    "stata_dict"
   ]
  },
  {
   "cell_type": "markdown",
   "metadata": {},
   "source": [
    "The result is a `StataDict` object that contains the names of the columns in the data file and the column specifications, which indicate where each column is in the file.\n",
    "We can pass these values to `read_fwf`, which is a Pandas function that reads [fixed width files](https://en.wikipedia.org/wiki/Flat-file_database), which is what `GSS.dat` is."
   ]
  },
  {
   "cell_type": "code",
   "execution_count": 5,
   "metadata": {},
   "outputs": [],
   "source": [
    "with tarfile.open(filename) as tf:\n",
    "    fp = tf.extractfile(data_file)  \n",
    "    gss = pd.read_fwf(fp,\n",
    "                      names=stata_dict.names,\n",
    "                      colspecs=stata_dict.colspecs)"
   ]
  },
  {
   "cell_type": "markdown",
   "metadata": {},
   "source": [
    "The column names in the data file are in all caps.\n",
    "I'll convert them to lower case because I think it makes the code look better."
   ]
  },
  {
   "cell_type": "code",
   "execution_count": 6,
   "metadata": {},
   "outputs": [],
   "source": [
    "gss.columns = gss.columns.str.lower()"
   ]
  },
  {
   "cell_type": "markdown",
   "metadata": {},
   "source": [
    "We can use `shape` and `head` to see what the `DataFrame` looks like."
   ]
  },
  {
   "cell_type": "code",
   "execution_count": 7,
   "metadata": {
    "scrolled": true
   },
   "outputs": [
    {
     "name": "stdout",
     "output_type": "stream",
     "text": [
      "(64814, 169)\n"
     ]
    },
    {
     "data": {
      "text/html": [
       "<div>\n",
       "<style scoped>\n",
       "    .dataframe tbody tr th:only-of-type {\n",
       "        vertical-align: middle;\n",
       "    }\n",
       "\n",
       "    .dataframe tbody tr th {\n",
       "        vertical-align: top;\n",
       "    }\n",
       "\n",
       "    .dataframe thead th {\n",
       "        text-align: right;\n",
       "    }\n",
       "</style>\n",
       "<table border=\"1\" class=\"dataframe\">\n",
       "  <thead>\n",
       "    <tr style=\"text-align: right;\">\n",
       "      <th></th>\n",
       "      <th>year</th>\n",
       "      <th>id_</th>\n",
       "      <th>agewed</th>\n",
       "      <th>divorce</th>\n",
       "      <th>sibs</th>\n",
       "      <th>childs</th>\n",
       "      <th>age</th>\n",
       "      <th>educ</th>\n",
       "      <th>paeduc</th>\n",
       "      <th>maeduc</th>\n",
       "      <th>...</th>\n",
       "      <th>fejobaff</th>\n",
       "      <th>discaffm</th>\n",
       "      <th>discaffw</th>\n",
       "      <th>fehire</th>\n",
       "      <th>meovrwrk</th>\n",
       "      <th>avoidbuy</th>\n",
       "      <th>income</th>\n",
       "      <th>rincome</th>\n",
       "      <th>realrinc</th>\n",
       "      <th>china</th>\n",
       "    </tr>\n",
       "  </thead>\n",
       "  <tbody>\n",
       "    <tr>\n",
       "      <th>0</th>\n",
       "      <td>1972</td>\n",
       "      <td>1</td>\n",
       "      <td>0</td>\n",
       "      <td>0</td>\n",
       "      <td>3</td>\n",
       "      <td>0</td>\n",
       "      <td>23</td>\n",
       "      <td>16</td>\n",
       "      <td>10</td>\n",
       "      <td>97</td>\n",
       "      <td>...</td>\n",
       "      <td>0</td>\n",
       "      <td>0</td>\n",
       "      <td>0</td>\n",
       "      <td>0</td>\n",
       "      <td>0</td>\n",
       "      <td>0</td>\n",
       "      <td>0</td>\n",
       "      <td>0</td>\n",
       "      <td>0.0</td>\n",
       "      <td>-1</td>\n",
       "    </tr>\n",
       "    <tr>\n",
       "      <th>1</th>\n",
       "      <td>1972</td>\n",
       "      <td>2</td>\n",
       "      <td>21</td>\n",
       "      <td>2</td>\n",
       "      <td>4</td>\n",
       "      <td>5</td>\n",
       "      <td>70</td>\n",
       "      <td>10</td>\n",
       "      <td>8</td>\n",
       "      <td>8</td>\n",
       "      <td>...</td>\n",
       "      <td>0</td>\n",
       "      <td>0</td>\n",
       "      <td>0</td>\n",
       "      <td>0</td>\n",
       "      <td>0</td>\n",
       "      <td>0</td>\n",
       "      <td>0</td>\n",
       "      <td>0</td>\n",
       "      <td>0.0</td>\n",
       "      <td>-1</td>\n",
       "    </tr>\n",
       "    <tr>\n",
       "      <th>2</th>\n",
       "      <td>1972</td>\n",
       "      <td>3</td>\n",
       "      <td>20</td>\n",
       "      <td>2</td>\n",
       "      <td>5</td>\n",
       "      <td>4</td>\n",
       "      <td>48</td>\n",
       "      <td>12</td>\n",
       "      <td>8</td>\n",
       "      <td>8</td>\n",
       "      <td>...</td>\n",
       "      <td>0</td>\n",
       "      <td>0</td>\n",
       "      <td>0</td>\n",
       "      <td>0</td>\n",
       "      <td>0</td>\n",
       "      <td>0</td>\n",
       "      <td>0</td>\n",
       "      <td>0</td>\n",
       "      <td>0.0</td>\n",
       "      <td>-1</td>\n",
       "    </tr>\n",
       "    <tr>\n",
       "      <th>3</th>\n",
       "      <td>1972</td>\n",
       "      <td>4</td>\n",
       "      <td>24</td>\n",
       "      <td>2</td>\n",
       "      <td>5</td>\n",
       "      <td>0</td>\n",
       "      <td>27</td>\n",
       "      <td>17</td>\n",
       "      <td>16</td>\n",
       "      <td>12</td>\n",
       "      <td>...</td>\n",
       "      <td>0</td>\n",
       "      <td>0</td>\n",
       "      <td>0</td>\n",
       "      <td>0</td>\n",
       "      <td>0</td>\n",
       "      <td>0</td>\n",
       "      <td>0</td>\n",
       "      <td>0</td>\n",
       "      <td>0.0</td>\n",
       "      <td>-1</td>\n",
       "    </tr>\n",
       "    <tr>\n",
       "      <th>4</th>\n",
       "      <td>1972</td>\n",
       "      <td>5</td>\n",
       "      <td>22</td>\n",
       "      <td>2</td>\n",
       "      <td>2</td>\n",
       "      <td>2</td>\n",
       "      <td>61</td>\n",
       "      <td>12</td>\n",
       "      <td>8</td>\n",
       "      <td>8</td>\n",
       "      <td>...</td>\n",
       "      <td>0</td>\n",
       "      <td>0</td>\n",
       "      <td>0</td>\n",
       "      <td>0</td>\n",
       "      <td>0</td>\n",
       "      <td>0</td>\n",
       "      <td>0</td>\n",
       "      <td>0</td>\n",
       "      <td>0.0</td>\n",
       "      <td>-1</td>\n",
       "    </tr>\n",
       "  </tbody>\n",
       "</table>\n",
       "<p>5 rows × 169 columns</p>\n",
       "</div>"
      ],
      "text/plain": [
       "   year  id_  agewed  divorce  sibs  childs  age  educ  paeduc  maeduc  ...  \\\n",
       "0  1972    1       0        0     3       0   23    16      10      97  ...   \n",
       "1  1972    2      21        2     4       5   70    10       8       8  ...   \n",
       "2  1972    3      20        2     5       4   48    12       8       8  ...   \n",
       "3  1972    4      24        2     5       0   27    17      16      12  ...   \n",
       "4  1972    5      22        2     2       2   61    12       8       8  ...   \n",
       "\n",
       "   fejobaff  discaffm  discaffw  fehire  meovrwrk  avoidbuy  income  rincome  \\\n",
       "0         0         0         0       0         0         0       0        0   \n",
       "1         0         0         0       0         0         0       0        0   \n",
       "2         0         0         0       0         0         0       0        0   \n",
       "3         0         0         0       0         0         0       0        0   \n",
       "4         0         0         0       0         0         0       0        0   \n",
       "\n",
       "   realrinc  china  \n",
       "0       0.0     -1  \n",
       "1       0.0     -1  \n",
       "2       0.0     -1  \n",
       "3       0.0     -1  \n",
       "4       0.0     -1  \n",
       "\n",
       "[5 rows x 169 columns]"
      ]
     },
     "execution_count": 7,
     "metadata": {},
     "output_type": "execute_result"
    }
   ],
   "source": [
    "print(gss.shape)\n",
    "gss.head()"
   ]
  },
  {
   "cell_type": "markdown",
   "metadata": {},
   "source": [
    "This dataset has 64814 rows, one for each respondent, and 166 columns, one for each variable."
   ]
  },
  {
   "cell_type": "markdown",
   "metadata": {},
   "source": [
    "## Validation\n",
    "\n",
    "Now that we've got the data loaded, it is important to validate it, which means checking for errors.\n",
    "\n",
    "The kinds of errors you have to check for depend on the nature of the data, the collection process, how the data is stored and transmitted, etc."
   ]
  },
  {
   "cell_type": "markdown",
   "metadata": {},
   "source": [
    "For this dataset, there are three kinds of validation we'll think about:\n",
    "\n",
    "1) We need to check the **integrity** of the dataset; that is, whether the data were corrupted or changed during transmission, storage, or conversion from one format to another.\n",
    "\n",
    "2) We need to check our **interpretation** of the data; for example, whether the numbers used to encode the data mean what we think they mean.\n",
    "\n",
    "3) We will also keep an eye out for **invalid** data; for example, missing data might be represented using special codes, or there might be patterns in the data that indicate problems with the survey process and the recording of the data.  \n",
    "\n",
    "In a different dataset I worked with, I found a surprising number of respondents whose height was supposedly 62 centimeters.  After investigating, I concluded that they were probably 6 feet, 2 inches, and their heights were recorded incorrectly."
   ]
  },
  {
   "cell_type": "markdown",
   "metadata": {},
   "source": [
    "Validating data can be a tedious process, but it is important.  If you interpret data incorrectly and publish invalid results, you will be embarrassed in the best case, and in the worst case you might do real harm.  See [this article](https://www.vox.com/future-perfect/2019/6/4/18650969/married-women-miserable-fake-paul-dolan-happiness) for a recent example.\n",
    "\n",
    "However, I don't expect you to validate every variable in this dataset.  Instead, I will demonstrate the process, and then ask you to validate one additional variable as an exercise."
   ]
  },
  {
   "cell_type": "markdown",
   "metadata": {},
   "source": [
    "The first variable we'll validate is called `polviews`.  It records responses to the following question:\n",
    "\n",
    ">We hear a lot of talk these days about liberals and conservatives. \n",
    "I'm going to show you a seven-point scale on which the political views that people might hold are arranged from extremely liberal--point 1--to extremely conservative--point 7. Where would you place yourself on this scale?\n",
    "\n",
    "You can [read the documentation of this variable in the GSS codebook](https://gssdataexplorer.norc.org/projects/52787/variables/178/vshow)."
   ]
  },
  {
   "cell_type": "markdown",
   "metadata": {},
   "source": [
    "The responses are encoded like this:\n",
    "\n",
    "```\n",
    "1\tExtremely liberal\n",
    "2\tLiberal\n",
    "3\tSlightly liberal\n",
    "4\tModerate\n",
    "5\tSlghtly conservative\n",
    "6\tConservative\n",
    "7\tExtremely conservative\n",
    "8\tDon't know\n",
    "9\tNo answer\n",
    "0\tNot applicable\n",
    "```\n",
    "\n",
    "The following function, `values`, takes a Series that represents a single variable and returns the values in the series and their frequencies."
   ]
  },
  {
   "cell_type": "code",
   "execution_count": 8,
   "metadata": {},
   "outputs": [],
   "source": [
    "def values(series):\n",
    "    \"\"\"Count the values and sort.\n",
    "    \n",
    "    series: pd.Series\n",
    "    \n",
    "    returns: series mapping from values to frequencies\n",
    "    \"\"\"\n",
    "    return series.value_counts().sort_index()"
   ]
  },
  {
   "cell_type": "markdown",
   "metadata": {},
   "source": [
    "Here are the values for the variable `polviews`."
   ]
  },
  {
   "cell_type": "code",
   "execution_count": 9,
   "metadata": {},
   "outputs": [],
   "source": [
    "column = gss['polviews']"
   ]
  },
  {
   "cell_type": "code",
   "execution_count": 10,
   "metadata": {},
   "outputs": [
    {
     "data": {
      "text/plain": [
       "0     6777\n",
       "1     1682\n",
       "2     6514\n",
       "3     7010\n",
       "4    21370\n",
       "5     8690\n",
       "6     8230\n",
       "7     1832\n",
       "8     2326\n",
       "9      383\n",
       "Name: polviews, dtype: int64"
      ]
     },
     "execution_count": 10,
     "metadata": {},
     "output_type": "execute_result"
    }
   ],
   "source": [
    "values(column)"
   ]
  },
  {
   "cell_type": "markdown",
   "metadata": {},
   "source": [
    "To check the integrity of the data and confirm that we have loaded it correctly, we'll do a \"spot check\"; that is, we'll pick one year and compare the values we see in the dataset to the values reported in the codebook.\n",
    "\n",
    "We can select values from a single year like this:"
   ]
  },
  {
   "cell_type": "code",
   "execution_count": 11,
   "metadata": {},
   "outputs": [],
   "source": [
    "one_year = (gss['year'] == 1974)"
   ]
  },
  {
   "cell_type": "markdown",
   "metadata": {},
   "source": [
    "And look at the values and their frequencies:"
   ]
  },
  {
   "cell_type": "code",
   "execution_count": 12,
   "metadata": {},
   "outputs": [
    {
     "data": {
      "text/plain": [
       "1     22\n",
       "2    201\n",
       "3    207\n",
       "4    564\n",
       "5    221\n",
       "6    160\n",
       "7     35\n",
       "8     70\n",
       "9      4\n",
       "Name: polviews, dtype: int64"
      ]
     },
     "execution_count": 12,
     "metadata": {},
     "output_type": "execute_result"
    }
   ],
   "source": [
    "values(column[one_year])"
   ]
  },
  {
   "cell_type": "markdown",
   "metadata": {},
   "source": [
    "If you [compare these results to the values in the codebook](https://gssdataexplorer.norc.org/projects/52787/variables/178/vshow), you should see that they agree.\n",
    "\n",
    "**Exercise:** Go back and change 1974 to another year, and compare the results to the codebook."
   ]
  },
  {
   "cell_type": "markdown",
   "metadata": {},
   "source": [
    "## Missing data\n",
    "\n",
    "For many variables, missing values are encoded with numerical codes that we need to replace before we do any analysis.\n",
    "\n",
    "For `polviews`, the values 8, 9, and 0 represent \"Don't know\", \"No answer\", and \"Not applicable\".\n",
    "\n",
    "\"Not applicable\" usually means the respondent was not asked a particular question.\n",
    "\n",
    "To keep things simple, we'll treat all of these values as equivalent, but we lose some information by doing that.  For example, if a respondent refuses to answer a question, that might suggest something about their answer.  If so, treating their response as missing data might bias the results.\n",
    "\n",
    "Fortunately, for most questions the number of respondents who refused to answer is small."
   ]
  },
  {
   "cell_type": "markdown",
   "metadata": {},
   "source": [
    "I'll replace the numeric codes 8, 9, and 0 with `NaN`, which is a special value used to indicate missing data. "
   ]
  },
  {
   "cell_type": "code",
   "execution_count": 13,
   "metadata": {},
   "outputs": [],
   "source": [
    "clean = column.replace([0, 8, 9], np.nan)"
   ]
  },
  {
   "cell_type": "markdown",
   "metadata": {},
   "source": [
    "We can use `notna` and `sum` to count the valid responses:"
   ]
  },
  {
   "cell_type": "code",
   "execution_count": 14,
   "metadata": {},
   "outputs": [
    {
     "data": {
      "text/plain": [
       "55328"
      ]
     },
     "execution_count": 14,
     "metadata": {},
     "output_type": "execute_result"
    }
   ],
   "source": [
    "clean.notna().sum()"
   ]
  },
  {
   "cell_type": "markdown",
   "metadata": {},
   "source": [
    "And we use `isna` to count the missing responses:"
   ]
  },
  {
   "cell_type": "code",
   "execution_count": 15,
   "metadata": {},
   "outputs": [
    {
     "data": {
      "text/plain": [
       "9486"
      ]
     },
     "execution_count": 15,
     "metadata": {},
     "output_type": "execute_result"
    }
   ],
   "source": [
    "clean.isna().sum()"
   ]
  },
  {
   "cell_type": "markdown",
   "metadata": {},
   "source": [
    "We can [check these results against the codebook](https://gssdataexplorer.norc.org/projects/52787/variables/178/vshow); at the bottom of that page, it reports the number of \"Valid cases\" and \"Missing cases\".\n",
    "\n",
    "However, in this example, the results don't match.  The codebook reports 53081 valid cases and 9385 missing cases.\n",
    "\n",
    "To figure out what was wrong, I looked at the difference between the values in the codebook and the values I computed from the dataset."
   ]
  },
  {
   "cell_type": "code",
   "execution_count": 16,
   "metadata": {},
   "outputs": [
    {
     "data": {
      "text/plain": [
       "2247"
      ]
     },
     "execution_count": 16,
     "metadata": {},
     "output_type": "execute_result"
    }
   ],
   "source": [
    "clean.notna().sum() - 53081"
   ]
  },
  {
   "cell_type": "code",
   "execution_count": 17,
   "metadata": {},
   "outputs": [
    {
     "data": {
      "text/plain": [
       "101"
      ]
     },
     "execution_count": 17,
     "metadata": {},
     "output_type": "execute_result"
    }
   ],
   "source": [
    "clean.isna().sum() - 9385"
   ]
  },
  {
   "cell_type": "markdown",
   "metadata": {},
   "source": [
    "That looks like about one year of data, so I guessed that the numbers in the code book might not include the most recent data, from 2018.\n",
    "\n",
    "Here are the numbers from 2018."
   ]
  },
  {
   "cell_type": "code",
   "execution_count": 18,
   "metadata": {},
   "outputs": [
    {
     "data": {
      "text/plain": [
       "2348"
      ]
     },
     "execution_count": 18,
     "metadata": {},
     "output_type": "execute_result"
    }
   ],
   "source": [
    "one_year = (gss['year'] == 2018)\n",
    "one_year.sum()"
   ]
  },
  {
   "cell_type": "code",
   "execution_count": 19,
   "metadata": {},
   "outputs": [
    {
     "data": {
      "text/plain": [
       "2247"
      ]
     },
     "execution_count": 19,
     "metadata": {},
     "output_type": "execute_result"
    }
   ],
   "source": [
    "clean[one_year].notna().sum()"
   ]
  },
  {
   "cell_type": "code",
   "execution_count": 20,
   "metadata": {},
   "outputs": [
    {
     "data": {
      "text/plain": [
       "101"
      ]
     },
     "execution_count": 20,
     "metadata": {},
     "output_type": "execute_result"
    }
   ],
   "source": [
    "clean[one_year].isna().sum()"
   ]
  },
  {
   "cell_type": "markdown",
   "metadata": {},
   "source": [
    "It looks like my hypothesis is correct; the summary statistics in the codebook do not include data from 2018.\n",
    "\n",
    "Based on these checks, it looks like the dataset is intact and we have loaded it correctly."
   ]
  },
  {
   "cell_type": "markdown",
   "metadata": {},
   "source": [
    "## Replacing missing data\n",
    "\n",
    "For the other variables in this dataset, I read through the code book and identified the special values that indicate missing data.\n",
    "\n",
    "I recorded that information in the following function, which is intended to replace special values with `NaN`."
   ]
  },
  {
   "cell_type": "code",
   "execution_count": 21,
   "metadata": {},
   "outputs": [],
   "source": [
    "def gss_replace_invalid(df):\n",
    "    \"\"\"Replace invalid data with NaN.\n",
    "    \n",
    "    df: DataFrame\n",
    "    \"\"\"\n",
    "    df.educ.replace([98, 99], np.nan, inplace=True)\n",
    "    \n",
    "    df.age.replace([98, 99], np.nan, inplace=True)      # 89 means 89 or older\n",
    "    df.cohort.replace([0, 9999], np.nan, inplace=True)\n",
    "    df.marcohrt.replace([0, 9999], np.nan, inplace=True)\n",
    "    \n",
    "    df.cappun.replace([0, 8, 9], np.nan, inplace=True)\n",
    "    df.gunlaw.replace([0, 8, 9], np.nan, inplace=True)\n",
    "    df.divlaw.replace([0, 8, 9], np.nan, inplace=True)\n",
    "    df.pornlaw.replace([0, 8, 9], np.nan, inplace=True)\n",
    "    df.racopen.replace([0, 8, 9], np.nan, inplace=True)\n",
    "    df.grass.replace([0, 8, 9], np.nan, inplace=True)\n",
    "    df.letdie1.replace([0, 8, 9], np.nan, inplace=True)\n",
    "    df.prayer.replace([0, 8, 9], np.nan, inplace=True)\n",
    "    df.affrmact.replace([0, 8, 9], np.nan, inplace=True)\n",
    "\n",
    "    df.abany.replace([0, 8, 9], np.nan, inplace=True)\n",
    "    df.abdefect.replace([0, 8, 9], np.nan, inplace=True)\n",
    "    df.abnomore.replace([0, 8, 9], np.nan, inplace=True)\n",
    "    df.abhlth.replace([0, 8, 9], np.nan, inplace=True)\n",
    "    df.abpoor.replace([0, 8, 9], np.nan, inplace=True)\n",
    "    df.abrape.replace([0, 8, 9], np.nan, inplace=True)\n",
    "    df.absingle.replace([0, 8, 9], np.nan, inplace=True)\n",
    "    \n",
    "    df.fepol.replace([0, 8, 9], np.nan, inplace=True)\n",
    "    df.fejobaff.replace([0, 8, 9], np.nan, inplace=True)\n",
    "    df.fehire.replace([0, 8, 9], np.nan, inplace=True)\n",
    "    df.fechld.replace([0, 8, 9], np.nan, inplace=True)\n",
    "    df.fepresch.replace([0, 8, 9], np.nan, inplace=True)\n",
    "    df.fefam.replace([0, 8, 9], np.nan, inplace=True)\n",
    "    df.discaffm.replace([0, 8, 9], np.nan, inplace=True)\n",
    "    df.discaffw.replace([0, 8, 9], np.nan, inplace=True)\n",
    "    df.meovrwrk.replace([0, 8, 9], np.nan, inplace=True)\n",
    "    \n",
    "    df.sexeduc.replace([0, 8, 9], np.nan, inplace=True)\n",
    "    df.premarsx.replace([0, 8, 9], np.nan, inplace=True)\n",
    "    df.xmarsex.replace([0, 8, 9], np.nan, inplace=True)\n",
    "    df.teensex.replace([0, 8, 9], np.nan, inplace=True)\n",
    "    df.homosex.replace([0, 5, 8, 9], np.nan, inplace=True)  # 5 is other\n",
    "\n",
    "    df.racmar.replace([0, 8, 9], np.nan, inplace=True)\n",
    "    df.spanking.replace([0, 8, 9], np.nan, inplace=True)\n",
    "    df.racpres.replace([0, 8, 9], np.nan, inplace=True)\n",
    "\n",
    "    df.fear.replace([0, 8, 9], np.nan, inplace=True)\n",
    "    df.databank.replace([0, 8, 9], np.nan, inplace=True)\n",
    "    df.happy.replace([0, 8, 9], np.nan, inplace=True)\n",
    "    df.hapmar.replace([0, 8, 9], np.nan, inplace=True)\n",
    "    \n",
    "    df.natroad.replace([0, 8, 9], np.nan, inplace=True)\n",
    "    df.natsoc.replace([0, 8, 9], np.nan, inplace=True)\n",
    "    df.natmass.replace([0, 8, 9], np.nan, inplace=True)\n",
    "    df.natpark.replace([0, 8, 9], np.nan, inplace=True)\n",
    "    df.natchld.replace([0, 8, 9], np.nan, inplace=True)\n",
    "    df.natsci.replace([0, 8, 9], np.nan, inplace=True)\n",
    "    df.natenrgy.replace([0, 8, 9], np.nan, inplace=True)\n",
    "    df.natspac.replace([0, 8, 9], np.nan, inplace=True)\n",
    "    df.natenvir.replace([0, 8, 9], np.nan, inplace=True)\n",
    "    df.natheal.replace([0, 8, 9], np.nan, inplace=True)\n",
    "    df.natcity.replace([0, 8, 9], np.nan, inplace=True)\n",
    "    df.natcrime.replace([0, 8, 9], np.nan, inplace=True)\n",
    "    df.natcrimy.replace([0, 8, 9], np.nan, inplace=True)\n",
    "    df.natdrug.replace([0, 8, 9], np.nan, inplace=True)\n",
    "    df.nateduc.replace([0, 8, 9], np.nan, inplace=True)\n",
    "    df.natrace.replace([0, 8, 9], np.nan, inplace=True)\n",
    "    df.natarms.replace([0, 8, 9], np.nan, inplace=True)\n",
    "    df.nataid.replace([0, 8, 9], np.nan, inplace=True)\n",
    "    df.natfare.replace([0, 8, 9], np.nan, inplace=True)\n",
    "    \n",
    "    df.health.replace([0, 8, 9], np.nan, inplace=True)\n",
    "    df.life.replace([0, 8, 9], np.nan, inplace=True)\n",
    "    \n",
    "    df.helpful.replace([0, 8, 9], np.nan, inplace=True)\n",
    "    df.fair.replace([0, 8, 9], np.nan, inplace=True)\n",
    "    df.trust.replace([0, 8, 9], np.nan, inplace=True)\n",
    "\n",
    "    df.conclerg.replace([0, 8, 9], np.nan, inplace=True)\n",
    "    df.coneduc.replace([0, 8, 9], np.nan, inplace=True)\n",
    "    df.confed.replace([0, 8, 9], np.nan, inplace=True)\n",
    "    df.conpress.replace([0, 8, 9], np.nan, inplace=True)\n",
    "    df.conjudge.replace([0, 8, 9], np.nan, inplace=True)\n",
    "    df.conlegis.replace([0, 8, 9], np.nan, inplace=True)\n",
    "    df.conarmy.replace([0, 8, 9], np.nan, inplace=True)\n",
    "\n",
    "    df.confinan.replace([0, 8, 9], np.nan, inplace=True)\n",
    "    df.conbus.replace([0, 8, 9], np.nan, inplace=True)\n",
    "    df.conlabor.replace([0, 8, 9], np.nan, inplace=True)\n",
    "    df.conmedic.replace([0, 8, 9], np.nan, inplace=True)\n",
    "    df.contv.replace([0, 8, 9], np.nan, inplace=True)\n",
    "    df.consci.replace([0, 8, 9], np.nan, inplace=True)  \n",
    "\n",
    "    df.spkhomo.replace([0, 8, 9], np.nan, inplace=True)\n",
    "    df.spkath.replace([0, 8, 9], np.nan, inplace=True)\n",
    "    df.spkmslm.replace([0, 8, 9], np.nan, inplace=True)\n",
    "    df.spkrac.replace([0, 8, 9], np.nan, inplace=True)\n",
    "    df.spkcom.replace([0, 8, 9], np.nan, inplace=True)\n",
    "    df.spkmil.replace([0, 8, 9], np.nan, inplace=True)\n",
    "    \n",
    "    df.colhomo.replace([0, 8, 9], np.nan, inplace=True)\n",
    "    df.colath.replace([0, 8, 9], np.nan, inplace=True)\n",
    "    df.colmslm.replace([0, 8, 9], np.nan, inplace=True)\n",
    "    df.colrac.replace([0, 8, 9], np.nan, inplace=True)\n",
    "    df.colcom.replace([0, 8, 9], np.nan, inplace=True)\n",
    "    df.colmil.replace([0, 8, 9], np.nan, inplace=True)\n",
    "    \n",
    "    df.libhomo.replace([0, 8, 9], np.nan, inplace=True)\n",
    "    df.libath.replace([0, 8, 9], np.nan, inplace=True)\n",
    "    df.libmslm.replace([0, 8, 9], np.nan, inplace=True)\n",
    "    df.librac.replace([0, 8, 9], np.nan, inplace=True)\n",
    "    df.libcom.replace([0, 8, 9], np.nan, inplace=True)\n",
    "    df.libmil.replace([0, 8, 9], np.nan, inplace=True)\n",
    "    \n",
    "    df.satjob.replace([0, 8, 9], np.nan, inplace=True)\n",
    "    df.satfin.replace([0, 8, 9], np.nan, inplace=True)\n",
    "    df.finrela.replace([0, 8, 9], np.nan, inplace=True)\n",
    "\n",
    "    df.union_.replace([0, 8, 9], np.nan, inplace=True)\n",
    "    df.res16.replace([0, 8, 9], np.nan, inplace=True)\n",
    "\n",
    "    df.fund.replace([0, 8, 9], np.nan, inplace=True)\n",
    "    df.memchurh.replace([0, 8, 9], np.nan, inplace=True)\n",
    "    df.fund16.replace([0, 8, 9], np.nan, inplace=True)\n",
    "    df.reliten.replace([0, 8, 9], np.nan, inplace=True)\n",
    "    df.pray.replace([0, 8, 9], np.nan, inplace=True)\n",
    "    df.sprel16.replace([0, 8, 9], np.nan, inplace=True)\n",
    "    \n",
    "    df.bible.replace([0, 8, 9], np.nan, inplace=True)\n",
    "    df.postlife.replace([0, 8, 9], np.nan, inplace=True)\n",
    "    df.god.replace([0, 8, 9], np.nan, inplace=True)\n",
    "    df.reborn.replace([0, 8, 9], np.nan, inplace=True)\n",
    "    df.savesoul.replace([0, 8, 9], np.nan, inplace=True)\n",
    "\n",
    "    df.relpersn.replace([0, 8, 9], np.nan, inplace=True)\n",
    "    df.sprtprsn.replace([0, 8, 9], np.nan, inplace=True)\n",
    "    df.relexp.replace([0, 8, 9], np.nan, inplace=True)\n",
    "    df.relactiv.replace([0, 98, 89], np.nan, inplace=True)\n",
    "    df.attend.replace([9], np.nan, inplace=True)\n",
    "\n",
    "    df.compuse.replace([0, 8, 9], np.nan, inplace=True)\n",
    "\n",
    "    df.degree.replace([8, 9], np.nan, inplace=True)\n",
    "    df.padeg.replace([8, 9], np.nan, inplace=True)\n",
    "    df.madeg.replace([8, 9], np.nan, inplace=True)\n",
    "    df.spdeg.replace([8, 9], np.nan, inplace=True)\n",
    "    df.partyid.replace([8, 9], np.nan, inplace=True)\n",
    "    df.polviews.replace([0, 8, 9], np.nan, inplace=True)\n",
    "\n",
    "    df.chldidel.replace([-1, 8, 9], np.nan, inplace=True)\n",
    "    df.childs.replace([9], np.nan, inplace=True)\n",
    "    df.adults.replace([9], np.nan, inplace=True)\n",
    "\n",
    "    df.divorce.replace([0, 8, 9], np.nan, inplace=True)\n",
    "    df.age.replace([0, 98, 99], np.nan, inplace=True)\n",
    "    df.agewed.replace([0, 98, 99], np.nan, inplace=True)\n",
    "    df.relig.replace([0, 98, 99], np.nan, inplace=True)\n",
    "    df.relig16.replace([0, 98, 99], np.nan, inplace=True)\n",
    "    df.income.replace([0, 13, 98, 99], np.nan, inplace=True)\n",
    "    df.rincome.replace([0, 13, 98, 99], np.nan, inplace=True)\n",
    "    df.realinc.replace([0], np.nan, inplace=True)                  \n",
    "    df.realrinc.replace([0], np.nan, inplace=True)                  \n",
    "    \n",
    "    # note: sibs contains some unlikely numbers\n",
    "    df.sibs.replace([-1, 98, 99], np.nan, inplace=True)\n",
    "    df.educ.replace([97, 98, 99], np.nan, inplace=True)\n",
    "    df.maeduc.replace([97, 98, 99], np.nan, inplace=True)\n",
    "    df.paeduc.replace([97, 98, 99], np.nan, inplace=True)\n",
    "    df.speduc.replace([97, 98, 99], np.nan, inplace=True)\n",
    "\n",
    "    df.phone.replace([0, 2, 9], np.nan, inplace=True)\n",
    "    df.owngun.replace([0, 3, 8, 9], np.nan, inplace=True)\n",
    "    df.pistol.replace([0, 3, 8, 9], np.nan, inplace=True)\n",
    "    df.hunt.replace([0, 8, 9], np.nan, inplace=True)\n",
    "\n",
    "    df.class_.replace([0, 5, 8, 9], np.nan, inplace=True)\n",
    "    df.pres04.replace([0, 8, 9], np.nan, inplace=True)\n",
    "    df.pres08.replace([0, 8, 9], np.nan, inplace=True)\n",
    "    df.pres12.replace([0, 8, 9], np.nan, inplace=True)"
   ]
  },
  {
   "cell_type": "code",
   "execution_count": 22,
   "metadata": {},
   "outputs": [],
   "source": [
    "gss_replace_invalid(gss)"
   ]
  },
  {
   "cell_type": "code",
   "execution_count": 23,
   "metadata": {},
   "outputs": [],
   "source": [
    "# try to make the dataset smaller by replacing\n",
    "# 64-bit FP numbers with 32-bit.\n",
    "\n",
    "for varname in gss.columns:\n",
    "    if gss[varname].dtype == np.float64:\n",
    "        gss[varname] = gss[varname].astype(np.float32)"
   ]
  },
  {
   "cell_type": "markdown",
   "metadata": {},
   "source": [
    "At this point, I have only moderate confidence that this code is correct.  I'm not sure I have dealt with every variable in the dataset, and I'm not sure that the special values for every variable are correct.\n",
    "\n",
    "So I will ask for your help."
   ]
  },
  {
   "cell_type": "markdown",
   "metadata": {},
   "source": [
    "**Exercise**: In order to validate the other variables, I'd like each person who works with this notebook to validate one variable.\n",
    "\n",
    "If you run the following cell, it will choose one of the columns from the dataset at random.  That's the variable you will check.\n",
    "\n",
    "If you get `year` or `id_`, run the cell again to get a different variable name."
   ]
  },
  {
   "cell_type": "code",
   "execution_count": 24,
   "metadata": {},
   "outputs": [
    {
     "data": {
      "text/plain": [
       "'nataidy'"
      ]
     },
     "execution_count": 24,
     "metadata": {},
     "output_type": "execute_result"
    }
   ],
   "source": [
    "np.random.seed(None)\n",
    "np.random.choice(gss.columns)"
   ]
  },
  {
   "cell_type": "markdown",
   "metadata": {},
   "source": [
    "Go back through the previous two sections of this notebook and replace `polviews` with your randomly chosen variable.  Then run the cells again and go to [this online survey to report the results](https://forms.gle/tmST8YCu4qLc414F7). \n",
    "\n",
    "Note: Not all questions were asked during all years.  If your variable doesn't have data for 1974 or 2018, you might have to choose different years."
   ]
  },
  {
   "cell_type": "markdown",
   "metadata": {},
   "source": [
    "## Resampling\n",
    "\n",
    "The GSS uses stratified sampling, which means that some groups are deliberately oversampled to help with statistical validity.\n",
    "\n",
    "As a result, each respondent has a sampling weight which is proportional to the number of people in the population they represent.\n",
    "\n",
    "Before running any analysis, we can compensate for stratified sampling by \"resampling\", that is, by drawing a random sample from the dataset, where each respondent's chance of appearing in the sample is proportional to their sampling weight."
   ]
  },
  {
   "cell_type": "code",
   "execution_count": 25,
   "metadata": {},
   "outputs": [],
   "source": [
    "def resample_rows_weighted(df, column):\n",
    "    \"\"\"Resamples a DataFrame using probabilities proportional to given column.\n",
    "\n",
    "    df: DataFrame\n",
    "    column: string column name to use as weights\n",
    "\n",
    "    returns: DataFrame\n",
    "    \"\"\"\n",
    "    weights = df[column]\n",
    "    sample = df.sample(n=len(df), replace=True, weights=weights)\n",
    "    return sample"
   ]
  },
  {
   "cell_type": "code",
   "execution_count": 26,
   "metadata": {},
   "outputs": [],
   "source": [
    "def resample_by_year(df, column):\n",
    "    \"\"\"Resample rows within each year.\n",
    "\n",
    "    df: DataFrame\n",
    "    column: string name of weight variable\n",
    "\n",
    "    returns DataFrame\n",
    "    \"\"\"\n",
    "    grouped = df.groupby('year')\n",
    "    samples = [resample_rows_weighted(group, column)\n",
    "               for _, group in grouped]\n",
    "    sample = pd.concat(samples, ignore_index=True)\n",
    "    return sample"
   ]
  },
  {
   "cell_type": "code",
   "execution_count": 27,
   "metadata": {},
   "outputs": [],
   "source": [
    "np.random.seed(19)\n",
    "sample = resample_by_year(gss, 'wtssall')"
   ]
  },
  {
   "cell_type": "markdown",
   "metadata": {},
   "source": [
    "## Saving the results\n",
    "\n",
    "I'll save the results to an HDF5 file, which is a binary format that makes it much faster to read the data back.\n",
    "\n",
    "First I'll save the original (not resampled) data."
   ]
  },
  {
   "cell_type": "markdown",
   "metadata": {},
   "source": [
    "An HDF5 file is like a dictionary on disk.  It contains keys and corresponding values.\n",
    "\n",
    "`to_hdf` takes three arguments:\n",
    "\n",
    "* The filename, `gss_eda.hdf5`.\n",
    "\n",
    "* The key, `gss`\n",
    "\n",
    "* The compression level, which controls how hard the algorithm works to compress the file.\n",
    "\n",
    "So this file contains a single key, `gss`, which maps to the DataFrame with the original GSS data.\n",
    "\n",
    "The argument `w` says that if the file already exists, we should overwrite it.\n",
    "\n",
    "With compression level `3`, it reduces the size of the file by a factor of 10."
   ]
  },
  {
   "cell_type": "code",
   "execution_count": 28,
   "metadata": {},
   "outputs": [],
   "source": [
    "# save the original\n",
    "\n",
    "gss.to_hdf('gss_eda.hdf5', 'gss', 'w', complevel=3)"
   ]
  },
  {
   "cell_type": "code",
   "execution_count": 29,
   "metadata": {},
   "outputs": [
    {
     "name": "stdout",
     "output_type": "stream",
     "text": [
      "-rw-rw-r-- 1 downey downey 6939829 Mar 26 16:42 gss_eda.hdf5\r\n"
     ]
    }
   ],
   "source": [
    "!ls -l gss_eda.hdf5"
   ]
  },
  {
   "cell_type": "markdown",
   "metadata": {},
   "source": [
    "And I'll create a second file with three random resamplings of the original dataset."
   ]
  },
  {
   "cell_type": "code",
   "execution_count": 30,
   "metadata": {},
   "outputs": [],
   "source": [
    "# if the file already exists, remove it\n",
    "import os\n",
    "\n",
    "if os.path.isfile('gss_eda.3.hdf5'):\n",
    "    !rm gss_eda.3.hdf5"
   ]
  },
  {
   "cell_type": "markdown",
   "metadata": {},
   "source": [
    "This file contains three keys, `gss0`, `gss1`, and `gss2`, which map to three DataFrames."
   ]
  },
  {
   "cell_type": "code",
   "execution_count": 31,
   "metadata": {},
   "outputs": [],
   "source": [
    "# generate and store three resamplings\n",
    "keys = ['gss0', 'gss1', 'gss2']\n",
    "\n",
    "for i in range(3):\n",
    "    np.random.seed(i)\n",
    "    sample = resample_by_year(gss, 'wtssall')\n",
    "\n",
    "    sample.to_hdf('gss_eda.3.hdf5', keys[i], complevel=3)"
   ]
  },
  {
   "cell_type": "code",
   "execution_count": 32,
   "metadata": {},
   "outputs": [
    {
     "name": "stdout",
     "output_type": "stream",
     "text": [
      "-rw-rw-r-- 1 downey downey 20717513 Mar 26 16:42 gss_eda.3.hdf5\r\n"
     ]
    }
   ],
   "source": [
    "!ls -l gss_eda.3.hdf5"
   ]
  },
  {
   "cell_type": "markdown",
   "metadata": {},
   "source": [
    "For the other notebooks in this case study, we'll load this resampled data rather than reading and cleaning the data every time."
   ]
  },
  {
   "cell_type": "code",
   "execution_count": null,
   "metadata": {},
   "outputs": [],
   "source": []
  }
 ],
 "metadata": {
  "celltoolbar": "Tags",
  "kernelspec": {
   "display_name": "Python 3",
   "language": "python",
   "name": "python3"
  },
  "language_info": {
   "codemirror_mode": {
    "name": "ipython",
    "version": 3
   },
   "file_extension": ".py",
   "mimetype": "text/x-python",
   "name": "python",
   "nbconvert_exporter": "python",
   "pygments_lexer": "ipython3",
   "version": "3.7.10"
  }
 },
 "nbformat": 4,
 "nbformat_minor": 1
}
