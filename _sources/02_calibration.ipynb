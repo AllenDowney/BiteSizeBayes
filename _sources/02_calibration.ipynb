{
 "cells": [
  {
   "cell_type": "markdown",
   "metadata": {},
   "source": [
    "# Calibration"
   ]
  },
  {
   "cell_type": "markdown",
   "metadata": {
    "tags": [
     "remove-cell"
    ]
   },
   "source": [
    "Recidivism Case Study\n",
    "\n",
    "Copyright 2020 Allen B. Downey\n",
    "\n",
    "License: [Attribution-NonCommercial-ShareAlike 4.0 International (CC BY-NC-SA 4.0)](https://creativecommons.org/licenses/by-nc-sa/4.0/)"
   ]
  },
  {
   "cell_type": "markdown",
   "metadata": {},
   "source": [
    "## Review\n",
    "\n",
    "This is the second in a series of notebooks that make up a [case study on classification and algorithmic fairness](https://allendowney.github.io/RecidivismCaseStudy/).\n",
    "This case study is part of the [*Elements of Data Science*](https://allendowney.github.io/ElementsOfDataScience/) curriculum.\n",
    "\n",
    "[In the previous notebook](https://colab.research.google.com/github/AllenDowney/RecidivismCaseStudy/blob/master/01_classification.ipynb) we replicated the analysis reported in\n",
    "\"[Machine Bias](https://www.propublica.org/article/machine-bias-risk-assessments-in-criminal-sentencing)\", by Julia Angwin, Jeff Larson, Surya Mattu and Lauren Kirchner, published by [ProPublica](https://www.propublica.org) in May 2016.\n",
    "\n",
    "After the ProPublica article, the Washington Post published a response by Sam Corbett-Davies, Emma Pierson, Avi Feller and Sharad Goel: \"[A computer program used for bail and sentencing decisions was labeled biased against blacks. It’s actually not that clear.](https://www.washingtonpost.com/news/monkey-cage/wp/2016/10/17/can-an-algorithm-be-racist-our-analysis-is-more-cautious-than-propublicas/)\".\n",
    "\n",
    "I strongly encourage you to read both of those articles before you go on.  In this notebook, I explain some of the arguments presented in the Washington Post (WaPo) article, and we will replicate their analysis."
   ]
  },
  {
   "cell_type": "code",
   "execution_count": 1,
   "metadata": {},
   "outputs": [],
   "source": [
    "import pandas as pd\n",
    "import numpy as np\n",
    "import matplotlib.pyplot as plt"
   ]
  },
  {
   "cell_type": "markdown",
   "metadata": {},
   "source": [
    "## Data\n",
    "\n",
    "The authors of \"Machine Bias\" published their data and analysis in [this repository](https://github.com/propublica/compas-analysis).\n",
    "The terms of use for the data [are here](https://www.propublica.org/datastore/terms).  In compliance with those terms, I am not redistributing the data.  The following cell downloads the data file we'll use directly from their repository."
   ]
  },
  {
   "cell_type": "code",
   "execution_count": 2,
   "metadata": {},
   "outputs": [],
   "source": [
    "from os.path import basename, exists\n",
    "\n",
    "def download(url):\n",
    "    filename = basename(url)\n",
    "    if not exists(filename):\n",
    "        from urllib.request import urlretrieve\n",
    "        local, _ = urlretrieve(url, filename)\n",
    "        print('Downloaded ' + local)\n",
    "\n",
    "download('https://github.com/propublica/compas-analysis/raw/master/' +\n",
    "         'compas-scores-two-years.csv')"
   ]
  },
  {
   "cell_type": "markdown",
   "metadata": {},
   "source": [
    "The following cell reads the data file:"
   ]
  },
  {
   "cell_type": "code",
   "execution_count": 3,
   "metadata": {},
   "outputs": [
    {
     "data": {
      "text/plain": [
       "(7214, 53)"
      ]
     },
     "execution_count": 3,
     "metadata": {},
     "output_type": "execute_result"
    }
   ],
   "source": [
    "cp = pd.read_csv('compas-scores-two-years.csv')\n",
    "cp.shape"
   ]
  },
  {
   "cell_type": "markdown",
   "metadata": {},
   "source": [
    "The dataset includes 7214 rows, one for each defendant, and 53 columns."
   ]
  },
  {
   "cell_type": "markdown",
   "metadata": {},
   "source": [
    "## Data bias\n",
    "\n",
    "[**Note:** I wrote about data bias in the previous notebook, but I am repeating it here in case someone reads this notebook without reading the previous one.]\n",
    "\n",
    "Systems like COMPAS are trying to predict whether a defendant will *commit* another crime if released.  But the dataset reports whether a defendant was *charged* with another crime.\n",
    "\n",
    "Not everyone who commits a crime gets charged (not even close).  The probability of getting charged for a particular crime depends on the type of crime and location; the presence of witnesses and their willingness to work with police; the decisions of police about where to patrol, what crimes to investigate, and who to arrest; and decisions of prosecutors about who to charge.\n",
    "\n",
    "It is likely that every one of these factors depends on the race of the defendant.  In this dataset, the prevalence of *new charges* is higher for black defendants, but that doesn't necessarily mean that the prevalence of *new crimes* is higher.  \n",
    "\n",
    "If the dataset is affected by racial bias in the probability of being charged, prediction algorithms like COMPAS will be biased, too.  In discussions of whether and how these systems should be used in the criminal justice system, this is an important issue.  \n",
    "\n",
    "However, I am going to put it aside *for now* in order to focus on understanding the arguments posed in the ProPublica article and the metrics they are based on.  For the rest of this notebook I will take the \"recidivism rates\" in the dataset at face value; but I will try to be clear about that they mean (and don't mean)."
   ]
  },
  {
   "cell_type": "markdown",
   "metadata": {},
   "source": [
    "## Code\n",
    "\n",
    "The functions from the previous notebook are in a file called `utils.py`; the following cell downloads it if you don't already have it:"
   ]
  },
  {
   "cell_type": "code",
   "execution_count": 4,
   "metadata": {},
   "outputs": [],
   "source": [
    "download('https://raw.githubusercontent.com/AllenDowney/RecidivismCaseStudy/' +\n",
    "         'master/utils.py')"
   ]
  },
  {
   "cell_type": "markdown",
   "metadata": {},
   "source": [
    "## The WaPo response\n",
    "\n",
    "The Washington Post article summarizes the ProPublica article and the response from Northpointe, the company that makes COMPAS, like this:\n",
    "\n",
    "* ProPublica claims that COMPAS is unfair because \"among defendants who ultimately did not reoffend, blacks were more than twice as likely as whites to be classified as medium or high risk.\"\n",
    "\n",
    "* Northpointe claims that COMPAS is fair because \"scores mean essentially the same thing regardless of the defendant’s race. For example, among defendants who scored a seven on the COMPAS scale, 60 percent of white defendants reoffended, which is nearly identical to the 61 percent of black defendants who reoffended.\"\n",
    "\n",
    "So ProPublica and Northpointe are invoking different definitions of \"fair\"."
   ]
  },
  {
   "cell_type": "markdown",
   "metadata": {},
   "source": [
    "In the previous notebook we explored the first definition by computing error rates (false positive and false negative) for white and black defendants.\n",
    "\n",
    "In this notebook, we'll explore the second definition, which is called \"calibration\"."
   ]
  },
  {
   "cell_type": "markdown",
   "metadata": {},
   "source": [
    "## Calibration\n",
    "\n",
    "The WaPo article includes this figure, which shows \"white and black defendants with the same risk score are roughly equally likely to reoffend.\"\n",
    "\n",
    "<img width=70%, src='https://raw.githubusercontent.com/AllenDowney/RecidivismCaseStudy/master/calibration1.png'>"
   ]
  },
  {
   "cell_type": "markdown",
   "metadata": {},
   "source": [
    "To understand this figure, let's start by replicating it.\n",
    "\n",
    "The following function groups defendants by risk score and computes the fraction in each group that were charged with another crime within two years."
   ]
  },
  {
   "cell_type": "code",
   "execution_count": 5,
   "metadata": {},
   "outputs": [],
   "source": [
    "def calibration_curve(df):\n",
    "    \"\"\"Fraction in each risk group charged with another crime.\n",
    "    \n",
    "    df: DataFrame\n",
    "    \n",
    "    returns: Series\n",
    "    \"\"\"\n",
    "    grouped = df.groupby('decile_score')\n",
    "    return grouped['two_year_recid'].mean()"
   ]
  },
  {
   "cell_type": "markdown",
   "metadata": {},
   "source": [
    "The following figure shows this calibration curve for all defendants and for white and black defendants separately."
   ]
  },
  {
   "cell_type": "code",
   "execution_count": 6,
   "metadata": {},
   "outputs": [
    {
     "data": {
      "image/png": "[encoded data removed]",
      "text/plain": [
       "<Figure size 432x288 with 1 Axes>"
      ]
     },
     "metadata": {
      "needs_background": "light"
     },
     "output_type": "display_data"
    }
   ],
   "source": [
    "from utils import decorate\n",
    "\n",
    "cal_all = calibration_curve(cp)\n",
    "cal_all.plot(linestyle='dotted', \n",
    "              color='gray',\n",
    "              label='All defendants')\n",
    "\n",
    "white = (cp['race'] == 'Caucasian')\n",
    "cal_white = calibration_curve(cp[white])\n",
    "cal_white.plot(label='White')\n",
    "\n",
    "black = (cp['race'] == 'African-American')\n",
    "cal_black = calibration_curve(cp[black])\n",
    "cal_black.plot(label='Black')\n",
    "\n",
    "decorate(xlabel='Risk score',\n",
    "         ylabel='Fraction charged with new crime',\n",
    "         title='Recivism vs risk score, grouped by race')"
   ]
  },
  {
   "cell_type": "markdown",
   "metadata": {},
   "source": [
    "This figure shows that people with higher risk scores are more likely to be charged with a new crime within two years.  In that sense COMPAS works as intended.\n",
    "\n",
    "Furthermore, the test is equally calibrated for black and white defendants; that is, in each risk group, the rate of recidivism is about the same for black and white defendants."
   ]
  },
  {
   "cell_type": "markdown",
   "metadata": {},
   "source": [
    "The WaPo article explains why this is important:\n",
    "\n",
    "> A risk score of seven for black defendants should mean the same thing as a score of seven for white defendants. Imagine if that were not so, and we systematically assigned whites higher risk scores than equally risky black defendants with the goal of mitigating ProPublica’s criticism. We would consider that a violation of the fundamental tenet of equal treatment.\n",
    "\n",
    "So we want a test that has the same calibration for all groups, and we want a test that has the same error rates for all groups.  But there's the problem: as the WaPo article explains, it is mathematically impossible to be fair by both definitions at the same time.\n",
    "\n",
    "To see why, let's go back to the confusion matrix."
   ]
  },
  {
   "cell_type": "markdown",
   "metadata": {},
   "source": [
    "## Matrices and metrics\n",
    "\n",
    "In the previous notebook, we computed confusion matrices for white and black defendants.  Here they are again:"
   ]
  },
  {
   "cell_type": "code",
   "execution_count": 7,
   "metadata": {},
   "outputs": [
    {
     "data": {
      "text/html": [
       "<div>\n",
       "<style scoped>\n",
       "    .dataframe tbody tr th:only-of-type {\n",
       "        vertical-align: middle;\n",
       "    }\n",
       "\n",
       "    .dataframe tbody tr th {\n",
       "        vertical-align: top;\n",
       "    }\n",
       "\n",
       "    .dataframe thead th {\n",
       "        text-align: right;\n",
       "    }\n",
       "</style>\n",
       "<table border=\"1\" class=\"dataframe\">\n",
       "  <thead>\n",
       "    <tr style=\"text-align: right;\">\n",
       "      <th>Actual</th>\n",
       "      <th>Condition</th>\n",
       "      <th>No Condition</th>\n",
       "    </tr>\n",
       "    <tr>\n",
       "      <th>Predicted</th>\n",
       "      <th></th>\n",
       "      <th></th>\n",
       "    </tr>\n",
       "  </thead>\n",
       "  <tbody>\n",
       "    <tr>\n",
       "      <th>Positive</th>\n",
       "      <td>505</td>\n",
       "      <td>349</td>\n",
       "    </tr>\n",
       "    <tr>\n",
       "      <th>Negative</th>\n",
       "      <td>461</td>\n",
       "      <td>1139</td>\n",
       "    </tr>\n",
       "  </tbody>\n",
       "</table>\n",
       "</div>"
      ],
      "text/plain": [
       "Actual     Condition  No Condition\n",
       "Predicted                         \n",
       "Positive         505           349\n",
       "Negative         461          1139"
      ]
     },
     "execution_count": 7,
     "metadata": {},
     "output_type": "execute_result"
    }
   ],
   "source": [
    "from utils import make_matrix\n",
    "\n",
    "matrix_white = make_matrix(cp[white])\n",
    "matrix_white"
   ]
  },
  {
   "cell_type": "code",
   "execution_count": 8,
   "metadata": {
    "scrolled": true
   },
   "outputs": [
    {
     "data": {
      "text/html": [
       "<div>\n",
       "<style scoped>\n",
       "    .dataframe tbody tr th:only-of-type {\n",
       "        vertical-align: middle;\n",
       "    }\n",
       "\n",
       "    .dataframe tbody tr th {\n",
       "        vertical-align: top;\n",
       "    }\n",
       "\n",
       "    .dataframe thead th {\n",
       "        text-align: right;\n",
       "    }\n",
       "</style>\n",
       "<table border=\"1\" class=\"dataframe\">\n",
       "  <thead>\n",
       "    <tr style=\"text-align: right;\">\n",
       "      <th>Actual</th>\n",
       "      <th>Condition</th>\n",
       "      <th>No Condition</th>\n",
       "    </tr>\n",
       "    <tr>\n",
       "      <th>Predicted</th>\n",
       "      <th></th>\n",
       "      <th></th>\n",
       "    </tr>\n",
       "  </thead>\n",
       "  <tbody>\n",
       "    <tr>\n",
       "      <th>Positive</th>\n",
       "      <td>1369</td>\n",
       "      <td>805</td>\n",
       "    </tr>\n",
       "    <tr>\n",
       "      <th>Negative</th>\n",
       "      <td>532</td>\n",
       "      <td>990</td>\n",
       "    </tr>\n",
       "  </tbody>\n",
       "</table>\n",
       "</div>"
      ],
      "text/plain": [
       "Actual     Condition  No Condition\n",
       "Predicted                         \n",
       "Positive        1369           805\n",
       "Negative         532           990"
      ]
     },
     "execution_count": 8,
     "metadata": {},
     "output_type": "execute_result"
    }
   ],
   "source": [
    "matrix_black = make_matrix(cp[black])\n",
    "matrix_black"
   ]
  },
  {
   "cell_type": "markdown",
   "metadata": {},
   "source": [
    "And here are the metrics we computed from the confusion matrices:"
   ]
  },
  {
   "cell_type": "code",
   "execution_count": 9,
   "metadata": {
    "scrolled": true
   },
   "outputs": [
    {
     "data": {
      "text/html": [
       "<div>\n",
       "<style scoped>\n",
       "    .dataframe tbody tr th:only-of-type {\n",
       "        vertical-align: middle;\n",
       "    }\n",
       "\n",
       "    .dataframe tbody tr th {\n",
       "        vertical-align: top;\n",
       "    }\n",
       "\n",
       "    .dataframe thead th {\n",
       "        text-align: right;\n",
       "    }\n",
       "</style>\n",
       "<table border=\"1\" class=\"dataframe\">\n",
       "  <thead>\n",
       "    <tr style=\"text-align: right;\">\n",
       "      <th></th>\n",
       "      <th>Percent</th>\n",
       "    </tr>\n",
       "    <tr>\n",
       "      <th>White defendants</th>\n",
       "      <th></th>\n",
       "    </tr>\n",
       "  </thead>\n",
       "  <tbody>\n",
       "    <tr>\n",
       "      <th>FPR</th>\n",
       "      <td>23.454301</td>\n",
       "    </tr>\n",
       "    <tr>\n",
       "      <th>FNR</th>\n",
       "      <td>47.722567</td>\n",
       "    </tr>\n",
       "    <tr>\n",
       "      <th>PPV</th>\n",
       "      <td>59.133489</td>\n",
       "    </tr>\n",
       "    <tr>\n",
       "      <th>NPV</th>\n",
       "      <td>71.187500</td>\n",
       "    </tr>\n",
       "    <tr>\n",
       "      <th>Prevalence</th>\n",
       "      <td>39.364303</td>\n",
       "    </tr>\n",
       "  </tbody>\n",
       "</table>\n",
       "</div>"
      ],
      "text/plain": [
       "                    Percent\n",
       "White defendants           \n",
       "FPR               23.454301\n",
       "FNR               47.722567\n",
       "PPV               59.133489\n",
       "NPV               71.187500\n",
       "Prevalence        39.364303"
      ]
     },
     "execution_count": 9,
     "metadata": {},
     "output_type": "execute_result"
    }
   ],
   "source": [
    "from utils import compute_metrics\n",
    "\n",
    "metrics_white = compute_metrics(matrix_white, \n",
    "                                'White defendants')\n",
    "metrics_white"
   ]
  },
  {
   "cell_type": "code",
   "execution_count": 10,
   "metadata": {},
   "outputs": [
    {
     "data": {
      "text/html": [
       "<div>\n",
       "<style scoped>\n",
       "    .dataframe tbody tr th:only-of-type {\n",
       "        vertical-align: middle;\n",
       "    }\n",
       "\n",
       "    .dataframe tbody tr th {\n",
       "        vertical-align: top;\n",
       "    }\n",
       "\n",
       "    .dataframe thead th {\n",
       "        text-align: right;\n",
       "    }\n",
       "</style>\n",
       "<table border=\"1\" class=\"dataframe\">\n",
       "  <thead>\n",
       "    <tr style=\"text-align: right;\">\n",
       "      <th></th>\n",
       "      <th>Percent</th>\n",
       "    </tr>\n",
       "    <tr>\n",
       "      <th>Black defendants</th>\n",
       "      <th></th>\n",
       "    </tr>\n",
       "  </thead>\n",
       "  <tbody>\n",
       "    <tr>\n",
       "      <th>FPR</th>\n",
       "      <td>44.846797</td>\n",
       "    </tr>\n",
       "    <tr>\n",
       "      <th>FNR</th>\n",
       "      <td>27.985271</td>\n",
       "    </tr>\n",
       "    <tr>\n",
       "      <th>PPV</th>\n",
       "      <td>62.971481</td>\n",
       "    </tr>\n",
       "    <tr>\n",
       "      <th>NPV</th>\n",
       "      <td>65.045992</td>\n",
       "    </tr>\n",
       "    <tr>\n",
       "      <th>Prevalence</th>\n",
       "      <td>51.433983</td>\n",
       "    </tr>\n",
       "  </tbody>\n",
       "</table>\n",
       "</div>"
      ],
      "text/plain": [
       "                    Percent\n",
       "Black defendants           \n",
       "FPR               44.846797\n",
       "FNR               27.985271\n",
       "PPV               62.971481\n",
       "NPV               65.045992\n",
       "Prevalence        51.433983"
      ]
     },
     "execution_count": 10,
     "metadata": {},
     "output_type": "execute_result"
    }
   ],
   "source": [
    "metrics_black = compute_metrics(matrix_black, \n",
    "                                'Black defendants')\n",
    "metrics_black"
   ]
  },
  {
   "cell_type": "markdown",
   "metadata": {},
   "source": [
    "If we look at the error rates (FPR and FNR), it seems like COMPAS is biased against black defendants:\n",
    "\n",
    "* Their false positive rate is higher (45% vs 23%): among people who *will not* recidivate, black defendants are more likely to be classified high risk.\n",
    "\n",
    "* Their false negative rate is lower (28% vs 48%): among people who *will* recidivate, black defendants are less likely to be classified low risk."
   ]
  },
  {
   "cell_type": "markdown",
   "metadata": {},
   "source": [
    "But if we look at the the predictive values (PPV and NPV) it seems like COMPAS is biased in favor of black defendants:\n",
    "\n",
    "* Among people in the *high risk group*, black defendants are more likely to be charged with another crime (63% vs 59%).\n",
    "\n",
    "* Among people in the *low risk group*, black defendants are less likely to \"survive\" two years without another charge (65% vs 71%).\n",
    "\n",
    "It seems like we should be able to fix these problems, but it turns out that we can't. \n",
    "\n",
    "We'll see why in the next section."
   ]
  },
  {
   "cell_type": "markdown",
   "metadata": {},
   "source": [
    "## What would it take?\n",
    "\n",
    "Suppose we want to fix COMPAS so that predictive values are the same for black and white defendants.  We could do that by using different thresholds for the two groups.\n",
    "\n",
    "In this section, we'll figure out what it would take to re-calibrate COMPAS; then we'll see what effect that would have on predictive values. \n",
    "\n",
    "The following function loops through possible thresholds, makes the confusion matrix with each threshold, and computes accuracy metrics."
   ]
  },
  {
   "cell_type": "code",
   "execution_count": 11,
   "metadata": {},
   "outputs": [],
   "source": [
    "def sweep_threshold(cp):\n",
    "    \"\"\"Sweep a range of threshold and compute accuracy metrics.\n",
    "    \n",
    "    cp: DataFrame of COMPAS data\n",
    "    \n",
    "    returns: DataFrame with one row for each threshold and\n",
    "             one column for each metric\n",
    "    \"\"\"\n",
    "    index = range(0, 11)\n",
    "    columns = ['FPR', 'FNR', 'PPV', 'NPV', 'Prevalence']\n",
    "    table = pd.DataFrame(index=index, columns=columns, dtype=float) \n",
    "\n",
    "    for threshold in index:\n",
    "        m = make_matrix(cp, threshold)\n",
    "        metrics = compute_metrics(m)\n",
    "        table.loc[threshold] = metrics['Percent']\n",
    "        \n",
    "    return table"
   ]
  },
  {
   "cell_type": "markdown",
   "metadata": {},
   "source": [
    "Here's the resulting table for all defendants."
   ]
  },
  {
   "cell_type": "code",
   "execution_count": 12,
   "metadata": {},
   "outputs": [
    {
     "data": {
      "text/html": [
       "<div>\n",
       "<style scoped>\n",
       "    .dataframe tbody tr th:only-of-type {\n",
       "        vertical-align: middle;\n",
       "    }\n",
       "\n",
       "    .dataframe tbody tr th {\n",
       "        vertical-align: top;\n",
       "    }\n",
       "\n",
       "    .dataframe thead th {\n",
       "        text-align: right;\n",
       "    }\n",
       "</style>\n",
       "<table border=\"1\" class=\"dataframe\">\n",
       "  <thead>\n",
       "    <tr style=\"text-align: right;\">\n",
       "      <th></th>\n",
       "      <th>FPR</th>\n",
       "      <th>FNR</th>\n",
       "      <th>PPV</th>\n",
       "      <th>NPV</th>\n",
       "      <th>Prevalence</th>\n",
       "    </tr>\n",
       "  </thead>\n",
       "  <tbody>\n",
       "    <tr>\n",
       "      <th>0</th>\n",
       "      <td>100.000000</td>\n",
       "      <td>0.000000</td>\n",
       "      <td>45.065151</td>\n",
       "      <td>NaN</td>\n",
       "      <td>45.065151</td>\n",
       "    </tr>\n",
       "    <tr>\n",
       "      <th>1</th>\n",
       "      <td>71.435781</td>\n",
       "      <td>9.474008</td>\n",
       "      <td>50.969865</td>\n",
       "      <td>78.611111</td>\n",
       "      <td>45.065151</td>\n",
       "    </tr>\n",
       "    <tr>\n",
       "      <th>2</th>\n",
       "      <td>55.084532</td>\n",
       "      <td>18.486620</td>\n",
       "      <td>54.831368</td>\n",
       "      <td>74.758505</td>\n",
       "      <td>45.065151</td>\n",
       "    </tr>\n",
       "    <tr>\n",
       "      <th>3</th>\n",
       "      <td>43.325763</td>\n",
       "      <td>27.130114</td>\n",
       "      <td>57.978463</td>\n",
       "      <td>71.803069</td>\n",
       "      <td>45.065151</td>\n",
       "    </tr>\n",
       "    <tr>\n",
       "      <th>4</th>\n",
       "      <td>32.349230</td>\n",
       "      <td>37.403876</td>\n",
       "      <td>61.350618</td>\n",
       "      <td>68.796510</td>\n",
       "      <td>45.065151</td>\n",
       "    </tr>\n",
       "    <tr>\n",
       "      <th>5</th>\n",
       "      <td>23.391370</td>\n",
       "      <td>47.431560</td>\n",
       "      <td>64.833080</td>\n",
       "      <td>66.317169</td>\n",
       "      <td>45.065151</td>\n",
       "    </tr>\n",
       "    <tr>\n",
       "      <th>6</th>\n",
       "      <td>16.250315</td>\n",
       "      <td>58.443556</td>\n",
       "      <td>67.719298</td>\n",
       "      <td>63.594558</td>\n",
       "      <td>45.065151</td>\n",
       "    </tr>\n",
       "    <tr>\n",
       "      <th>7</th>\n",
       "      <td>10.143830</td>\n",
       "      <td>69.209474</td>\n",
       "      <td>71.347113</td>\n",
       "      <td>61.280330</td>\n",
       "      <td>45.065151</td>\n",
       "    </tr>\n",
       "    <tr>\n",
       "      <th>8</th>\n",
       "      <td>6.056018</td>\n",
       "      <td>79.975392</td>\n",
       "      <td>73.063973</td>\n",
       "      <td>58.880278</td>\n",
       "      <td>45.065151</td>\n",
       "    </tr>\n",
       "    <tr>\n",
       "      <th>9</th>\n",
       "      <td>2.195307</td>\n",
       "      <td>90.895109</td>\n",
       "      <td>77.284595</td>\n",
       "      <td>56.741326</td>\n",
       "      <td>45.065151</td>\n",
       "    </tr>\n",
       "    <tr>\n",
       "      <th>10</th>\n",
       "      <td>0.000000</td>\n",
       "      <td>100.000000</td>\n",
       "      <td>NaN</td>\n",
       "      <td>54.934849</td>\n",
       "      <td>45.065151</td>\n",
       "    </tr>\n",
       "  </tbody>\n",
       "</table>\n",
       "</div>"
      ],
      "text/plain": [
       "           FPR         FNR        PPV        NPV  Prevalence\n",
       "0   100.000000    0.000000  45.065151        NaN   45.065151\n",
       "1    71.435781    9.474008  50.969865  78.611111   45.065151\n",
       "2    55.084532   18.486620  54.831368  74.758505   45.065151\n",
       "3    43.325763   27.130114  57.978463  71.803069   45.065151\n",
       "4    32.349230   37.403876  61.350618  68.796510   45.065151\n",
       "5    23.391370   47.431560  64.833080  66.317169   45.065151\n",
       "6    16.250315   58.443556  67.719298  63.594558   45.065151\n",
       "7    10.143830   69.209474  71.347113  61.280330   45.065151\n",
       "8     6.056018   79.975392  73.063973  58.880278   45.065151\n",
       "9     2.195307   90.895109  77.284595  56.741326   45.065151\n",
       "10    0.000000  100.000000        NaN  54.934849   45.065151"
      ]
     },
     "execution_count": 12,
     "metadata": {},
     "output_type": "execute_result"
    }
   ],
   "source": [
    "table_all = sweep_threshold(cp)\n",
    "table_all"
   ]
  },
  {
   "cell_type": "markdown",
   "metadata": {},
   "source": [
    "The following figure shows error rates as a function of threshold."
   ]
  },
  {
   "cell_type": "code",
   "execution_count": 13,
   "metadata": {},
   "outputs": [
    {
     "data": {
      "image/png": "[encoded data removed]",
      "text/plain": [
       "<Figure size 432x288 with 1 Axes>"
      ]
     },
     "metadata": {
      "needs_background": "light"
     },
     "output_type": "display_data"
    }
   ],
   "source": [
    "table_all['FPR'].plot(color='C2')\n",
    "table_all['FNR'].plot(color='C4')\n",
    "\n",
    "decorate(xlabel='Threshold', \n",
    "         ylabel='Percent',\n",
    "         title='Error rates for a range of thresholds')"
   ]
  },
  {
   "cell_type": "markdown",
   "metadata": {},
   "source": [
    "When the threshold is low, almost everyone is in the high risk group; in that case:\n",
    "\n",
    "* FNR is low because most recidivists are in the high risk group, but\n",
    "\n",
    "* FPR is high because most non-recidivists are *also* in the high risk group. \n",
    "\n",
    "When the threshold is high, almost everyone is in the low risk group, and the metrics are the other way around:\n",
    "\n",
    "* FPR is low because most non-recidivists are in the low risk group, but\n",
    "\n",
    "* FNR is high because most recidivists are *also* in the low risk group.\n",
    "\n",
    "The following figure shows predictive values for a range of thresholds."
   ]
  },
  {
   "cell_type": "code",
   "execution_count": 14,
   "metadata": {},
   "outputs": [
    {
     "data": {
      "image/png": "[encoded data removed]",
      "text/plain": [
       "<Figure size 432x288 with 1 Axes>"
      ]
     },
     "metadata": {
      "needs_background": "light"
     },
     "output_type": "display_data"
    }
   ],
   "source": [
    "table_all['PPV'].plot(color='C0')\n",
    "table_all['NPV'].plot(color='C1')\n",
    "\n",
    "decorate(xlabel='Threshold', \n",
    "         ylabel='Percent',\n",
    "         title='Predictive values for a range of thresholds')"
   ]
  },
  {
   "cell_type": "markdown",
   "metadata": {},
   "source": [
    "When the threshold is too low, PPV is low.  When the threshold is too high, NPV is low.\n",
    "\n",
    "Now I'll compute tables for black and white defendants separately."
   ]
  },
  {
   "cell_type": "code",
   "execution_count": 15,
   "metadata": {},
   "outputs": [],
   "source": [
    "table_white = sweep_threshold(cp[white])"
   ]
  },
  {
   "cell_type": "code",
   "execution_count": 16,
   "metadata": {},
   "outputs": [],
   "source": [
    "table_black = sweep_threshold(cp[black])"
   ]
  },
  {
   "cell_type": "markdown",
   "metadata": {},
   "source": [
    "I'll use the following function to interpolate columns in the table; that is, for a given threshold I can compute the corresponding metric."
   ]
  },
  {
   "cell_type": "code",
   "execution_count": 17,
   "metadata": {},
   "outputs": [],
   "source": [
    "from scipy.interpolate import interp1d\n",
    "\n",
    "def interpolate(series, value, **options):\n",
    "    \"\"\"Evaluate a function at a value.\n",
    "    \n",
    "    series: Series\n",
    "    value: number\n",
    "    options: passed to interp1d (default is linear interp)\n",
    "    \n",
    "    returns: number\n",
    "    \"\"\"\n",
    "    interp = interp1d(series.index, series.values, **options)\n",
    "    return interp(value)"
   ]
  },
  {
   "cell_type": "markdown",
   "metadata": {},
   "source": [
    "The following function goes the other way: it estimates the threshold where a column passes through a given metric."
   ]
  },
  {
   "cell_type": "code",
   "execution_count": 18,
   "metadata": {},
   "outputs": [],
   "source": [
    "def crossing(series, value, **options):\n",
    "    \"\"\"Find where a function crosses a value.\n",
    "    \n",
    "    series: Series\n",
    "    value: number\n",
    "    options: passed to interp1d (default is linear interp)\n",
    "    \n",
    "    returns: number\n",
    "    \"\"\"\n",
    "    interp = interp1d(series.values, series.index, **options)\n",
    "    return interp(value)"
   ]
  },
  {
   "cell_type": "markdown",
   "metadata": {},
   "source": [
    "We can use `crossing` to calibrate the test for white defendants; that is, we can compute the threshold that would make the error rates for white defendants the same as for the general population."
   ]
  },
  {
   "cell_type": "code",
   "execution_count": 19,
   "metadata": {},
   "outputs": [],
   "source": [
    "from utils import error_rates\n",
    "\n",
    "matrix_all = make_matrix(cp)\n",
    "fpr, fnr = error_rates(matrix_all)"
   ]
  },
  {
   "cell_type": "code",
   "execution_count": 20,
   "metadata": {},
   "outputs": [
    {
     "data": {
      "text/plain": [
       "array(3.23048519)"
      ]
     },
     "execution_count": 20,
     "metadata": {},
     "output_type": "execute_result"
    }
   ],
   "source": [
    "crossing(table_white['FPR'], fpr)"
   ]
  },
  {
   "cell_type": "code",
   "execution_count": 21,
   "metadata": {},
   "outputs": [
    {
     "data": {
      "text/plain": [
       "array(3.11788885)"
      ]
     },
     "execution_count": 21,
     "metadata": {},
     "output_type": "execute_result"
    }
   ],
   "source": [
    "crossing(table_white['FNR'], fnr)"
   ]
  },
  {
   "cell_type": "markdown",
   "metadata": {},
   "source": [
    "With a threshold near 3.2, white defendants would have the same error rates as the general population.\n",
    "\n",
    "Now let's do the same computation for black defendants."
   ]
  },
  {
   "cell_type": "code",
   "execution_count": 22,
   "metadata": {},
   "outputs": [
    {
     "data": {
      "text/plain": [
       "array(5.20906103)"
      ]
     },
     "execution_count": 22,
     "metadata": {},
     "output_type": "execute_result"
    }
   ],
   "source": [
    "crossing(table_black['FPR'], fpr)"
   ]
  },
  {
   "cell_type": "code",
   "execution_count": 23,
   "metadata": {},
   "outputs": [
    {
     "data": {
      "text/plain": [
       "array(5.01417524)"
      ]
     },
     "execution_count": 23,
     "metadata": {},
     "output_type": "execute_result"
    }
   ],
   "source": [
    "crossing(table_black['FNR'], fnr)"
   ]
  },
  {
   "cell_type": "markdown",
   "metadata": {},
   "source": [
    "To get the same error rates for black and white defendants, we would need different thresholds: about 5.1 compared to 3.2.\n",
    "\n",
    "At those levels, the predictive values are substantially different.  \n",
    "\n",
    "Here's PPV for each group with different thresholds:"
   ]
  },
  {
   "cell_type": "code",
   "execution_count": 24,
   "metadata": {},
   "outputs": [
    {
     "data": {
      "text/plain": [
       "array(55.23319482)"
      ]
     },
     "execution_count": 24,
     "metadata": {},
     "output_type": "execute_result"
    }
   ],
   "source": [
    "interpolate(table_white['PPV'], 3.2)"
   ]
  },
  {
   "cell_type": "code",
   "execution_count": 25,
   "metadata": {},
   "outputs": [
    {
     "data": {
      "text/plain": [
       "array(66.21639173)"
      ]
     },
     "execution_count": 25,
     "metadata": {},
     "output_type": "execute_result"
    }
   ],
   "source": [
    "interpolate(table_black['PPV'], 5.1)"
   ]
  },
  {
   "cell_type": "markdown",
   "metadata": {},
   "source": [
    "With equal error rates, we get different PPV:\n",
    "\n",
    "* Among white defendants in the high risk group, about 55% would recidivate.\n",
    "\n",
    "* Among black defendants in the high risk group, about 66% would recidivate.\n",
    "\n",
    "Here's NPV for each group with different thresholds:"
   ]
  },
  {
   "cell_type": "code",
   "execution_count": 26,
   "metadata": {},
   "outputs": [
    {
     "data": {
      "text/plain": [
       "array(73.06639734)"
      ]
     },
     "execution_count": 26,
     "metadata": {},
     "output_type": "execute_result"
    }
   ],
   "source": [
    "interpolate(table_white['NPV'], 3.2)"
   ]
  },
  {
   "cell_type": "code",
   "execution_count": 27,
   "metadata": {},
   "outputs": [
    {
     "data": {
      "text/plain": [
       "array(62.16782561)"
      ]
     },
     "execution_count": 27,
     "metadata": {},
     "output_type": "execute_result"
    }
   ],
   "source": [
    "interpolate(table_black['NPV'], 5.1)"
   ]
  },
  {
   "cell_type": "markdown",
   "metadata": {},
   "source": [
    "With equal error rates, the NPVs are substantially different:\n",
    "\n",
    "* Among white defendants in the low risk group, 73% survive two years without another charge.\n",
    "\n",
    "* Among black defendants in the low risk group, 62% survive."
   ]
  },
  {
   "cell_type": "markdown",
   "metadata": {},
   "source": [
    "To summarize, if the test is calibrated in terms of error rates, it is not calibrated in terms of predictive values.\n",
    "\n",
    "* If we make the error rates more equal, we make the predictive values more unfair, and \n",
    "\n",
    "* If we make the predictive values more equal, we make the error rates more unfair.\n",
    "\n",
    "Fundamentally, the problem is that the prevalence of recidivism is different in the two groups: about 39% of white defendants were charged with another crime within two years, compared to 51% of black defendants.\n",
    "\n",
    "As long as that's the case (for any two groups) the predictive values and error rates can't be \"fair\" at the same time."
   ]
  },
  {
   "cell_type": "markdown",
   "metadata": {},
   "source": [
    "## ROC\n",
    "\n",
    "In the previous section I plotted various metrics as as function of threshold.  Another common and useful way to visualize these results is to plot sensitivity (which is the complement of FNR) versus FPR.  For historical reasons, the result is called a [receiver operating characteristic (ROC) curve](https://en.wikipedia.org/wiki/Receiver_operating_characteristic).\n",
    "\n",
    "The following function plots the ROC curve:"
   ]
  },
  {
   "cell_type": "code",
   "execution_count": 28,
   "metadata": {},
   "outputs": [],
   "source": [
    "def plot_roc(table, **options):\n",
    "    \"\"\"Plot the ROC curve.\n",
    "    \n",
    "    table: DataFrame of metrics as a function of \n",
    "           classification threshold\n",
    "    options: passed to plot\n",
    "    \"\"\"\n",
    "    plt.plot([0,100], [0,100], ':', color='gray')\n",
    "    sens = 100-table['FNR']\n",
    "    plt.plot(table['FPR'], sens, **options)\n",
    "    decorate(xlabel='FPR',\n",
    "             ylabel='Sensitivity (1-FNR)',\n",
    "             title='ROC curve')"
   ]
  },
  {
   "cell_type": "markdown",
   "metadata": {},
   "source": [
    "Here's the ROC curve for all defendants."
   ]
  },
  {
   "cell_type": "code",
   "execution_count": 29,
   "metadata": {},
   "outputs": [
    {
     "data": {
      "image/png": "[encoded data removed]",
      "text/plain": [
       "<Figure size 432x288 with 1 Axes>"
      ]
     },
     "metadata": {
      "needs_background": "light"
     },
     "output_type": "display_data"
    }
   ],
   "source": [
    "plot_roc(table_all, color='C2', label='All defendants')"
   ]
  },
  {
   "cell_type": "markdown",
   "metadata": {},
   "source": [
    "The green line is the ROC curve.  The gray dotted line shows the identity line for comparison.\n",
    "\n",
    "An ideal test would have high sensitivity for all values of FPR, but in reality there is almost always a trade-off:\n",
    "\n",
    "* When FPR is low, sensitivity is low.  \n",
    "\n",
    "* In order to get more sensitivity, we have to accept a higher FPR.\n",
    "\n",
    "The ROC curve tells us how much sensitivity we get for a given FPR or, the other way around, how much FPR we have to accept to achieve a given sensitivity.\n",
    "\n",
    "The following figure shows the ROC curves for white and black defendants."
   ]
  },
  {
   "cell_type": "code",
   "execution_count": 30,
   "metadata": {
    "scrolled": true
   },
   "outputs": [
    {
     "data": {
      "image/png": "[encoded data removed]",
      "text/plain": [
       "<Figure size 432x288 with 1 Axes>"
      ]
     },
     "metadata": {
      "needs_background": "light"
     },
     "output_type": "display_data"
    }
   ],
   "source": [
    "plot_roc(table_white)\n",
    "plot_roc(table_black)"
   ]
  },
  {
   "cell_type": "markdown",
   "metadata": {},
   "source": [
    "The ROC curves are similar for the two groups, which shows that we can achieve nearly the same error rates (FPR and FNR) for the two groups, as we did in the previous section.\n",
    "\n",
    "It also shows that the test has nearly the same \"concordance\" for both groups, which I explain in the next section."
   ]
  },
  {
   "cell_type": "markdown",
   "metadata": {},
   "source": [
    "## AUC\n",
    "\n",
    "The authors of the ProPublica article published a supplementary article,\n",
    "[*How We Analyzed the COMPAS Recidivism Algorithm*](https://www.propublica.org/article/how-we-analyzed-the-compas-recidivism-algorithm), which describes their analysis in more detail.\n",
    "\n",
    "As another metric of accuracy, they estimate [concordance](https://cran.r-project.org/web/packages/survival/vignettes/concordance.pdf), which they describe like this:\n",
    "\n",
    "> Overall, [COMPAS has] a concordance score of 63.6 percent.  That means for any randomly selected pair of defendants in the sample, the COMPAS system can accurately rank their recidivism risk 63.6 percent of the time (e.g. if one person of the pair recidivates, that pair will count as a successful match if that person also had a higher score). In its study, Northpointe reported a slightly higher concordance: 68 percent."
   ]
  },
  {
   "cell_type": "markdown",
   "metadata": {},
   "source": [
    "They explain: \n",
    "\n",
    "> [These estimates] are lower than what Northpointe describes as a threshold for reliability. “A rule of thumb according to several recent articles is that AUCs of .70 or above typically indicate satisfactory predictive accuracy, and measures between .60 and .70 suggest low to moderate predictive accuracy,” the company says in its study.\n",
    "\n",
    "There are several ways to compute concordance, but one of the simplest is to compute the area under the ROC curve.  If you would like to know why this works, [you might find this discussion helpful](https://stats.stackexchange.com/questions/180638/how-to-derive-the-probabilistic-interpretation-of-the-auc).\n",
    "\n",
    "Since we've already computed the ROC, we can use [Simpson's rule](https://en.wikipedia.org/wiki/Simpson%27s_rule) to estimate the area under the curve."
   ]
  },
  {
   "cell_type": "code",
   "execution_count": 31,
   "metadata": {},
   "outputs": [],
   "source": [
    "from scipy.integrate import simps\n",
    "\n",
    "def compute_auc(table):\n",
    "    \"\"\"Compute the area under the ROC curve.\n",
    "    \n",
    "    Uses the trapezoid rule, so \n",
    "    \"\"\"\n",
    "    y = 100-table['FNR']\n",
    "    x = table['FPR']\n",
    "    y = y.sort_index(ascending=False) / 100\n",
    "    x = x.sort_index(ascending=False) / 100\n",
    "    return simps(y.values, x.values)"
   ]
  },
  {
   "cell_type": "markdown",
   "metadata": {},
   "source": [
    "The concordance (AUC) for all respondents is about 70%."
   ]
  },
  {
   "cell_type": "code",
   "execution_count": 32,
   "metadata": {},
   "outputs": [
    {
     "data": {
      "text/plain": [
       "0.7059974460900778"
      ]
     },
     "execution_count": 32,
     "metadata": {},
     "output_type": "execute_result"
    }
   ],
   "source": [
    "compute_auc(table_all)"
   ]
  },
  {
   "cell_type": "markdown",
   "metadata": {},
   "source": [
    "For the subgroups it is slightly lower, but also near 70%."
   ]
  },
  {
   "cell_type": "code",
   "execution_count": 33,
   "metadata": {},
   "outputs": [
    {
     "data": {
      "text/plain": [
       "0.6995093159638619"
      ]
     },
     "execution_count": 33,
     "metadata": {},
     "output_type": "execute_result"
    }
   ],
   "source": [
    "compute_auc(table_white)"
   ]
  },
  {
   "cell_type": "code",
   "execution_count": 34,
   "metadata": {},
   "outputs": [
    {
     "data": {
      "text/plain": [
       "0.694567757058852"
      ]
     },
     "execution_count": 34,
     "metadata": {},
     "output_type": "execute_result"
    }
   ],
   "source": [
    "compute_auc(table_black)"
   ]
  },
  {
   "cell_type": "markdown",
   "metadata": {},
   "source": [
    "Different ways of computing concordance handle ties differently, which is probably why we, ProPublica, and Northpointe get somewhat different estimates.\n",
    "\n",
    "But qualitatively they all tell the same story; as a binary classifier, COMPAS is only moderately accurate.  However, it seems to be equally accurate, by this metric, for white and black defendants."
   ]
  },
  {
   "cell_type": "markdown",
   "metadata": {},
   "source": [
    "## Summary\n",
    "\n",
    "In this notebook, we replicated the analysis reported in the WaPo article and confirmed two of the arguments they presented:\n",
    "\n",
    "1. COMPAS is calibrated in the sense that white and black defendants with the same risk score have almost the same probability of being charged with another crime.  This implies that it has roughly the same predictive value for both groups.\n",
    "\n",
    "2. It is mathematically impossible for COMPAS to have the same predictive values for both groups and the same error rates at the same time.\n",
    "\n",
    "And we showed:\n",
    "\n",
    "* If you design a test to achieve equal predictive value across groups with different prevalence, you will find that error rates differ.  Specifically, false positive rates will be higher in groups with higher recividism.\n",
    "\n",
    "* If you design a test to achieve equal error rates across groups, you will find that predictive values differ.  Specifically, positive predictive value will be lower in groups with lower rates of recidivism.\n",
    "\n",
    "Finally, we derived the ROC curve and computed AUC, which shows that COMPAS has nearly the same concordance for white and black defendants.\n",
    "\n",
    "In [the next notebook](https://colab.research.google.com/github/AllenDowney/RecidivismCaseStudy/blob/master/03_fairness.ipynb) I apply the same analysis to evaluate the performance of COMPAS for male and female defendants.  I find that COMPAS is unfair to women, but in a way that's opposite what we have seen so far: the error rates are about the same for both groups, but the predictive values are substantially different."
   ]
  },
  {
   "cell_type": "raw",
   "metadata": {},
   "source": []
  }
 ],
 "metadata": {
  "celltoolbar": "Tags",
  "kernelspec": {
   "display_name": "Python 3",
   "language": "python",
   "name": "python3"
  },
  "language_info": {
   "codemirror_mode": {
    "name": "ipython",
    "version": 3
   },
   "file_extension": ".py",
   "mimetype": "text/x-python",
   "name": "python",
   "nbconvert_exporter": "python",
   "pygments_lexer": "ipython3",
   "version": "3.7.10"
  }
 },
 "nbformat": 4,
 "nbformat_minor": 4
}
