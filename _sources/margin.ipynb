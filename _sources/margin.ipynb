{
 "cells": [
  {
   "cell_type": "markdown",
   "metadata": {},
   "source": [
    "# The Margin Matters\n",
    "\n",
    "Allen Downey\n",
    "\n",
    "[MIT License](https://en.wikipedia.org/wiki/MIT_License)"
   ]
  },
  {
   "cell_type": "code",
   "execution_count": 1,
   "metadata": {},
   "outputs": [],
   "source": [
    "import pandas as pd\n",
    "import numpy as np\n",
    "import matplotlib.pyplot as plt\n",
    "import seaborn as sns\n",
    "\n",
    "import statsmodels.formula.api as smf"
   ]
  },
  {
   "cell_type": "markdown",
   "metadata": {},
   "source": [
    "## Tracking Congress\n",
    "\n",
    "If you Google \"Republican Congress backbone\", you will get a lot of answers to the same question: \"Why do Republicans in Congress vote with Donald Trump, even when his policies conflict with long-standing Republican principles?\n",
    "\n",
    "[This example from *The New York Times*](https://www.nytimes.com/2020/02/05/opinion/trump-senate-acquittal-impeachment.html) suggests it comes down to fear of reprisal from Trump, the party leadership, the conservative media, and social media.\n",
    "\n",
    "At the same time, when pundits are asked to explain a vote from a particular member of Congress, they often start with something like, \"So-and-so represents a district that voted for Trump by a 20% margin...\"\n",
    "\n",
    "So that makes me wonder: if members of Congress are voting out of fear, to what degree are they afraid of their constituents?\n",
    "\n",
    "It seems like our friends at FiveThirtyEight have thought about the same question, because they publish \"An updating tally of how often every member of the House and the Senate votes with or against the president\": \n",
    "\n",
    "* [Tracking Congress In The Age Of Trump](https://projects.fivethirtyeight.com/congress-trump-score/?ex_cid=rrpromo)\n",
    "\n",
    "The table there includes every member of the 115th and 116th Congresses who cast a vote; it reports Trump's margin of victory in the region they represent and the fraction of votes they cast that agree with Trump (they explain how they determined that).\n",
    "\n",
    "I'll use their data to explore the relationship between these voting patterns and Trump's margin victory."
   ]
  },
  {
   "cell_type": "code",
   "execution_count": 2,
   "metadata": {},
   "outputs": [],
   "source": [
    "# Load the data file\n",
    "\n",
    "import os\n",
    "\n",
    "if not os.path.exists('averages.csv'):\n",
    "    !wget https://projects.fivethirtyeight.com/congress-tracker-data/csv/averages.csv"
   ]
  },
  {
   "cell_type": "markdown",
   "metadata": {},
   "source": [
    "Here's what the dataset looks like."
   ]
  },
  {
   "cell_type": "code",
   "execution_count": 3,
   "metadata": {},
   "outputs": [
    {
     "data": {
      "text/html": [
       "<div>\n",
       "<style scoped>\n",
       "    .dataframe tbody tr th:only-of-type {\n",
       "        vertical-align: middle;\n",
       "    }\n",
       "\n",
       "    .dataframe tbody tr th {\n",
       "        vertical-align: top;\n",
       "    }\n",
       "\n",
       "    .dataframe thead th {\n",
       "        text-align: right;\n",
       "    }\n",
       "</style>\n",
       "<table border=\"1\" class=\"dataframe\">\n",
       "  <thead>\n",
       "    <tr style=\"text-align: right;\">\n",
       "      <th></th>\n",
       "      <th>congress</th>\n",
       "      <th>chamber</th>\n",
       "      <th>bioguide</th>\n",
       "      <th>last_name</th>\n",
       "      <th>state</th>\n",
       "      <th>district</th>\n",
       "      <th>party</th>\n",
       "      <th>votes</th>\n",
       "      <th>agree_pct</th>\n",
       "      <th>predicted_agree</th>\n",
       "      <th>net_trump_vote</th>\n",
       "    </tr>\n",
       "  </thead>\n",
       "  <tbody>\n",
       "    <tr>\n",
       "      <th>0</th>\n",
       "      <td>0</td>\n",
       "      <td>house</td>\n",
       "      <td>A000055</td>\n",
       "      <td>Aderholt</td>\n",
       "      <td>AL</td>\n",
       "      <td>4.0</td>\n",
       "      <td>Republican</td>\n",
       "      <td>164.0</td>\n",
       "      <td>0.975610</td>\n",
       "      <td>0.957037</td>\n",
       "      <td>63.0</td>\n",
       "    </tr>\n",
       "    <tr>\n",
       "      <th>1</th>\n",
       "      <td>115</td>\n",
       "      <td>house</td>\n",
       "      <td>A000055</td>\n",
       "      <td>Aderholt</td>\n",
       "      <td>AL</td>\n",
       "      <td>4.0</td>\n",
       "      <td>R</td>\n",
       "      <td>95.0</td>\n",
       "      <td>0.968421</td>\n",
       "      <td>0.946349</td>\n",
       "      <td>63.0</td>\n",
       "    </tr>\n",
       "    <tr>\n",
       "      <th>2</th>\n",
       "      <td>116</td>\n",
       "      <td>house</td>\n",
       "      <td>A000055</td>\n",
       "      <td>Aderholt</td>\n",
       "      <td>AL</td>\n",
       "      <td>4.0</td>\n",
       "      <td>R</td>\n",
       "      <td>69.0</td>\n",
       "      <td>0.985507</td>\n",
       "      <td>0.971751</td>\n",
       "      <td>63.0</td>\n",
       "    </tr>\n",
       "    <tr>\n",
       "      <th>3</th>\n",
       "      <td>0</td>\n",
       "      <td>house</td>\n",
       "      <td>A000367</td>\n",
       "      <td>Amash</td>\n",
       "      <td>MI</td>\n",
       "      <td>3.0</td>\n",
       "      <td>Independent</td>\n",
       "      <td>163.0</td>\n",
       "      <td>0.638037</td>\n",
       "      <td>0.753716</td>\n",
       "      <td>9.4</td>\n",
       "    </tr>\n",
       "    <tr>\n",
       "      <th>4</th>\n",
       "      <td>115</td>\n",
       "      <td>house</td>\n",
       "      <td>A000367</td>\n",
       "      <td>Amash</td>\n",
       "      <td>MI</td>\n",
       "      <td>3.0</td>\n",
       "      <td>R</td>\n",
       "      <td>96.0</td>\n",
       "      <td>0.541667</td>\n",
       "      <td>0.847386</td>\n",
       "      <td>9.4</td>\n",
       "    </tr>\n",
       "  </tbody>\n",
       "</table>\n",
       "</div>"
      ],
      "text/plain": [
       "   congress chamber bioguide last_name state  district        party  votes  \\\n",
       "0         0   house  A000055  Aderholt    AL       4.0   Republican  164.0   \n",
       "1       115   house  A000055  Aderholt    AL       4.0            R   95.0   \n",
       "2       116   house  A000055  Aderholt    AL       4.0            R   69.0   \n",
       "3         0   house  A000367     Amash    MI       3.0  Independent  163.0   \n",
       "4       115   house  A000367     Amash    MI       3.0            R   96.0   \n",
       "\n",
       "   agree_pct  predicted_agree  net_trump_vote  \n",
       "0   0.975610         0.957037            63.0  \n",
       "1   0.968421         0.946349            63.0  \n",
       "2   0.985507         0.971751            63.0  \n",
       "3   0.638037         0.753716             9.4  \n",
       "4   0.541667         0.847386             9.4  "
      ]
     },
     "execution_count": 3,
     "metadata": {},
     "output_type": "execute_result"
    }
   ],
   "source": [
    "df = pd.read_csv('averages.csv')\n",
    "df.head()"
   ]
  },
  {
   "cell_type": "markdown",
   "metadata": {},
   "source": [
    "I'll select the rows with `congress==0`, which is the sum of votes from the 115th and 116th Congresses."
   ]
  },
  {
   "cell_type": "code",
   "execution_count": 4,
   "metadata": {},
   "outputs": [
    {
     "data": {
      "text/html": [
       "<div>\n",
       "<style scoped>\n",
       "    .dataframe tbody tr th:only-of-type {\n",
       "        vertical-align: middle;\n",
       "    }\n",
       "\n",
       "    .dataframe tbody tr th {\n",
       "        vertical-align: top;\n",
       "    }\n",
       "\n",
       "    .dataframe thead th {\n",
       "        text-align: right;\n",
       "    }\n",
       "</style>\n",
       "<table border=\"1\" class=\"dataframe\">\n",
       "  <thead>\n",
       "    <tr style=\"text-align: right;\">\n",
       "      <th></th>\n",
       "      <th>congress</th>\n",
       "      <th>chamber</th>\n",
       "      <th>bioguide</th>\n",
       "      <th>last_name</th>\n",
       "      <th>state</th>\n",
       "      <th>district</th>\n",
       "      <th>party</th>\n",
       "      <th>votes</th>\n",
       "      <th>agree_pct</th>\n",
       "      <th>predicted_agree</th>\n",
       "      <th>net_trump_vote</th>\n",
       "    </tr>\n",
       "  </thead>\n",
       "  <tbody>\n",
       "    <tr>\n",
       "      <th>0</th>\n",
       "      <td>0</td>\n",
       "      <td>house</td>\n",
       "      <td>A000055</td>\n",
       "      <td>Aderholt</td>\n",
       "      <td>AL</td>\n",
       "      <td>4.0</td>\n",
       "      <td>Republican</td>\n",
       "      <td>164.0</td>\n",
       "      <td>0.975610</td>\n",
       "      <td>0.957037</td>\n",
       "      <td>63.0</td>\n",
       "    </tr>\n",
       "    <tr>\n",
       "      <th>3</th>\n",
       "      <td>0</td>\n",
       "      <td>house</td>\n",
       "      <td>A000367</td>\n",
       "      <td>Amash</td>\n",
       "      <td>MI</td>\n",
       "      <td>3.0</td>\n",
       "      <td>Independent</td>\n",
       "      <td>163.0</td>\n",
       "      <td>0.638037</td>\n",
       "      <td>0.753716</td>\n",
       "      <td>9.4</td>\n",
       "    </tr>\n",
       "    <tr>\n",
       "      <th>7</th>\n",
       "      <td>0</td>\n",
       "      <td>house</td>\n",
       "      <td>A000369</td>\n",
       "      <td>Amodei</td>\n",
       "      <td>NV</td>\n",
       "      <td>2.0</td>\n",
       "      <td>Republican</td>\n",
       "      <td>164.0</td>\n",
       "      <td>0.969512</td>\n",
       "      <td>0.808592</td>\n",
       "      <td>12.3</td>\n",
       "    </tr>\n",
       "    <tr>\n",
       "      <th>10</th>\n",
       "      <td>0</td>\n",
       "      <td>house</td>\n",
       "      <td>A000370</td>\n",
       "      <td>Adams</td>\n",
       "      <td>NC</td>\n",
       "      <td>12.0</td>\n",
       "      <td>Democrat</td>\n",
       "      <td>163.0</td>\n",
       "      <td>0.116564</td>\n",
       "      <td>0.135310</td>\n",
       "      <td>-40.0</td>\n",
       "    </tr>\n",
       "    <tr>\n",
       "      <th>13</th>\n",
       "      <td>0</td>\n",
       "      <td>house</td>\n",
       "      <td>A000371</td>\n",
       "      <td>Aguilar</td>\n",
       "      <td>CA</td>\n",
       "      <td>31.0</td>\n",
       "      <td>Democrat</td>\n",
       "      <td>164.0</td>\n",
       "      <td>0.182927</td>\n",
       "      <td>0.206453</td>\n",
       "      <td>-21.1</td>\n",
       "    </tr>\n",
       "  </tbody>\n",
       "</table>\n",
       "</div>"
      ],
      "text/plain": [
       "    congress chamber bioguide last_name state  district        party  votes  \\\n",
       "0          0   house  A000055  Aderholt    AL       4.0   Republican  164.0   \n",
       "3          0   house  A000367     Amash    MI       3.0  Independent  163.0   \n",
       "7          0   house  A000369    Amodei    NV       2.0   Republican  164.0   \n",
       "10         0   house  A000370     Adams    NC      12.0     Democrat  163.0   \n",
       "13         0   house  A000371   Aguilar    CA      31.0     Democrat  164.0   \n",
       "\n",
       "    agree_pct  predicted_agree  net_trump_vote  \n",
       "0    0.975610         0.957037            63.0  \n",
       "3    0.638037         0.753716             9.4  \n",
       "7    0.969512         0.808592            12.3  \n",
       "10   0.116564         0.135310           -40.0  \n",
       "13   0.182927         0.206453           -21.1  "
      ]
     },
     "execution_count": 4,
     "metadata": {},
     "output_type": "execute_result"
    }
   ],
   "source": [
    "both_sessions = (df['congress'] == 0)\n",
    "df_all = df.loc[both_sessions].copy()\n",
    "df_all.head()"
   ]
  },
  {
   "cell_type": "markdown",
   "metadata": {},
   "source": [
    "## Log odds\n",
    "\n",
    "Since the dependent variable is a percentage, I will transform it to a log-odds scale.\n",
    "\n",
    "Also, to deal with cases where we have a small number of votes, I will use the Bayesian posterior mean for each member of congress, [a little trick that is explained nicely in this video](https://youtu.be/8idr1WZ1A7Q?t=106)."
   ]
  },
  {
   "cell_type": "code",
   "execution_count": 5,
   "metadata": {},
   "outputs": [
    {
     "data": {
      "text/plain": [
       "0     160.0\n",
       "3     104.0\n",
       "7     159.0\n",
       "10     19.0\n",
       "13     30.0\n",
       "dtype: float64"
      ]
     },
     "execution_count": 5,
     "metadata": {},
     "output_type": "execute_result"
    }
   ],
   "source": [
    "yes = np.round(df_all['votes'] * df_all['agree_pct'])\n",
    "yes.head()"
   ]
  },
  {
   "cell_type": "code",
   "execution_count": 6,
   "metadata": {},
   "outputs": [],
   "source": [
    "no = df_all['votes'] - yes"
   ]
  },
  {
   "cell_type": "code",
   "execution_count": 7,
   "metadata": {},
   "outputs": [
    {
     "data": {
      "text/plain": [
       "count    648.000000\n",
       "mean       0.549302\n",
       "std        2.279818\n",
       "min       -3.164068\n",
       "25%       -1.744286\n",
       "50%        1.283486\n",
       "75%        2.708050\n",
       "max        4.276666\n",
       "Name: agree_log_odds, dtype: float64"
      ]
     },
     "execution_count": 7,
     "metadata": {},
     "output_type": "execute_result"
    }
   ],
   "source": [
    "df_all['agree_log_odds'] = np.log((yes+1) / (no+1))\n",
    "df_all['agree_log_odds'].describe()"
   ]
  },
  {
   "cell_type": "markdown",
   "metadata": {},
   "source": [
    "## Scatter\n",
    "\n",
    "Here's a scatter plot of the fraction of votes in agreement with Trump and the margin of victory."
   ]
  },
  {
   "cell_type": "code",
   "execution_count": 8,
   "metadata": {
    "scrolled": true
   },
   "outputs": [],
   "source": [
    "def scatter(df, **options):\n",
    "    agree = df['agree_pct']\n",
    "    margin = df['net_trump_vote']\n",
    "    plt.plot(margin, agree, 'o', alpha=0.1, **options)\n",
    "\n",
    "    plt.xlabel(\"Trump's margin of victory\")\n",
    "    plt.ylabel(\"% of votes in agreement with Trump\")"
   ]
  },
  {
   "cell_type": "code",
   "execution_count": 9,
   "metadata": {},
   "outputs": [
    {
     "data": {
      "image/png": "[encoded data removed]",
      "text/plain": [
       "<Figure size 432x288 with 1 Axes>"
      ]
     },
     "metadata": {
      "needs_background": "light"
     },
     "output_type": "display_data"
    }
   ],
   "source": [
    "scatter(df_all)"
   ]
  },
  {
   "cell_type": "markdown",
   "metadata": {},
   "source": [
    "Two clusters are apparent: it will come as no surprise that they represent the two parties.\n",
    "\n",
    "I'll generate that plot again with the data points color-coded by party."
   ]
  },
  {
   "cell_type": "code",
   "execution_count": 10,
   "metadata": {},
   "outputs": [
    {
     "data": {
      "text/plain": [
       "Republican     339\n",
       "Democrat       306\n",
       "Independent      3\n",
       "Name: party, dtype: int64"
      ]
     },
     "execution_count": 10,
     "metadata": {},
     "output_type": "execute_result"
    }
   ],
   "source": [
    "df_all['party'].value_counts()"
   ]
  },
  {
   "cell_type": "code",
   "execution_count": 11,
   "metadata": {},
   "outputs": [
    {
     "data": {
      "text/plain": [
       "306"
      ]
     },
     "execution_count": 11,
     "metadata": {},
     "output_type": "execute_result"
    }
   ],
   "source": [
    "dem = (df_all['party'] == 'Democrat')\n",
    "dem_all = df_all[dem]\n",
    "len(dem_all)"
   ]
  },
  {
   "cell_type": "code",
   "execution_count": 12,
   "metadata": {},
   "outputs": [
    {
     "data": {
      "text/plain": [
       "339"
      ]
     },
     "execution_count": 12,
     "metadata": {},
     "output_type": "execute_result"
    }
   ],
   "source": [
    "rep = (df_all['party'] == 'Republican')\n",
    "rep_all = df_all[rep]\n",
    "len(rep_all)"
   ]
  },
  {
   "cell_type": "code",
   "execution_count": 13,
   "metadata": {},
   "outputs": [
    {
     "data": {
      "image/png": "[encoded data removed]",
      "text/plain": [
       "<Figure size 432x288 with 1 Axes>"
      ]
     },
     "metadata": {
      "needs_background": "light"
     },
     "output_type": "display_data"
    }
   ],
   "source": [
    "scatter(dem_all, color='C0', label='Democrat')\n",
    "scatter(rep_all, color='C3', label='Republican')\n",
    "plt.legend();"
   ]
  },
  {
   "cell_type": "markdown",
   "metadata": {},
   "source": [
    "## Scatter log odds\n",
    "\n",
    "Here's what the scatter plots look like on a log-odds scale."
   ]
  },
  {
   "cell_type": "code",
   "execution_count": 14,
   "metadata": {
    "scrolled": true
   },
   "outputs": [],
   "source": [
    "def scatter2(df, **options):\n",
    "    agree = df['agree_log_odds']\n",
    "    margin = df['net_trump_vote']\n",
    "    plt.plot(margin, agree, 'o', alpha=0.1, **options)\n",
    "\n",
    "    plt.xlabel(\"Trump's margin of victory\")\n",
    "    plt.ylabel(\"Log odds in agreement with Trump\")"
   ]
  },
  {
   "cell_type": "code",
   "execution_count": 15,
   "metadata": {},
   "outputs": [
    {
     "data": {
      "image/png": "[encoded data removed]",
      "text/plain": [
       "<Figure size 432x288 with 1 Axes>"
      ]
     },
     "metadata": {
      "needs_background": "light"
     },
     "output_type": "display_data"
    }
   ],
   "source": [
    "scatter2(dem_all, color='C0', label='Democrat')\n",
    "scatter2(rep_all, color='C3', label='Republican')\n",
    "plt.legend();"
   ]
  },
  {
   "cell_type": "markdown",
   "metadata": {},
   "source": [
    "## Regression\n",
    "\n",
    "Now let's see, within each party, what the relationship looks like between the margin of victory and the voting record."
   ]
  },
  {
   "cell_type": "code",
   "execution_count": 16,
   "metadata": {},
   "outputs": [
    {
     "data": {
      "text/html": [
       "<table class=\"simpletable\">\n",
       "<caption>OLS Regression Results</caption>\n",
       "<tr>\n",
       "  <th>Dep. Variable:</th>     <td>agree_log_odds</td>  <th>  R-squared:         </th> <td>   0.083</td>\n",
       "</tr>\n",
       "<tr>\n",
       "  <th>Model:</th>                   <td>OLS</td>       <th>  Adj. R-squared:    </th> <td>   0.080</td>\n",
       "</tr>\n",
       "<tr>\n",
       "  <th>Method:</th>             <td>Least Squares</td>  <th>  F-statistic:       </th> <td>   27.66</td>\n",
       "</tr>\n",
       "<tr>\n",
       "  <th>Date:</th>             <td>Wed, 03 Jun 2020</td> <th>  Prob (F-statistic):</th> <td>2.73e-07</td>\n",
       "</tr>\n",
       "<tr>\n",
       "  <th>Time:</th>                 <td>22:27:04</td>     <th>  Log-Likelihood:    </th> <td> -285.88</td>\n",
       "</tr>\n",
       "<tr>\n",
       "  <th>No. Observations:</th>      <td>   306</td>      <th>  AIC:               </th> <td>   575.8</td>\n",
       "</tr>\n",
       "<tr>\n",
       "  <th>Df Residuals:</th>          <td>   304</td>      <th>  BIC:               </th> <td>   583.2</td>\n",
       "</tr>\n",
       "<tr>\n",
       "  <th>Df Model:</th>              <td>     1</td>      <th>                     </th>     <td> </td>   \n",
       "</tr>\n",
       "<tr>\n",
       "  <th>Covariance Type:</th>      <td>nonrobust</td>    <th>                     </th>     <td> </td>   \n",
       "</tr>\n",
       "</table>\n",
       "<table class=\"simpletable\">\n",
       "<tr>\n",
       "         <td></td>           <th>coef</th>     <th>std err</th>      <th>t</th>      <th>P>|t|</th>  <th>[0.025</th>    <th>0.975]</th>  \n",
       "</tr>\n",
       "<tr>\n",
       "  <th>Intercept</th>      <td>   -1.5457</td> <td>    0.050</td> <td>  -30.947</td> <td> 0.000</td> <td>   -1.644</td> <td>   -1.447</td>\n",
       "</tr>\n",
       "<tr>\n",
       "  <th>net_trump_vote</th> <td>    0.0074</td> <td>    0.001</td> <td>    5.260</td> <td> 0.000</td> <td>    0.005</td> <td>    0.010</td>\n",
       "</tr>\n",
       "</table>\n",
       "<table class=\"simpletable\">\n",
       "<tr>\n",
       "  <th>Omnibus:</th>       <td> 2.367</td> <th>  Durbin-Watson:     </th> <td>   1.122</td>\n",
       "</tr>\n",
       "<tr>\n",
       "  <th>Prob(Omnibus):</th> <td> 0.306</td> <th>  Jarque-Bera (JB):  </th> <td>   2.410</td>\n",
       "</tr>\n",
       "<tr>\n",
       "  <th>Skew:</th>          <td> 0.016</td> <th>  Prob(JB):          </th> <td>   0.300</td>\n",
       "</tr>\n",
       "<tr>\n",
       "  <th>Kurtosis:</th>      <td> 3.434</td> <th>  Cond. No.          </th> <td>    49.9</td>\n",
       "</tr>\n",
       "</table><br/><br/>Warnings:<br/>[1] Standard Errors assume that the covariance matrix of the errors is correctly specified."
      ],
      "text/plain": [
       "<class 'statsmodels.iolib.summary.Summary'>\n",
       "\"\"\"\n",
       "                            OLS Regression Results                            \n",
       "==============================================================================\n",
       "Dep. Variable:         agree_log_odds   R-squared:                       0.083\n",
       "Model:                            OLS   Adj. R-squared:                  0.080\n",
       "Method:                 Least Squares   F-statistic:                     27.66\n",
       "Date:                Wed, 03 Jun 2020   Prob (F-statistic):           2.73e-07\n",
       "Time:                        22:27:04   Log-Likelihood:                -285.88\n",
       "No. Observations:                 306   AIC:                             575.8\n",
       "Df Residuals:                     304   BIC:                             583.2\n",
       "Df Model:                           1                                         \n",
       "Covariance Type:            nonrobust                                         \n",
       "==================================================================================\n",
       "                     coef    std err          t      P>|t|      [0.025      0.975]\n",
       "----------------------------------------------------------------------------------\n",
       "Intercept         -1.5457      0.050    -30.947      0.000      -1.644      -1.447\n",
       "net_trump_vote     0.0074      0.001      5.260      0.000       0.005       0.010\n",
       "==============================================================================\n",
       "Omnibus:                        2.367   Durbin-Watson:                   1.122\n",
       "Prob(Omnibus):                  0.306   Jarque-Bera (JB):                2.410\n",
       "Skew:                           0.016   Prob(JB):                        0.300\n",
       "Kurtosis:                       3.434   Cond. No.                         49.9\n",
       "==============================================================================\n",
       "\n",
       "Warnings:\n",
       "[1] Standard Errors assume that the covariance matrix of the errors is correctly specified.\n",
       "\"\"\""
      ]
     },
     "execution_count": 16,
     "metadata": {},
     "output_type": "execute_result"
    }
   ],
   "source": [
    "model = smf.ols('agree_log_odds ~ net_trump_vote', data=dem_all)\n",
    "results_dem = model.fit()\n",
    "results_dem.summary()"
   ]
  },
  {
   "cell_type": "code",
   "execution_count": 17,
   "metadata": {},
   "outputs": [
    {
     "data": {
      "text/html": [
       "<table class=\"simpletable\">\n",
       "<caption>OLS Regression Results</caption>\n",
       "<tr>\n",
       "  <th>Dep. Variable:</th>     <td>agree_log_odds</td>  <th>  R-squared:         </th> <td>   0.068</td>\n",
       "</tr>\n",
       "<tr>\n",
       "  <th>Model:</th>                   <td>OLS</td>       <th>  Adj. R-squared:    </th> <td>   0.065</td>\n",
       "</tr>\n",
       "<tr>\n",
       "  <th>Method:</th>             <td>Least Squares</td>  <th>  F-statistic:       </th> <td>   24.41</td>\n",
       "</tr>\n",
       "<tr>\n",
       "  <th>Date:</th>             <td>Wed, 03 Jun 2020</td> <th>  Prob (F-statistic):</th> <td>1.23e-06</td>\n",
       "</tr>\n",
       "<tr>\n",
       "  <th>Time:</th>                 <td>22:27:04</td>     <th>  Log-Likelihood:    </th> <td> -369.23</td>\n",
       "</tr>\n",
       "<tr>\n",
       "  <th>No. Observations:</th>      <td>   339</td>      <th>  AIC:               </th> <td>   742.5</td>\n",
       "</tr>\n",
       "<tr>\n",
       "  <th>Df Residuals:</th>          <td>   337</td>      <th>  BIC:               </th> <td>   750.1</td>\n",
       "</tr>\n",
       "<tr>\n",
       "  <th>Df Model:</th>              <td>     1</td>      <th>                     </th>     <td> </td>   \n",
       "</tr>\n",
       "<tr>\n",
       "  <th>Covariance Type:</th>      <td>nonrobust</td>    <th>                     </th>     <td> </td>   \n",
       "</tr>\n",
       "</table>\n",
       "<table class=\"simpletable\">\n",
       "<tr>\n",
       "         <td></td>           <th>coef</th>     <th>std err</th>      <th>t</th>      <th>P>|t|</th>  <th>[0.025</th>    <th>0.975]</th>  \n",
       "</tr>\n",
       "<tr>\n",
       "  <th>Intercept</th>      <td>    2.3525</td> <td>    0.066</td> <td>   35.410</td> <td> 0.000</td> <td>    2.222</td> <td>    2.483</td>\n",
       "</tr>\n",
       "<tr>\n",
       "  <th>net_trump_vote</th> <td>    0.0126</td> <td>    0.003</td> <td>    4.941</td> <td> 0.000</td> <td>    0.008</td> <td>    0.018</td>\n",
       "</tr>\n",
       "</table>\n",
       "<table class=\"simpletable\">\n",
       "<tr>\n",
       "  <th>Omnibus:</th>       <td>58.343</td> <th>  Durbin-Watson:     </th> <td>   1.867</td>\n",
       "</tr>\n",
       "<tr>\n",
       "  <th>Prob(Omnibus):</th> <td> 0.000</td> <th>  Jarque-Bera (JB):  </th> <td> 140.684</td>\n",
       "</tr>\n",
       "<tr>\n",
       "  <th>Skew:</th>          <td>-0.841</td> <th>  Prob(JB):          </th> <td>2.82e-31</td>\n",
       "</tr>\n",
       "<tr>\n",
       "  <th>Kurtosis:</th>      <td> 5.670</td> <th>  Cond. No.          </th> <td>    44.3</td>\n",
       "</tr>\n",
       "</table><br/><br/>Warnings:<br/>[1] Standard Errors assume that the covariance matrix of the errors is correctly specified."
      ],
      "text/plain": [
       "<class 'statsmodels.iolib.summary.Summary'>\n",
       "\"\"\"\n",
       "                            OLS Regression Results                            \n",
       "==============================================================================\n",
       "Dep. Variable:         agree_log_odds   R-squared:                       0.068\n",
       "Model:                            OLS   Adj. R-squared:                  0.065\n",
       "Method:                 Least Squares   F-statistic:                     24.41\n",
       "Date:                Wed, 03 Jun 2020   Prob (F-statistic):           1.23e-06\n",
       "Time:                        22:27:04   Log-Likelihood:                -369.23\n",
       "No. Observations:                 339   AIC:                             742.5\n",
       "Df Residuals:                     337   BIC:                             750.1\n",
       "Df Model:                           1                                         \n",
       "Covariance Type:            nonrobust                                         \n",
       "==================================================================================\n",
       "                     coef    std err          t      P>|t|      [0.025      0.975]\n",
       "----------------------------------------------------------------------------------\n",
       "Intercept          2.3525      0.066     35.410      0.000       2.222       2.483\n",
       "net_trump_vote     0.0126      0.003      4.941      0.000       0.008       0.018\n",
       "==============================================================================\n",
       "Omnibus:                       58.343   Durbin-Watson:                   1.867\n",
       "Prob(Omnibus):                  0.000   Jarque-Bera (JB):              140.684\n",
       "Skew:                          -0.841   Prob(JB):                     2.82e-31\n",
       "Kurtosis:                       5.670   Cond. No.                         44.3\n",
       "==============================================================================\n",
       "\n",
       "Warnings:\n",
       "[1] Standard Errors assume that the covariance matrix of the errors is correctly specified.\n",
       "\"\"\""
      ]
     },
     "execution_count": 17,
     "metadata": {},
     "output_type": "execute_result"
    }
   ],
   "source": [
    "model = smf.ols('agree_log_odds ~ net_trump_vote', data=rep_all)\n",
    "results_rep = model.fit()\n",
    "results_rep.summary()"
   ]
  },
  {
   "cell_type": "markdown",
   "metadata": {},
   "source": [
    "## Prediction\n",
    "\n",
    "To visualize the results of the models, I'll plot their predictions."
   ]
  },
  {
   "cell_type": "code",
   "execution_count": 18,
   "metadata": {},
   "outputs": [],
   "source": [
    "hypo = pd.DataFrame()\n",
    "hypo['net_trump_vote'] = np.linspace(-80, 20)\n",
    "\n",
    "pred_dem = results_dem.predict(hypo)\n",
    "pred_dem.index = hypo['net_trump_vote']"
   ]
  },
  {
   "cell_type": "code",
   "execution_count": 19,
   "metadata": {},
   "outputs": [],
   "source": [
    "hypo = pd.DataFrame()\n",
    "hypo['net_trump_vote'] = np.linspace(-10, 70)\n",
    "\n",
    "pred_rep = results_rep.predict(hypo)\n",
    "pred_rep.index = hypo['net_trump_vote']"
   ]
  },
  {
   "cell_type": "code",
   "execution_count": 20,
   "metadata": {},
   "outputs": [
    {
     "data": {
      "image/png": "[encoded data removed]",
      "text/plain": [
       "<Figure size 432x288 with 1 Axes>"
      ]
     },
     "metadata": {
      "needs_background": "light"
     },
     "output_type": "display_data"
    }
   ],
   "source": [
    "pred_rep.plot(color='C3', label='Republicans')\n",
    "pred_dem.plot(color='C0', label='Democrats')\n",
    "\n",
    "scatter2(dem_all, color='C0')\n",
    "scatter2(rep_all, color='C3')\n",
    "\n",
    "plt.legend();"
   ]
  },
  {
   "cell_type": "markdown",
   "metadata": {},
   "source": [
    "It looks like the margin matters.\n",
    "\n",
    "The slope for democrats is lower."
   ]
  },
  {
   "cell_type": "code",
   "execution_count": 21,
   "metadata": {},
   "outputs": [
    {
     "data": {
      "text/plain": [
       "Intercept        -1.545690\n",
       "net_trump_vote    0.007447\n",
       "dtype: float64"
      ]
     },
     "execution_count": 21,
     "metadata": {},
     "output_type": "execute_result"
    }
   ],
   "source": [
    "results_dem.params"
   ]
  },
  {
   "cell_type": "code",
   "execution_count": 22,
   "metadata": {},
   "outputs": [
    {
     "data": {
      "text/plain": [
       "Intercept         2.352523\n",
       "net_trump_vote    0.012576\n",
       "dtype: float64"
      ]
     },
     "execution_count": 22,
     "metadata": {},
     "output_type": "execute_result"
    }
   ],
   "source": [
    "results_rep.params"
   ]
  },
  {
   "cell_type": "markdown",
   "metadata": {},
   "source": [
    "It looks like it gets dragged down by a cluster of representatives from swing districts who vote against Trump with remarkable consistency.  Let's see who they are."
   ]
  },
  {
   "cell_type": "code",
   "execution_count": 23,
   "metadata": {},
   "outputs": [],
   "source": [
    "swing = (np.abs(dem_all['net_trump_vote']) < 8)"
   ]
  },
  {
   "cell_type": "code",
   "execution_count": 24,
   "metadata": {},
   "outputs": [],
   "source": [
    "anti_trump = (dem_all['agree_log_odds'] < -2.5)"
   ]
  },
  {
   "cell_type": "code",
   "execution_count": 25,
   "metadata": {},
   "outputs": [
    {
     "data": {
      "text/html": [
       "<div>\n",
       "<style scoped>\n",
       "    .dataframe tbody tr th:only-of-type {\n",
       "        vertical-align: middle;\n",
       "    }\n",
       "\n",
       "    .dataframe tbody tr th {\n",
       "        vertical-align: top;\n",
       "    }\n",
       "\n",
       "    .dataframe thead th {\n",
       "        text-align: right;\n",
       "    }\n",
       "</style>\n",
       "<table border=\"1\" class=\"dataframe\">\n",
       "  <thead>\n",
       "    <tr style=\"text-align: right;\">\n",
       "      <th></th>\n",
       "      <th>congress</th>\n",
       "      <th>chamber</th>\n",
       "      <th>bioguide</th>\n",
       "      <th>last_name</th>\n",
       "      <th>state</th>\n",
       "      <th>district</th>\n",
       "      <th>party</th>\n",
       "      <th>votes</th>\n",
       "      <th>agree_pct</th>\n",
       "      <th>predicted_agree</th>\n",
       "      <th>net_trump_vote</th>\n",
       "      <th>agree_log_odds</th>\n",
       "    </tr>\n",
       "  </thead>\n",
       "  <tbody>\n",
       "    <tr>\n",
       "      <th>286</th>\n",
       "      <td>0</td>\n",
       "      <td>house</td>\n",
       "      <td>C001117</td>\n",
       "      <td>Casten</td>\n",
       "      <td>IL</td>\n",
       "      <td>6.0</td>\n",
       "      <td>Democrat</td>\n",
       "      <td>72.0</td>\n",
       "      <td>0.055556</td>\n",
       "      <td>0.120612</td>\n",
       "      <td>-7.0</td>\n",
       "      <td>-2.624669</td>\n",
       "    </tr>\n",
       "    <tr>\n",
       "      <th>290</th>\n",
       "      <td>0</td>\n",
       "      <td>house</td>\n",
       "      <td>C001119</td>\n",
       "      <td>Craig</td>\n",
       "      <td>MN</td>\n",
       "      <td>2.0</td>\n",
       "      <td>Democrat</td>\n",
       "      <td>72.0</td>\n",
       "      <td>0.055556</td>\n",
       "      <td>0.285124</td>\n",
       "      <td>1.2</td>\n",
       "      <td>-2.624669</td>\n",
       "    </tr>\n",
       "    <tr>\n",
       "      <th>371</th>\n",
       "      <td>0</td>\n",
       "      <td>house</td>\n",
       "      <td>D000629</td>\n",
       "      <td>Davids</td>\n",
       "      <td>KS</td>\n",
       "      <td>3.0</td>\n",
       "      <td>Democrat</td>\n",
       "      <td>72.0</td>\n",
       "      <td>0.055556</td>\n",
       "      <td>0.217135</td>\n",
       "      <td>-1.2</td>\n",
       "      <td>-2.624669</td>\n",
       "    </tr>\n",
       "    <tr>\n",
       "      <th>373</th>\n",
       "      <td>0</td>\n",
       "      <td>house</td>\n",
       "      <td>D000630</td>\n",
       "      <td>Delgado</td>\n",
       "      <td>NY</td>\n",
       "      <td>19.0</td>\n",
       "      <td>Democrat</td>\n",
       "      <td>72.0</td>\n",
       "      <td>0.055556</td>\n",
       "      <td>0.503497</td>\n",
       "      <td>6.8</td>\n",
       "      <td>-2.624669</td>\n",
       "    </tr>\n",
       "    <tr>\n",
       "      <th>570</th>\n",
       "      <td>0</td>\n",
       "      <td>house</td>\n",
       "      <td>H001066</td>\n",
       "      <td>Horsford</td>\n",
       "      <td>NV</td>\n",
       "      <td>4.0</td>\n",
       "      <td>Democrat</td>\n",
       "      <td>72.0</td>\n",
       "      <td>0.055556</td>\n",
       "      <td>0.146273</td>\n",
       "      <td>-4.9</td>\n",
       "      <td>-2.624669</td>\n",
       "    </tr>\n",
       "    <tr>\n",
       "      <th>597</th>\n",
       "      <td>0</td>\n",
       "      <td>house</td>\n",
       "      <td>H001081</td>\n",
       "      <td>Hayes</td>\n",
       "      <td>CT</td>\n",
       "      <td>5.0</td>\n",
       "      <td>Democrat</td>\n",
       "      <td>72.0</td>\n",
       "      <td>0.055556</td>\n",
       "      <td>0.158511</td>\n",
       "      <td>-4.1</td>\n",
       "      <td>-2.624669</td>\n",
       "    </tr>\n",
       "    <tr>\n",
       "      <th>606</th>\n",
       "      <td>0</td>\n",
       "      <td>house</td>\n",
       "      <td>H001087</td>\n",
       "      <td>Hill</td>\n",
       "      <td>CA</td>\n",
       "      <td>25.0</td>\n",
       "      <td>Democrat</td>\n",
       "      <td>51.0</td>\n",
       "      <td>0.039216</td>\n",
       "      <td>0.101966</td>\n",
       "      <td>-6.7</td>\n",
       "      <td>-2.813411</td>\n",
       "    </tr>\n",
       "    <tr>\n",
       "      <th>610</th>\n",
       "      <td>0</td>\n",
       "      <td>house</td>\n",
       "      <td>H001090</td>\n",
       "      <td>Harder</td>\n",
       "      <td>CA</td>\n",
       "      <td>10.0</td>\n",
       "      <td>Democrat</td>\n",
       "      <td>72.0</td>\n",
       "      <td>0.041667</td>\n",
       "      <td>0.177954</td>\n",
       "      <td>-3.0</td>\n",
       "      <td>-2.862201</td>\n",
       "    </tr>\n",
       "    <tr>\n",
       "      <th>667</th>\n",
       "      <td>0</td>\n",
       "      <td>house</td>\n",
       "      <td>K000368</td>\n",
       "      <td>Kirkpatrick</td>\n",
       "      <td>AZ</td>\n",
       "      <td>2.0</td>\n",
       "      <td>Democrat</td>\n",
       "      <td>64.0</td>\n",
       "      <td>0.031250</td>\n",
       "      <td>0.140082</td>\n",
       "      <td>-4.9</td>\n",
       "      <td>-3.044522</td>\n",
       "    </tr>\n",
       "    <tr>\n",
       "      <th>712</th>\n",
       "      <td>0</td>\n",
       "      <td>house</td>\n",
       "      <td>K000394</td>\n",
       "      <td>Kim</td>\n",
       "      <td>NJ</td>\n",
       "      <td>3.0</td>\n",
       "      <td>Democrat</td>\n",
       "      <td>72.0</td>\n",
       "      <td>0.055556</td>\n",
       "      <td>0.477804</td>\n",
       "      <td>6.2</td>\n",
       "      <td>-2.624669</td>\n",
       "    </tr>\n",
       "    <tr>\n",
       "      <th>809</th>\n",
       "      <td>0</td>\n",
       "      <td>house</td>\n",
       "      <td>L000592</td>\n",
       "      <td>Levin</td>\n",
       "      <td>MI</td>\n",
       "      <td>9.0</td>\n",
       "      <td>Democrat</td>\n",
       "      <td>72.0</td>\n",
       "      <td>0.027778</td>\n",
       "      <td>0.112899</td>\n",
       "      <td>-7.8</td>\n",
       "      <td>-3.164068</td>\n",
       "    </tr>\n",
       "    <tr>\n",
       "      <th>811</th>\n",
       "      <td>0</td>\n",
       "      <td>house</td>\n",
       "      <td>L000593</td>\n",
       "      <td>Levin</td>\n",
       "      <td>CA</td>\n",
       "      <td>49.0</td>\n",
       "      <td>Democrat</td>\n",
       "      <td>72.0</td>\n",
       "      <td>0.041667</td>\n",
       "      <td>0.115675</td>\n",
       "      <td>-7.5</td>\n",
       "      <td>-2.862201</td>\n",
       "    </tr>\n",
       "    <tr>\n",
       "      <th>906</th>\n",
       "      <td>0</td>\n",
       "      <td>house</td>\n",
       "      <td>M001203</td>\n",
       "      <td>Malinowski</td>\n",
       "      <td>NJ</td>\n",
       "      <td>7.0</td>\n",
       "      <td>Democrat</td>\n",
       "      <td>72.0</td>\n",
       "      <td>0.055556</td>\n",
       "      <td>0.219601</td>\n",
       "      <td>-1.1</td>\n",
       "      <td>-2.624669</td>\n",
       "    </tr>\n",
       "    <tr>\n",
       "      <th>1027</th>\n",
       "      <td>0</td>\n",
       "      <td>house</td>\n",
       "      <td>P000618</td>\n",
       "      <td>Porter</td>\n",
       "      <td>CA</td>\n",
       "      <td>45.0</td>\n",
       "      <td>Democrat</td>\n",
       "      <td>71.0</td>\n",
       "      <td>0.056338</td>\n",
       "      <td>0.140677</td>\n",
       "      <td>-5.4</td>\n",
       "      <td>-2.610070</td>\n",
       "    </tr>\n",
       "    <tr>\n",
       "      <th>1121</th>\n",
       "      <td>0</td>\n",
       "      <td>house</td>\n",
       "      <td>R000616</td>\n",
       "      <td>Rouda</td>\n",
       "      <td>CA</td>\n",
       "      <td>48.0</td>\n",
       "      <td>Democrat</td>\n",
       "      <td>71.0</td>\n",
       "      <td>0.056338</td>\n",
       "      <td>0.206456</td>\n",
       "      <td>-1.7</td>\n",
       "      <td>-2.610070</td>\n",
       "    </tr>\n",
       "    <tr>\n",
       "      <th>1231</th>\n",
       "      <td>0</td>\n",
       "      <td>house</td>\n",
       "      <td>S001207</td>\n",
       "      <td>Sherrill</td>\n",
       "      <td>NJ</td>\n",
       "      <td>11.0</td>\n",
       "      <td>Democrat</td>\n",
       "      <td>71.0</td>\n",
       "      <td>0.056338</td>\n",
       "      <td>0.276188</td>\n",
       "      <td>0.9</td>\n",
       "      <td>-2.610070</td>\n",
       "    </tr>\n",
       "    <tr>\n",
       "      <th>1233</th>\n",
       "      <td>0</td>\n",
       "      <td>house</td>\n",
       "      <td>S001208</td>\n",
       "      <td>Slotkin</td>\n",
       "      <td>MI</td>\n",
       "      <td>8.0</td>\n",
       "      <td>Democrat</td>\n",
       "      <td>72.0</td>\n",
       "      <td>0.055556</td>\n",
       "      <td>0.499208</td>\n",
       "      <td>6.7</td>\n",
       "      <td>-2.624669</td>\n",
       "    </tr>\n",
       "    <tr>\n",
       "      <th>1247</th>\n",
       "      <td>0</td>\n",
       "      <td>house</td>\n",
       "      <td>S001215</td>\n",
       "      <td>Stevens</td>\n",
       "      <td>MI</td>\n",
       "      <td>11.0</td>\n",
       "      <td>Democrat</td>\n",
       "      <td>72.0</td>\n",
       "      <td>0.055556</td>\n",
       "      <td>0.402540</td>\n",
       "      <td>4.4</td>\n",
       "      <td>-2.624669</td>\n",
       "    </tr>\n",
       "    <tr>\n",
       "      <th>1249</th>\n",
       "      <td>0</td>\n",
       "      <td>house</td>\n",
       "      <td>S001216</td>\n",
       "      <td>Schrier</td>\n",
       "      <td>WA</td>\n",
       "      <td>8.0</td>\n",
       "      <td>Democrat</td>\n",
       "      <td>71.0</td>\n",
       "      <td>0.056338</td>\n",
       "      <td>0.179072</td>\n",
       "      <td>-3.0</td>\n",
       "      <td>-2.610070</td>\n",
       "    </tr>\n",
       "    <tr>\n",
       "      <th>1306</th>\n",
       "      <td>0</td>\n",
       "      <td>house</td>\n",
       "      <td>U000040</td>\n",
       "      <td>Underwood</td>\n",
       "      <td>IL</td>\n",
       "      <td>14.0</td>\n",
       "      <td>Democrat</td>\n",
       "      <td>72.0</td>\n",
       "      <td>0.055556</td>\n",
       "      <td>0.382518</td>\n",
       "      <td>3.9</td>\n",
       "      <td>-2.624669</td>\n",
       "    </tr>\n",
       "  </tbody>\n",
       "</table>\n",
       "</div>"
      ],
      "text/plain": [
       "      congress chamber bioguide    last_name state  district     party  votes  \\\n",
       "286          0   house  C001117       Casten    IL       6.0  Democrat   72.0   \n",
       "290          0   house  C001119        Craig    MN       2.0  Democrat   72.0   \n",
       "371          0   house  D000629       Davids    KS       3.0  Democrat   72.0   \n",
       "373          0   house  D000630      Delgado    NY      19.0  Democrat   72.0   \n",
       "570          0   house  H001066     Horsford    NV       4.0  Democrat   72.0   \n",
       "597          0   house  H001081        Hayes    CT       5.0  Democrat   72.0   \n",
       "606          0   house  H001087         Hill    CA      25.0  Democrat   51.0   \n",
       "610          0   house  H001090       Harder    CA      10.0  Democrat   72.0   \n",
       "667          0   house  K000368  Kirkpatrick    AZ       2.0  Democrat   64.0   \n",
       "712          0   house  K000394          Kim    NJ       3.0  Democrat   72.0   \n",
       "809          0   house  L000592        Levin    MI       9.0  Democrat   72.0   \n",
       "811          0   house  L000593        Levin    CA      49.0  Democrat   72.0   \n",
       "906          0   house  M001203   Malinowski    NJ       7.0  Democrat   72.0   \n",
       "1027         0   house  P000618       Porter    CA      45.0  Democrat   71.0   \n",
       "1121         0   house  R000616        Rouda    CA      48.0  Democrat   71.0   \n",
       "1231         0   house  S001207     Sherrill    NJ      11.0  Democrat   71.0   \n",
       "1233         0   house  S001208      Slotkin    MI       8.0  Democrat   72.0   \n",
       "1247         0   house  S001215      Stevens    MI      11.0  Democrat   72.0   \n",
       "1249         0   house  S001216      Schrier    WA       8.0  Democrat   71.0   \n",
       "1306         0   house  U000040    Underwood    IL      14.0  Democrat   72.0   \n",
       "\n",
       "      agree_pct  predicted_agree  net_trump_vote  agree_log_odds  \n",
       "286    0.055556         0.120612            -7.0       -2.624669  \n",
       "290    0.055556         0.285124             1.2       -2.624669  \n",
       "371    0.055556         0.217135            -1.2       -2.624669  \n",
       "373    0.055556         0.503497             6.8       -2.624669  \n",
       "570    0.055556         0.146273            -4.9       -2.624669  \n",
       "597    0.055556         0.158511            -4.1       -2.624669  \n",
       "606    0.039216         0.101966            -6.7       -2.813411  \n",
       "610    0.041667         0.177954            -3.0       -2.862201  \n",
       "667    0.031250         0.140082            -4.9       -3.044522  \n",
       "712    0.055556         0.477804             6.2       -2.624669  \n",
       "809    0.027778         0.112899            -7.8       -3.164068  \n",
       "811    0.041667         0.115675            -7.5       -2.862201  \n",
       "906    0.055556         0.219601            -1.1       -2.624669  \n",
       "1027   0.056338         0.140677            -5.4       -2.610070  \n",
       "1121   0.056338         0.206456            -1.7       -2.610070  \n",
       "1231   0.056338         0.276188             0.9       -2.610070  \n",
       "1233   0.055556         0.499208             6.7       -2.624669  \n",
       "1247   0.055556         0.402540             4.4       -2.624669  \n",
       "1249   0.056338         0.179072            -3.0       -2.610070  \n",
       "1306   0.055556         0.382518             3.9       -2.624669  "
      ]
     },
     "execution_count": 25,
     "metadata": {},
     "output_type": "execute_result"
    }
   ],
   "source": [
    "dem_all[swing & anti_trump]"
   ]
  },
  {
   "cell_type": "code",
   "execution_count": null,
   "metadata": {},
   "outputs": [],
   "source": []
  },
  {
   "cell_type": "code",
   "execution_count": null,
   "metadata": {},
   "outputs": [],
   "source": []
  }
 ],
 "metadata": {
  "kernelspec": {
   "display_name": "Python 3",
   "language": "python",
   "name": "python3"
  },
  "language_info": {
   "codemirror_mode": {
    "name": "ipython",
    "version": 3
   },
   "file_extension": ".py",
   "mimetype": "text/x-python",
   "name": "python",
   "nbconvert_exporter": "python",
   "pygments_lexer": "ipython3",
   "version": "3.6.10"
  }
 },
 "nbformat": 4,
 "nbformat_minor": 1
}
