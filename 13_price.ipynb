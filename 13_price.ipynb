{
 "cells": [
  {
   "cell_type": "markdown",
   "metadata": {},
   "source": [
    "# Bite Size Bayes\n",
    "\n",
    "Copyright 2020 Allen B. Downey\n",
    "\n",
    "License: [Attribution-NonCommercial-ShareAlike 4.0 International (CC BY-NC-SA 4.0)](https://creativecommons.org/licenses/by-nc-sa/4.0/)"
   ]
  },
  {
   "cell_type": "code",
   "execution_count": 1,
   "metadata": {},
   "outputs": [],
   "source": [
    "import numpy as np\n",
    "import pandas as pd\n",
    "import matplotlib.pyplot as plt"
   ]
  },
  {
   "cell_type": "markdown",
   "metadata": {},
   "source": [
    "## Review\n",
    "\n",
    "[In a previous notebook](https://colab.research.google.com/github/AllenDowney/BiteSizeBayes/blob/master/09_predict.ipynb) we used the time between goals to update our estimate of the goal-scoring rate of a soccer team.\n",
    "\n",
    "Under the assumption that goal-scoring is well-modeled by a Poisson process, the time between goals follows an [exponential distribution](https://en.wikipedia.org/wiki/Exponential_distribution).\n",
    "\n",
    "In other words, if the goal-scoring rate is λ, the probability of seeing an interval between goals of $t$ is proportional to the PDF of the exponential distribution:\n",
    "\n",
    "$f(t; λ) = λ~\\exp(-λ t)$\n",
    "\n",
    "Because $t$ is a continuous quantity, the value of this expression is not really a probability; technically it is a [probability density](https://en.wikipedia.org/wiki/Probability_density_function).  However, it is proportional to the probability of the data, so we can use it as a likelihood in a Bayesian update.\n",
    "\n",
    "In this notebook, we'll use the PDF of a normal distribution the same way, in order to estimate the value of prizes on a game show.\n",
    "Once we compute a posterior distribution, we'll use it to optimize a decision-making process.\n",
    "\n",
    "This example demonstrates the real power of Bayesian methods, not just computing posterior distributions, but using them to make better decisions."
   ]
  },
  {
   "cell_type": "markdown",
   "metadata": {},
   "source": [
    "## The Price is Right problem\n",
    "\n",
    "On November 1, 2007, contestants named Letia and Nathaniel appeared on *The Price is Right*, an American game show. They competed in a game called \"The Showcase\", where the objective is to guess the price of a collection of prizes. The contestant who comes closest to the actual price, without going over, wins the prizes.\n",
    "\n",
    "Nathaniel went first. His showcase included a dishwasher, a wine cabinet, a laptop computer, and a car. He bid $26,000.\n",
    "\n",
    "Letia’s showcase included a pinball machine, a video arcade game, a pool table, and a cruise of the Bahamas. She bid $21,500.\n",
    "\n",
    "The actual price of Nathaniel’s showcase was $25,347. His bid was too high, so he lost.\n",
    "\n",
    "The actual price of Letia’s showcase was $21,578. \n",
    "\n",
    "She was only off by $78, so she won her showcase and, because her bid was off by less than 250, she also won Nathaniel’s showcase."
   ]
  },
  {
   "cell_type": "markdown",
   "metadata": {},
   "source": [
    "For a Bayesian thinker, this scenario suggests several questions:\n",
    "\n",
    "1. Before seeing the prizes, what prior beliefs should the contestant have about the price of the showcase?\n",
    "\n",
    "2. After seeing the prizes, how should the contestant update those beliefs?\n",
    "\n",
    "3. Based on the posterior distribution, what should the contestant bid?\n",
    "\n",
    "The third question demonstrates a common use of Bayesian methods: [decision analysis](https://en.wikipedia.org/wiki/Decision_analysis).\n",
    "\n",
    "This problem is inspired by [this example](https://nbviewer.jupyter.org/github/CamDavidsonPilon/Probabilistic-Programming-and-Bayesian-Methods-for-Hackers/blob/master/Chapter5_LossFunctions/Ch5_LossFunctions_PyMC3.ipynb) in Cameron Davidson-Pilon’s book, [Probablistic Programming and Bayesian Methods for Hackers](http://camdavidsonpilon.github.io/Probabilistic-Programming-and-Bayesian-Methods-for-Hackers)."
   ]
  },
  {
   "cell_type": "markdown",
   "metadata": {},
   "source": [
    "## The prior\n",
    "\n",
    "To choose a prior distribution of prices, we can take advantage of data from previous episodes. Fortunately, [fans of the show keep detailed records](https://web.archive.org/web/20121107204942/http://www.tpirsummaries.8m.com/). \n",
    "\n",
    "For this example, I downloaded files containing the price of each showcase from the 2011 and 2012 seasons and the bids offered by the contestants.\n",
    "\n",
    "The following cells load the data files."
   ]
  },
  {
   "cell_type": "code",
   "execution_count": 2,
   "metadata": {},
   "outputs": [],
   "source": [
    "# Load the data files\n",
    "import os\n",
    "\n",
    "if not os.path.exists('showcases.2011.csv'):\n",
    "    !wget https://github.com/AllenDowney/BiteSizeBayes/raw/master/showcases.2011.csv\n",
    "\n",
    "if not os.path.exists('showcases.2012.csv'):\n",
    "    !wget http://github.com/AllenDowney/BiteSizeBayes/raw/master/showcases.2012.csv"
   ]
  },
  {
   "cell_type": "markdown",
   "metadata": {},
   "source": [
    "The following function reads the data and cleans it up a little."
   ]
  },
  {
   "cell_type": "code",
   "execution_count": 3,
   "metadata": {},
   "outputs": [],
   "source": [
    "def read_data(filename):\n",
    "    \"\"\"Read the showcase price data.\n",
    "    \n",
    "    filename: string\n",
    "    \n",
    "    returns: DataFrame\n",
    "    \"\"\"\n",
    "    df = pd.read_csv(filename, index_col=0, skiprows=[1])\n",
    "    return df.dropna().transpose()"
   ]
  },
  {
   "cell_type": "markdown",
   "metadata": {},
   "source": [
    "I'll read both files and concatenate them."
   ]
  },
  {
   "cell_type": "code",
   "execution_count": 4,
   "metadata": {},
   "outputs": [],
   "source": [
    "df2011 = read_data('showcases.2011.csv')\n",
    "df2011.shape"
   ]
  },
  {
   "cell_type": "code",
   "execution_count": 5,
   "metadata": {},
   "outputs": [],
   "source": [
    "df2012 = read_data('showcases.2012.csv')\n",
    "df2012.shape"
   ]
  },
  {
   "cell_type": "code",
   "execution_count": 6,
   "metadata": {},
   "outputs": [],
   "source": [
    "df = pd.concat([df2011, df2012], ignore_index=True)\n",
    "df.shape"
   ]
  },
  {
   "cell_type": "markdown",
   "metadata": {},
   "source": [
    "Here's what the dataset looks like:"
   ]
  },
  {
   "cell_type": "code",
   "execution_count": 7,
   "metadata": {},
   "outputs": [],
   "source": [
    "df.head()"
   ]
  },
  {
   "cell_type": "markdown",
   "metadata": {},
   "source": [
    "## Kernel density estimation\n",
    "\n",
    "This dataset contains the prices for 313 previous showcases, which we can think of as a sample from the population of possible prices.\n",
    "\n",
    "We can use this sample to estimate the prior distribution of showcase prices.  One way to do that is kernel density estimation (KDE), which uses the sample to estimate a smooth distribution.\n",
    "\n",
    "SciPy provides `gaussian_kde`, which takes a sample and returns an object that represents the estimated distribution."
   ]
  },
  {
   "cell_type": "code",
   "execution_count": 8,
   "metadata": {},
   "outputs": [],
   "source": [
    "from scipy.stats import gaussian_kde\n",
    "\n",
    "kde = gaussian_kde(df['Showcase 1'])\n",
    "kde"
   ]
  },
  {
   "cell_type": "markdown",
   "metadata": {},
   "source": [
    "We can use `kde` to evaluate the estimated distribution for a sequence of values:"
   ]
  },
  {
   "cell_type": "code",
   "execution_count": 9,
   "metadata": {},
   "outputs": [],
   "source": [
    "xs = np.linspace(0, 80000, 81)\n",
    "ps = kde(xs)"
   ]
  },
  {
   "cell_type": "markdown",
   "metadata": {},
   "source": [
    "And put the results into a normalized Series that represents the prior distribution for Showcase 1."
   ]
  },
  {
   "cell_type": "code",
   "execution_count": 10,
   "metadata": {},
   "outputs": [],
   "source": [
    "def make_pmf(xs, ps, **options):\n",
    "    \"\"\"Make a Series that represents a PMF.\n",
    "    \n",
    "    xs: sequence of values\n",
    "    ps: sequence of probabilities\n",
    "    options: keyword arguments passed to Series constructor\n",
    "    \n",
    "    returns: Pandas Series\n",
    "    \"\"\"\n",
    "    pmf = pd.Series(ps, index=xs, **options)\n",
    "    return pmf"
   ]
  },
  {
   "cell_type": "code",
   "execution_count": 11,
   "metadata": {},
   "outputs": [],
   "source": [
    "prior1 = make_pmf(xs, ps)\n",
    "prior1 /= prior1.sum()"
   ]
  },
  {
   "cell_type": "markdown",
   "metadata": {},
   "source": [
    "Here's what it looks like:"
   ]
  },
  {
   "cell_type": "code",
   "execution_count": 12,
   "metadata": {},
   "outputs": [],
   "source": [
    "prior1.plot(label='Prior 1')\n",
    "\n",
    "plt.xlabel('Showcase value ($)')\n",
    "plt.ylabel('Probability')\n",
    "plt.title('Prior distribution of showcase value')\n",
    "plt.legend();"
   ]
  },
  {
   "cell_type": "markdown",
   "metadata": {},
   "source": [
    "The following function takes a sample, makes a KDE, evaluates it at a given sequence of `xs`, and returns the result as a normalized PMF."
   ]
  },
  {
   "cell_type": "code",
   "execution_count": 13,
   "metadata": {},
   "outputs": [],
   "source": [
    "def make_kde(xs, sample):\n",
    "    \"\"\"Make a PMF based on KDE:\n",
    "    \n",
    "    xs: places where we should evaluate the KDE\n",
    "    sample: sequence of values\n",
    "    \n",
    "    returns: Series that represents a normalized PMF\n",
    "    \"\"\"\n",
    "    kde = gaussian_kde(sample)\n",
    "    ps = kde(xs)\n",
    "    pmf = make_pmf(xs, ps)\n",
    "    pmf /= pmf.sum()\n",
    "    return pmf"
   ]
  },
  {
   "cell_type": "markdown",
   "metadata": {},
   "source": [
    "**Exercise:** Use this function to make a Pmf that represents the prior distribution for Showcase 2, and plot it."
   ]
  },
  {
   "cell_type": "code",
   "execution_count": 14,
   "metadata": {},
   "outputs": [],
   "source": [
    "# Solution goes here"
   ]
  },
  {
   "cell_type": "code",
   "execution_count": 15,
   "metadata": {},
   "outputs": [],
   "source": [
    "# Solution goes here"
   ]
  },
  {
   "cell_type": "markdown",
   "metadata": {},
   "source": [
    "## Distribution of error\n",
    "\n",
    "To update these priors, we have to answer these questions:\n",
    "\n",
    "* What data should we consider and how should we quantify it?\n",
    "\n",
    "* Can we compute a likelihood function; that is, for each hypothetical price, can we compute the conditional likelihood of the data?\n",
    "\n",
    "To answer these questions, I will model the contestant as a price-guessing instrument with known error characteristics. In other words, when the contestant sees the prizes, they guess the price of each prize --- ideally without taking into consideration the fact that the prize is part of a showcase --- and add up the prices. Let’s call this total `guess`.\n",
    "\n",
    "Under this model, the question we have to answer is, “If the actual price is `price`, what is the likelihood that the contestant’s estimate would be `guess`?”\n",
    "\n",
    "Equivalently, if we define `error = guess - price`, we can ask, “What is the likelihood that the contestant’s estimate is off by `error`?”\n",
    "\n",
    "To answer this question, I'll use the historical data again. For each showcase in the dataset, let's look at the difference between the contestant's bid and the actual price:"
   ]
  },
  {
   "cell_type": "code",
   "execution_count": 16,
   "metadata": {},
   "outputs": [],
   "source": [
    "sample_diff1 = df['Bid 1'] - df['Showcase 1']\n",
    "sample_diff2 = df['Bid 2'] - df['Showcase 2']"
   ]
  },
  {
   "cell_type": "markdown",
   "metadata": {},
   "source": [
    "To visualize the distribution of these differences, we can use KDE again."
   ]
  },
  {
   "cell_type": "code",
   "execution_count": 17,
   "metadata": {},
   "outputs": [],
   "source": [
    "xs = np.linspace(-40000, 20000, 61)\n",
    "kde_diff1 = make_kde(xs, sample_diff1)\n",
    "kde_diff2 = make_kde(xs, sample_diff2)"
   ]
  },
  {
   "cell_type": "code",
   "execution_count": 18,
   "metadata": {},
   "outputs": [],
   "source": [
    "kde_diff1.plot(label='Diff 1')\n",
    "kde_diff2.plot(label='Diff 2')\n",
    "\n",
    "plt.xlabel('Difference in value ($)')\n",
    "plt.ylabel('Probability')\n",
    "plt.title('Difference between bid and actual value')\n",
    "plt.legend();"
   ]
  },
  {
   "cell_type": "markdown",
   "metadata": {},
   "source": [
    "It looks like the bids are too low more often than too high, which makes sense.  Remember that under the rules of the game, you lose if you overbid, so contestants probably underbid to some degree deliberately.\n",
    "\n",
    "Here is the mean and standard deviation of `Diff` for Player 1."
   ]
  },
  {
   "cell_type": "code",
   "execution_count": 19,
   "metadata": {},
   "outputs": [],
   "source": [
    "mean_diff1 = sample_diff1.mean()\n",
    "std_diff1 = sample_diff1.std()\n",
    "\n",
    "mean_diff1, std_diff1"
   ]
  },
  {
   "cell_type": "markdown",
   "metadata": {},
   "source": [
    "We can use the observed distribution of differences to model the contestant's distribution of errors.\n",
    "\n",
    "This step is a little tricky because we don’t actually know the contestant’s guesses; we only know what they bid.\n",
    "\n",
    "So we have to make some assumptions:\n",
    "\n",
    "* I'll assume that contestants underbid because they are being strategic, and that on average their guesses are accurate.  In other word, the mean of their errors is 0.\n",
    "\n",
    "* But I'll assume that the spread of the differences reflects the actual spread of their errors.  So, I'll use the standard deviation of the differences as the standard deviation of their errors.\n",
    "\n",
    "Based on these assumptions, I'll make a normal distribution with parameters 0 and `std_diff1`."
   ]
  },
  {
   "cell_type": "code",
   "execution_count": 20,
   "metadata": {},
   "outputs": [],
   "source": [
    "from scipy.stats import norm\n",
    "\n",
    "error_dist1 = norm(0, std_diff1)\n",
    "error_dist1"
   ]
  },
  {
   "cell_type": "markdown",
   "metadata": {},
   "source": [
    "We'll use this distribution to do the update."
   ]
  },
  {
   "cell_type": "markdown",
   "metadata": {},
   "source": [
    "## Update\n",
    "\n",
    "Suppose you are Player 1.  You see the prizes in your showcase and your estimate of the total price is $23,000.\n",
    "\n",
    "For each hypothetical price in the prior distribution, I'll subtract away your guess.\n",
    "The result is your error under each hypothesis."
   ]
  },
  {
   "cell_type": "code",
   "execution_count": 21,
   "metadata": {},
   "outputs": [],
   "source": [
    "guess1 = 23000\n",
    "\n",
    "xs = prior1.index\n",
    "error1 = guess1 - xs"
   ]
  },
  {
   "cell_type": "markdown",
   "metadata": {},
   "source": [
    "Now suppose you know based on past performance that your estimation error is well modeled by `error_dist1`.\n",
    "\n",
    "Under that assumption we can compute the likelihood of your estimate under each hypothesis."
   ]
  },
  {
   "cell_type": "code",
   "execution_count": 22,
   "metadata": {},
   "outputs": [],
   "source": [
    "likelihood1 = error_dist1.pdf(error1)"
   ]
  },
  {
   "cell_type": "markdown",
   "metadata": {},
   "source": [
    "And we can use that likelihood to update the prior."
   ]
  },
  {
   "cell_type": "code",
   "execution_count": 23,
   "metadata": {},
   "outputs": [],
   "source": [
    "posterior1 = prior1 * likelihood1\n",
    "posterior1 /= posterior1.sum()"
   ]
  },
  {
   "cell_type": "markdown",
   "metadata": {},
   "source": [
    "Here's what the posterior distribution looks like:"
   ]
  },
  {
   "cell_type": "code",
   "execution_count": 24,
   "metadata": {},
   "outputs": [],
   "source": [
    "prior1.plot(color='gray', label='Prior 1')\n",
    "posterior1.plot(color='C0', label='Posterior 1')\n",
    "\n",
    "plt.xlabel('Showcase value ($)')\n",
    "plt.ylabel('Probability')\n",
    "plt.title('Prior and posterior distribution of showcase value')\n",
    "plt.legend();"
   ]
  },
  {
   "cell_type": "markdown",
   "metadata": {},
   "source": [
    "Because your estimate is in the lower end of the range, the posterior distribution has shifted to the left.  We can use the posterior mean to see by how much."
   ]
  },
  {
   "cell_type": "code",
   "execution_count": 25,
   "metadata": {},
   "outputs": [],
   "source": [
    "def pmf_mean(pmf):\n",
    "    \"\"\"Compute the mean of a PMF.\n",
    "    \n",
    "    pmf: Series representing a PMF\n",
    "    \n",
    "    return: float\n",
    "    \"\"\"\n",
    "    return np.sum(pmf.index * pmf)"
   ]
  },
  {
   "cell_type": "code",
   "execution_count": 26,
   "metadata": {},
   "outputs": [],
   "source": [
    "pmf_mean(prior1), pmf_mean(posterior1)"
   ]
  },
  {
   "cell_type": "markdown",
   "metadata": {},
   "source": [
    "Before you saw the prizes, you expected to see a showcase with a value close to $30,000.\n",
    "\n",
    "After making an estimate of $23,000, you updated the prior distribution.\n",
    "\n",
    "Based on the combination of the prior and your estimate, you now expect the actual price to be about $26,000."
   ]
  },
  {
   "cell_type": "markdown",
   "metadata": {},
   "source": [
    "**Exercise:** Now suppose you are Player 2.  When you see your showcase, you estimte that the total price is $38,000.\n",
    "\n",
    "Use `diff2` to construct a normal distribution that represents the distribution of your estimation errors.\n",
    "\n",
    "Compute the likelihood of your estimate for each actual price and use it to update `prior2`.\n",
    "\n",
    "Plot the posterior distribution and compute the posterior mean.  Based on your estimate, what do you expect the actual price of the showcase to be?"
   ]
  },
  {
   "cell_type": "code",
   "execution_count": 27,
   "metadata": {},
   "outputs": [],
   "source": [
    "# Solution goes here"
   ]
  },
  {
   "cell_type": "code",
   "execution_count": 28,
   "metadata": {},
   "outputs": [],
   "source": [
    "# Solution goes here"
   ]
  },
  {
   "cell_type": "code",
   "execution_count": 29,
   "metadata": {},
   "outputs": [],
   "source": [
    "# Solution goes here"
   ]
  },
  {
   "cell_type": "code",
   "execution_count": 30,
   "metadata": {},
   "outputs": [],
   "source": [
    "# Solution goes here"
   ]
  },
  {
   "cell_type": "code",
   "execution_count": 31,
   "metadata": {},
   "outputs": [],
   "source": [
    "# Solution goes here"
   ]
  },
  {
   "cell_type": "code",
   "execution_count": 32,
   "metadata": {},
   "outputs": [],
   "source": [
    "# Solution goes here"
   ]
  },
  {
   "cell_type": "markdown",
   "metadata": {},
   "source": [
    "## Probability of winning\n",
    "\n",
    "Now that we have a posterior distribution for each player, let's think about strategy.\n",
    "\n",
    "First, from the point of view of Player 1, let's compute the probability that Player 2 overbids.  To keep it simple, I'll use only the performance of past players, ignoring the estimated value of the showcase. \n",
    "\n",
    "The following function takes a sequence of past bids and returns the fraction that overbid."
   ]
  },
  {
   "cell_type": "code",
   "execution_count": 33,
   "metadata": {},
   "outputs": [],
   "source": [
    "def prob_overbid(sample_diff):\n",
    "    \"\"\"Returns the probability this player overbids.\n",
    "\n",
    "    sample_diff: sequence of differences\n",
    "    \"\"\"\n",
    "    return np.mean(sample_diff > 0)"
   ]
  },
  {
   "cell_type": "markdown",
   "metadata": {},
   "source": [
    "Here's an estimate for the probability that Player 2 overbids."
   ]
  },
  {
   "cell_type": "code",
   "execution_count": 34,
   "metadata": {},
   "outputs": [],
   "source": [
    "prob_overbid(sample_diff2)"
   ]
  },
  {
   "cell_type": "markdown",
   "metadata": {},
   "source": [
    "Now suppose Player 1 underbids by $5000.\n",
    "What is the probability that Player 2 underbids by more?\n",
    "\n",
    "The following function uses past performance to estimate the probabily that a player underbids by more than a given amount, `diff`:"
   ]
  },
  {
   "cell_type": "code",
   "execution_count": 35,
   "metadata": {},
   "outputs": [],
   "source": [
    "def prob_worse_than(diff, sample_diff):\n",
    "    \"\"\"Probability the opponents's diff is worse than the given diff.\n",
    "\n",
    "    diff: how much the oppenent is off by (always negative)\n",
    "    sample_diff: sequence of differences for the opponent\n",
    "    \"\"\"\n",
    "    return np.mean(sample_diff < diff)"
   ]
  },
  {
   "cell_type": "markdown",
   "metadata": {},
   "source": [
    "Here's the probability that Player 2 underbids by more than $5000."
   ]
  },
  {
   "cell_type": "code",
   "execution_count": 36,
   "metadata": {},
   "outputs": [],
   "source": [
    "prob_worse_than(-5000, sample_diff2)"
   ]
  },
  {
   "cell_type": "markdown",
   "metadata": {},
   "source": [
    "And here's the probability they are off by more than $10,000."
   ]
  },
  {
   "cell_type": "code",
   "execution_count": 37,
   "metadata": {},
   "outputs": [],
   "source": [
    "prob_worse_than(-10000, sample_diff2)"
   ]
  },
  {
   "cell_type": "markdown",
   "metadata": {},
   "source": [
    "We can combine these function to compute the probability that Player 1 wins, given the difference between their bid and the actual price:"
   ]
  },
  {
   "cell_type": "code",
   "execution_count": 38,
   "metadata": {},
   "outputs": [],
   "source": [
    "def compute_prob_win(diff, sample_diff):\n",
    "    \"\"\"Computes the probability of winning for a given diff.\n",
    "\n",
    "    diff: how much your bid was off by\n",
    "    sample_diff: sequence of differences for the opponent\n",
    "    \"\"\"\n",
    "    # if you overbid you lose\n",
    "    if diff > 0:\n",
    "        return 0\n",
    "    \n",
    "    # if the opponent over bids, you win\n",
    "    p1 = prob_overbid(sample_diff)\n",
    "    \n",
    "    # or of their bid is worse than yours, you win\n",
    "    p2 = prob_worse_than(diff, sample_diff)\n",
    "    return p1 + p2"
   ]
  },
  {
   "cell_type": "markdown",
   "metadata": {},
   "source": [
    "Here's the probability that you win, given that you underbid by $5000."
   ]
  },
  {
   "cell_type": "code",
   "execution_count": 39,
   "metadata": {},
   "outputs": [],
   "source": [
    "compute_prob_win(-5000, sample_diff2)"
   ]
  },
  {
   "cell_type": "markdown",
   "metadata": {},
   "source": [
    "Now let's look at the probability of winning for a range of possible differences."
   ]
  },
  {
   "cell_type": "code",
   "execution_count": 40,
   "metadata": {},
   "outputs": [],
   "source": [
    "xs = np.linspace(-30000, 5000, 121)\n",
    "ys = [compute_prob_win(x, sample_diff2) for x in xs]\n",
    "\n",
    "plt.plot(xs, ys)\n",
    "plt.xlabel('Difference between guess and actual price ($)')\n",
    "plt.ylabel('Probability of winning')\n",
    "plt.title('Player 1');"
   ]
  },
  {
   "cell_type": "markdown",
   "metadata": {},
   "source": [
    "If you underbid by $30,000, the chance of winning is about 30%, which is mostly the chance your opponent overbids.\n",
    "\n",
    "As your bids gets closer to the actual price, your chance of winning approaches 1.\n",
    "\n",
    "And, of course, if you overbid, you lose (even if your opponent also overbids)."
   ]
  },
  {
   "cell_type": "markdown",
   "metadata": {},
   "source": [
    "**Exercise:** Run the same analysis from the point of view of Player 2.  Using the sample of differences from Player 1, compute:\n",
    "\n",
    "1. The probability that Player 1 overbids.\n",
    "\n",
    "2. The probability that Player 1 underbids by more than $5000.\n",
    "\n",
    "3. The probability that Player 2 wins, given that they underbid by $5000.\n",
    "\n",
    "Then plot the probability that Player 2 wins for a range of possible differences between their bid and the actual price."
   ]
  },
  {
   "cell_type": "code",
   "execution_count": 41,
   "metadata": {},
   "outputs": [],
   "source": [
    "prob_overbid(sample_diff1)"
   ]
  },
  {
   "cell_type": "code",
   "execution_count": 42,
   "metadata": {},
   "outputs": [],
   "source": [
    "prob_worse_than(-5000, sample_diff1)"
   ]
  },
  {
   "cell_type": "code",
   "execution_count": 43,
   "metadata": {},
   "outputs": [],
   "source": [
    "compute_prob_win(-5000, sample_diff1)"
   ]
  },
  {
   "cell_type": "code",
   "execution_count": 44,
   "metadata": {},
   "outputs": [],
   "source": [
    "xs = np.linspace(-30000, 5000, 121)\n",
    "ys = [compute_prob_win(x, sample_diff1) for x in xs]\n",
    "\n",
    "plt.plot(xs, ys)\n",
    "plt.xlabel('Difference between guess and actual price ($)')\n",
    "plt.ylabel('Probability of winning')\n",
    "plt.title('Player 2');"
   ]
  },
  {
   "cell_type": "markdown",
   "metadata": {},
   "source": [
    "## Decision analysis\n",
    "\n",
    "In the previous section we computed the probability of winning, given that we have underbid by a particular amount.\n",
    "\n",
    "In reality the contestants don't know how much they have underbid by, because they don't know the actual price.\n",
    "\n",
    "But they do have a posterior distribution that represents their beliefs about the actual price, and they can use that to estimate their probability of winning with a given bid.\n",
    "\n",
    "The following function take a possible bid, a posterior distribution of actual prices, and a sample of differences for the opponent.\n",
    "\n",
    "It loops through the hypothetical prices in the posterior distribution and for each price:\n",
    "\n",
    "1. Computes the difference between the bid and the hypothetical price.\n",
    "\n",
    "2. Computes the probability that the player wins, given that difference.\n",
    "\n",
    "3. Adds up the weighted sum of the probabilities, where the weights are the probabilites in the posterior distribution. "
   ]
  },
  {
   "cell_type": "code",
   "execution_count": 45,
   "metadata": {},
   "outputs": [],
   "source": [
    "def total_prob_win(bid, posterior, sample_diff):\n",
    "    \"\"\"Computes the total probability of winning with a given bid.\n",
    "\n",
    "    bid: your bid\n",
    "    posterior: Pmf of showcase value\n",
    "    sample_diff: sequence of differences for the opponent\n",
    "    \n",
    "    returns: probability of winning\n",
    "    \"\"\"\n",
    "    total = 0\n",
    "    for price, prob in posterior.items():\n",
    "        diff = bid - price\n",
    "        total += prob * compute_prob_win(diff, sample_diff)\n",
    "    return total"
   ]
  },
  {
   "cell_type": "markdown",
   "metadata": {},
   "source": [
    "This loop implements the law of total probability:\n",
    "\n",
    "$P(win) = \\sum_{price} P(price) ~ P(win ~|~ price)$"
   ]
  },
  {
   "cell_type": "code",
   "execution_count": 46,
   "metadata": {},
   "outputs": [],
   "source": [
    "total_prob_win(25000, posterior1, sample_diff2)"
   ]
  },
  {
   "cell_type": "code",
   "execution_count": 47,
   "metadata": {},
   "outputs": [],
   "source": [
    "bids = posterior1.index\n",
    "\n",
    "probs = [total_prob_win(bid, posterior1, sample_diff2) \n",
    "         for bid in bids]\n",
    "\n",
    "prob_win_series = pd.Series(probs, index=bids)"
   ]
  },
  {
   "cell_type": "code",
   "execution_count": 48,
   "metadata": {},
   "outputs": [],
   "source": [
    "prob_win_series.plot(color='C1')\n",
    "\n",
    "plt.xlabel('Bid ($)')\n",
    "plt.ylabel('Probability of winning')\n",
    "plt.title('Player 1');"
   ]
  },
  {
   "cell_type": "markdown",
   "metadata": {},
   "source": [
    "And here's the bid that maximizes your chance of winning."
   ]
  },
  {
   "cell_type": "code",
   "execution_count": 49,
   "metadata": {},
   "outputs": [],
   "source": [
    "prob_win_series.idxmax()"
   ]
  },
  {
   "cell_type": "markdown",
   "metadata": {},
   "source": [
    "Recall that your estimate was $23,000.\n",
    "\n",
    "After using your estimate to compute the posterior distribution, the posterior mean is about $26,000.\n",
    "\n",
    "But the bid that maximizes your chance of winning is $21,000."
   ]
  },
  {
   "cell_type": "markdown",
   "metadata": {},
   "source": [
    "**Exercise:** Do the same analysis for Player 2."
   ]
  },
  {
   "cell_type": "code",
   "execution_count": 50,
   "metadata": {},
   "outputs": [],
   "source": [
    "# Solution goes here"
   ]
  },
  {
   "cell_type": "code",
   "execution_count": 51,
   "metadata": {},
   "outputs": [],
   "source": [
    "# Solution goes here"
   ]
  },
  {
   "cell_type": "code",
   "execution_count": 52,
   "metadata": {},
   "outputs": [],
   "source": [
    "# Solution goes here"
   ]
  },
  {
   "cell_type": "markdown",
   "metadata": {},
   "source": [
    "## Maximizing expected gain\n",
    "\n",
    "In the previous section we computed the bid that maximizes your chance of winning.\n",
    "And if that's your goal, the bid we computed is optimal.\n",
    "\n",
    "But winning isn't everything.\n",
    "Remember that if your bid is off by $250 or less, you will both showcases.\n",
    "So it might be a good idea to increase your bid a little: it increases the chance you overbid and lose, but it also increases the chance of winning both showcases.\n",
    "\n",
    "Let's see how that works out.\n",
    "The following function computes how much you will win, on average, given your bid, the actual price, and a sample of errors for your opponent."
   ]
  },
  {
   "cell_type": "code",
   "execution_count": 53,
   "metadata": {},
   "outputs": [],
   "source": [
    "def compute_gain(bid, price, sample_diff):\n",
    "    \"\"\"Computes expected gain given a bid and actual price.\n",
    "\n",
    "    bid: number\n",
    "    price: actual price\n",
    "    sample_diff: sequence of differences for the opponent\n",
    "    \"\"\"\n",
    "    diff = bid - price\n",
    "    prob = compute_prob_win(diff, sample_diff)\n",
    "\n",
    "    # if you are within 250 dollars, you win both showcases\n",
    "    if -250 <= diff <= 0:\n",
    "        return 2 * price * prob\n",
    "    else:\n",
    "        return price * prob"
   ]
  },
  {
   "cell_type": "markdown",
   "metadata": {},
   "source": [
    "For example, if the actual price is $35000 \n",
    "\n",
    "and you bid $30000, \n",
    "\n",
    "you will win about $23,600 worth of prizes on average."
   ]
  },
  {
   "cell_type": "code",
   "execution_count": 54,
   "metadata": {},
   "outputs": [],
   "source": [
    "compute_gain(30000, 35000, sample_diff2)"
   ]
  },
  {
   "cell_type": "markdown",
   "metadata": {},
   "source": [
    "In reality we don't know the actual price, but we have a posterior distribution that represents what we know about it.\n",
    "By averaging over the prices and probabilities in the posterior distribution, we can compute the \"expected gain\" for a particular bid."
   ]
  },
  {
   "cell_type": "code",
   "execution_count": 55,
   "metadata": {},
   "outputs": [],
   "source": [
    "def expected_gain(bid, posterior, sample_diff):\n",
    "    \"\"\"Computes the expected return of a given bid.\n",
    "\n",
    "    bid: your bid\n",
    "    posterior: distribution of showcase values\n",
    "    sample_diff: distribution of differences for the opponent\n",
    "    \"\"\"\n",
    "    total = 0\n",
    "    for price, prob in posterior.items():\n",
    "        total += prob * compute_gain(bid, price, sample_diff)\n",
    "    return total"
   ]
  },
  {
   "cell_type": "markdown",
   "metadata": {},
   "source": [
    "For the posterior we computed earlier, based on an estimate of $23,000, \n",
    "\n",
    "the expected gain for a bid of $21,000\n",
    "\n",
    "is about $16,900."
   ]
  },
  {
   "cell_type": "code",
   "execution_count": 56,
   "metadata": {},
   "outputs": [],
   "source": [
    "expected_gain(21000, posterior1, sample_diff2)"
   ]
  },
  {
   "cell_type": "markdown",
   "metadata": {},
   "source": [
    "But can we do any better? \n",
    "\n",
    "To find out, we can loop through a range of bids and find the one that maximizes expected gain."
   ]
  },
  {
   "cell_type": "code",
   "execution_count": 57,
   "metadata": {},
   "outputs": [],
   "source": [
    "bids = posterior1.index\n",
    "\n",
    "gains = [expected_gain(bid, posterior1, sample_diff2) for bid in bids]\n",
    "\n",
    "expected_gain_series = pd.Series(gains, index=bids)"
   ]
  },
  {
   "cell_type": "markdown",
   "metadata": {},
   "source": [
    "Here are the results."
   ]
  },
  {
   "cell_type": "code",
   "execution_count": 58,
   "metadata": {},
   "outputs": [],
   "source": [
    "expected_gain_series.plot(color='C1')\n",
    "\n",
    "plt.xlabel('Bid ($)')\n",
    "plt.ylabel('Expected gain ($)')\n",
    "plt.title('Player 1');"
   ]
  },
  {
   "cell_type": "markdown",
   "metadata": {},
   "source": [
    "And here is the optimal bid."
   ]
  },
  {
   "cell_type": "code",
   "execution_count": 59,
   "metadata": {},
   "outputs": [],
   "source": [
    "expected_gain_series.idxmax()"
   ]
  },
  {
   "cell_type": "markdown",
   "metadata": {},
   "source": [
    "With that bid, the expected gain is about $17,400."
   ]
  },
  {
   "cell_type": "code",
   "execution_count": 60,
   "metadata": {},
   "outputs": [],
   "source": [
    "expected_gain_series.max()"
   ]
  },
  {
   "cell_type": "markdown",
   "metadata": {},
   "source": [
    "Recall that the estimated value of the prizes was $23,000.\n",
    "\n",
    "The bid that maximizes the chance of winning is $21,000.\n",
    "\n",
    "And the bid that maximizes your the expected gain is $22,000."
   ]
  },
  {
   "cell_type": "markdown",
   "metadata": {},
   "source": [
    "**Exercise:** Do the same analysis for Player 2."
   ]
  },
  {
   "cell_type": "code",
   "execution_count": 61,
   "metadata": {},
   "outputs": [],
   "source": [
    "bids = posterior2.index\n",
    "\n",
    "gains = [expected_gain(bid, posterior2, sample_diff1) for bid in bids]\n",
    "\n",
    "expected_gain_series = pd.Series(gains, index=bids)"
   ]
  },
  {
   "cell_type": "markdown",
   "metadata": {},
   "source": [
    "Here are the results."
   ]
  },
  {
   "cell_type": "code",
   "execution_count": 62,
   "metadata": {},
   "outputs": [],
   "source": [
    "expected_gain_series.plot(color='C2')\n",
    "\n",
    "plt.xlabel('Bid ($)')\n",
    "plt.ylabel('Expected gain ($)')\n",
    "plt.title('Player 2');"
   ]
  },
  {
   "cell_type": "markdown",
   "metadata": {},
   "source": [
    "And here is the optimal bid."
   ]
  },
  {
   "cell_type": "code",
   "execution_count": 63,
   "metadata": {},
   "outputs": [],
   "source": [
    "expected_gain_series.idxmax()"
   ]
  },
  {
   "cell_type": "markdown",
   "metadata": {},
   "source": [
    "## Review\n",
    "\n",
    "In this notebook\n",
    "\n",
    "[In the next notebook](https://colab.research.google.com/github/AllenDowney/BiteSizeBayes/blob/master/13_xxx.ipynb)"
   ]
  },
  {
   "cell_type": "code",
   "execution_count": null,
   "metadata": {},
   "outputs": [],
   "source": []
  },
  {
   "cell_type": "code",
   "execution_count": null,
   "metadata": {},
   "outputs": [],
   "source": []
  }
 ],
 "metadata": {
  "kernelspec": {
   "display_name": "Python 3",
   "language": "python",
   "name": "python3"
  },
  "language_info": {
   "codemirror_mode": {
    "name": "ipython",
    "version": 3
   },
   "file_extension": ".py",
   "mimetype": "text/x-python",
   "name": "python",
   "nbconvert_exporter": "python",
   "pygments_lexer": "ipython3",
   "version": "3.7.6"
  }
 },
 "nbformat": 4,
 "nbformat_minor": 1
}
